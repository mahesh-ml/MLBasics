{
  "nbformat": 4,
  "nbformat_minor": 0,
  "metadata": {
    "colab": {
      "name": "ConvOperationsCNN.ipynb",
      "provenance": [],
      "collapsed_sections": [],
      "authorship_tag": "ABX9TyPZ6OnAvU7el9tNQuRZEUGx",
      "include_colab_link": true
    },
    "kernelspec": {
      "name": "python3",
      "display_name": "Python 3"
    },
    "language_info": {
      "name": "python"
    }
  },
  "cells": [
    {
      "cell_type": "markdown",
      "metadata": {
        "id": "view-in-github",
        "colab_type": "text"
      },
      "source": [
        "<a href=\"https://colab.research.google.com/github/mahesh-ml/MLBasics/blob/main/ConvOperationsCNN.ipynb\" target=\"_parent\"><img src=\"https://colab.research.google.com/assets/colab-badge.svg\" alt=\"Open In Colab\"/></a>"
      ]
    },
    {
      "cell_type": "code",
      "metadata": {
        "colab": {
          "base_uri": "https://localhost:8080/"
        },
        "id": "dvfBpsuWl6AF",
        "outputId": "0b851c52-47b3-41a0-92ee-a9bd27911168"
      },
      "source": [
        ""
      ],
      "execution_count": 12,
      "outputs": [
        {
          "output_type": "stream",
          "name": "stderr",
          "text": [
            "UsageError: Line magic function `%md` not found.\n"
          ]
        }
      ]
    },
    {
      "cell_type": "code",
      "metadata": {
        "id": "mVIVNEXmgn1L"
      },
      "source": [
        "import numpy as np\n",
        "import torch\n",
        "import torch.nn as nn\n",
        "import matplotlib.pyplot as plt"
      ],
      "execution_count": 26,
      "outputs": []
    },
    {
      "cell_type": "code",
      "metadata": {
        "id": "oAMFBL2Lh7le"
      },
      "source": [
        "#Parameters\n",
        "inChannels = 3 #RGB\n",
        "outChannels= 15 #feature maps 15 diff kernels with kernelSize\n",
        "kernelSize= 5 #should be an odd number\n",
        "stride = 1\n",
        "padding = 0"
      ],
      "execution_count": 3,
      "outputs": []
    },
    {
      "cell_type": "code",
      "metadata": {
        "id": "9qM3ikX_ibjk"
      },
      "source": [
        "#create Conv2d instance\n",
        "c = nn.Conv2d(inChannels , outChannels , \n",
        "              kernelSize , stride, padding)"
      ],
      "execution_count": 5,
      "outputs": []
    },
    {
      "cell_type": "code",
      "metadata": {
        "colab": {
          "base_uri": "https://localhost:8080/"
        },
        "id": "VroTrX-lizjX",
        "outputId": "56ffa926-7627-4257-b519-0c1d389f5d4f"
      },
      "source": [
        "#Print conv2d\n",
        "print(c)"
      ],
      "execution_count": 6,
      "outputs": [
        {
          "output_type": "stream",
          "name": "stdout",
          "text": [
            "Conv2d(3, 15, kernel_size=(5, 5), stride=(1, 1))\n"
          ]
        }
      ]
    },
    {
      "cell_type": "code",
      "metadata": {
        "colab": {
          "base_uri": "https://localhost:8080/"
        },
        "id": "j1x2OI5xjBFW",
        "outputId": "b1713509-0dcb-424d-e6ce-e6622b27f5b0"
      },
      "source": [
        "#check weights , dimensions\n",
        "print('size of weights: ' + str(c.weight.shape))\n",
        "print('size of bias: ' + str(c.bias.shape))"
      ],
      "execution_count": 8,
      "outputs": [
        {
          "output_type": "stream",
          "name": "stdout",
          "text": [
            "size of weights: torch.Size([15, 3, 5, 5])\n",
            "size of bias: torch.Size([15])\n"
          ]
        }
      ]
    },
    {
      "cell_type": "code",
      "metadata": {
        "colab": {
          "base_uri": "https://localhost:8080/",
          "height": 319
        },
        "id": "vY7HgWIEjnvU",
        "outputId": "1cbff372-843e-4a69-9c2f-2946a782162f"
      },
      "source": [
        "#lets look at convulation of an image\n",
        "imgSize = (1,3,64,64) # N , Channels RGB, width , height\n",
        "img = torch.rand(imgSize)\n",
        "# pytorch needs channel first param but matplotlib need channel at last\n",
        "img2View = img.permute(2,3,1,0).numpy() \n",
        "print(img.shape)\n",
        "print(img2View.shape)\n",
        "\n",
        "plt.imshow(np.squeeze(img2View))"
      ],
      "execution_count": 9,
      "outputs": [
        {
          "output_type": "stream",
          "name": "stdout",
          "text": [
            "torch.Size([1, 3, 64, 64])\n",
            "(64, 64, 3, 1)\n"
          ]
        },
        {
          "output_type": "execute_result",
          "data": {
            "text/plain": [
              "<matplotlib.image.AxesImage at 0x7f966a090a10>"
            ]
          },
          "metadata": {},
          "execution_count": 9
        },
        {
          "output_type": "display_data",
          "data": {
            "image/png": "[encoded data removed]",
            "text/plain": [
              "<Figure size 432x288 with 1 Axes>"
            ]
          },
          "metadata": {
            "needs_background": "light"
          }
        }
      ]
    },
    {
      "cell_type": "code",
      "metadata": {
        "colab": {
          "base_uri": "https://localhost:8080/"
        },
        "id": "lqAhcd2llABJ",
        "outputId": "3b3a8e96-ff51-4092-a5bc-8116eb99a400"
      },
      "source": [
        "#apply conv on test image\n",
        "convRes =c(img)\n",
        "print(img.shape)\n",
        "print(convRes.shape)"
      ],
      "execution_count": 10,
      "outputs": [
        {
          "output_type": "stream",
          "name": "stdout",
          "text": [
            "torch.Size([1, 3, 64, 64])\n",
            "torch.Size([1, 15, 60, 60])\n"
          ]
        }
      ]
    },
    {
      "cell_type": "code",
      "metadata": {
        "colab": {
          "base_uri": "https://localhost:8080/"
        },
        "id": "D_1cE5OslXUv",
        "outputId": "8ffa6016-0916-4220-c356-7246a5bfe1af"
      },
      "source": [
        "#exercises\n",
        "#convulve an image of size 1*256*256 to produce 1*252*84 result\n",
        "inChans = 1 #RGB\n",
        "imSize= [256,256]\n",
        "outChans= 1\n",
        "krnSize = 5 #should be odd \n",
        "stride = (1,3)\n",
        "padding = 1\n",
        "\n",
        "#create an instance\n",
        "c1 = nn.Conv2d(inChans,outChans,krnSize,stride,padding)\n",
        "\n",
        "#create an image\n",
        "img1 = torch.rand(1, inChans, imSize[0], imSize[1])\n",
        "\n",
        "#run convulation\n",
        "resimg = c1(img1)\n",
        "empSize = torch.squeeze(resimg).shape\n",
        "\n",
        "#compute size of the result with formula\n",
        "expectSize = np.array([outChans, 0,0],dtype=int)\n",
        "#formula (size + 2 * padding -kernelSize /stride)+1\n",
        "print(imSize[0] , padding , krnSize ,stride[0] , (imSize[0] + 2 * padding - krnSize) / stride[0])\n",
        "expectSize[1] = np.floor( (imSize[0] + 2 * padding - krnSize) / stride[0]) + 1\n",
        "expectSize[2] = np.floor( (imSize[1] + 2 * padding - krnSize) / stride[1]) + 1\n",
        "\n",
        "\n",
        "#print the size\n",
        "print(f'Expected size : {expectSize}')\n",
        "print(f'Empirical size : {list(expectSize)}')\n"
      ],
      "execution_count": 32,
      "outputs": [
        {
          "output_type": "stream",
          "name": "stdout",
          "text": [
            "256 1 5 1 253.0\n",
            "Expected size : [  1 254  85]\n",
            "Empirical size : [1, 254, 85]\n"
          ]
        }
      ]
    },
    {
      "cell_type": "code",
      "metadata": {
        "colab": {
          "base_uri": "https://localhost:8080/"
        },
        "id": "0pFl-26csDd_",
        "outputId": "632c5c4b-24ec-4f3c-8726-5e6738b5feb8"
      },
      "source": [
        "#convulve an image of size 3*64*64 to produce 10*28*28 result\n",
        "inChans = 3 #RGB\n",
        "imSize= [64,64]\n",
        "outChans= 10\n",
        "krnSize = 3 #should be odd \n",
        "stride = (3,3)\n",
        "padding = 10\n",
        "\n",
        "#create an instance\n",
        "c1 = nn.Conv2d(inChans,outChans,krnSize,stride,padding)\n",
        "\n",
        "#create an image\n",
        "img1 = torch.rand(1, inChans, imSize[0], imSize[1])\n",
        "\n",
        "#run convulation\n",
        "resimg = c1(img1)\n",
        "empSize = torch.squeeze(resimg).shape\n",
        "\n",
        "#compute size of the result with formula\n",
        "expectSize = np.array([outChans, 0,0],dtype=int)\n",
        "#formula (size + 2 * padding -kernelSize /stride)+1\n",
        "print(imSize[0] , padding , krnSize ,stride[0] , (imSize[0] + 2 * padding - krnSize) / stride[0])\n",
        "expectSize[1] = np.floor( (imSize[0] + 2 * padding - krnSize) / stride[0]) + 1\n",
        "expectSize[2] = np.floor( (imSize[1] + 2 * padding - krnSize) / stride[1]) + 1\n",
        "\n",
        "\n",
        "#print the size\n",
        "print(f'Expected size : {expectSize}')\n",
        "print(f'Empirical size : {list(expectSize)}')"
      ],
      "execution_count": 75,
      "outputs": [
        {
          "output_type": "stream",
          "name": "stdout",
          "text": [
            "64 10 3 3 27.0\n",
            "Expected size : [10 28 28]\n",
            "Empirical size : [10, 28, 28]\n"
          ]
        }
      ]
    },
    {
      "cell_type": "code",
      "metadata": {
        "id": "uMl-ukiHmqiY"
      },
      "source": [
        ""
      ],
      "execution_count": null,
      "outputs": []
    }
  ]
}