{
  "nbformat": 4,
  "nbformat_minor": 0,
  "metadata": {
    "colab": {
      "name": "Optuna.ipynb",
      "provenance": [],
      "authorship_tag": "ABX9TyMAnh88M8dKtTgNPUtVDYy6",
      "include_colab_link": true
    },
    "kernelspec": {
      "name": "python3",
      "display_name": "Python 3"
    },
    "language_info": {
      "name": "python"
    }
  },
  "cells": [
    {
      "cell_type": "markdown",
      "metadata": {
        "id": "view-in-github",
        "colab_type": "text"
      },
      "source": [
        "<a href=\"https://colab.research.google.com/github/mahesh-ml/MLBasics/blob/main/Optuna.ipynb\" target=\"_parent\"><img src=\"https://colab.research.google.com/assets/colab-badge.svg\" alt=\"Open In Colab\"/></a>"
      ]
    },
    {
      "cell_type": "code",
      "metadata": {
        "id": "4upuvrfnE1kl"
      },
      "source": [
        "import numpy as np\n",
        "import pandas as pd\n",
        "import matplotlib.pyplot as plt\n",
        "import optuna\n",
        "\n",
        "from sklearn.datasets import load_breast_cancer\n",
        "from sklearn.metrics import accuracy_score , roc_auc_score\n",
        "from sklearn.model_selection import cross_val_score, train_test_split\n",
        "from sklearn.ensemble import RandomForestClassifier"
      ],
      "execution_count": 3,
      "outputs": []
    },
    {
      "cell_type": "code",
      "metadata": {
        "id": "IAweiO9EG95c"
      },
      "source": [
        "breast_cancer_X , breast_cancer_y = load_breast_cancer(return_X_y=True)\n",
        "X = pd.DataFrame(breast_cancer_X)\n",
        "y = pd.Series(breast_cancer_y).map({0:1, 1:0})"
      ],
      "execution_count": 5,
      "outputs": []
    },
    {
      "cell_type": "code",
      "metadata": {
        "id": "S61onLirH3AC"
      },
      "source": [
        "X.head()\n",
        "X_train, X_test, y_train, y_test = train_test_split(X,y,test_size=0.3, random_state=0)"
      ],
      "execution_count": 7,
      "outputs": []
    },
    {
      "cell_type": "code",
      "metadata": {
        "id": "HWs1KFa2E6pa"
      },
      "source": [
        "def objective(trial):\n",
        "  rf_n_estimators = trial.suggest_int(\"rf_n_estimators\",100,1000)\n",
        "  rf_criterion = trial.suggest_categorical(\"rf_criterion\",['gini','entropy'])\n",
        "  rf_max_depth= trial.suggest_int(\"rf_max_depth\",1,4)\n",
        "  rf_min_samples_split=trial.suggest_float('rf_min_samples_split',0.01,1)\n",
        "\n",
        "  model = RandomForestClassifier(n_estimators=rf_n_estimators,\n",
        "                                 criterion=rf_criterion,\n",
        "                                 max_depth=rf_max_depth,\n",
        "                                 min_samples_split=rf_min_samples_split\n",
        "                                 )\n",
        "  score = cross_val_score(model,X_train,y_train,cv=3)\n",
        "  accuracy = score.mean()\n",
        "  return accuracy"
      ],
      "execution_count": 11,
      "outputs": []
    },
    {
      "cell_type": "code",
      "metadata": {
        "colab": {
          "base_uri": "https://localhost:8080/"
        },
        "id": "vO67WpAvIbrv",
        "outputId": "f30ad8b6-dd6f-4bca-f282-b60fb3ea1eff"
      },
      "source": [
        "#randomize search\n",
        "import optuna\n",
        "study = optuna.create_study(\n",
        "        direction=\"maximize\",\n",
        "        sampler=optuna.samplers.RandomSampler()\n",
        "        \n",
        ")\n",
        "\n",
        "study.optimize(objective, n_trials=5)"
      ],
      "execution_count": 12,
      "outputs": [
        {
          "output_type": "stream",
          "name": "stderr",
          "text": [
            "\u001b[32m[I 2021-11-10 18:38:22,278]\u001b[0m A new study created in memory with name: no-name-b3969216-690f-4ad4-9c0c-38402ae08903\u001b[0m\n",
            "\u001b[32m[I 2021-11-10 18:38:25,741]\u001b[0m Trial 0 finished with value: 0.9221538695222905 and parameters: {'rf_n_estimators': 724, 'rf_criterion': 'entropy', 'rf_max_depth': 1, 'rf_min_samples_split': 0.42318248158936195}. Best is trial 0 with value: 0.9221538695222905.\u001b[0m\n",
            "\u001b[32m[I 2021-11-10 18:38:30,583]\u001b[0m Trial 1 finished with value: 0.9397357028935976 and parameters: {'rf_n_estimators': 988, 'rf_criterion': 'gini', 'rf_max_depth': 3, 'rf_min_samples_split': 0.12283458070851351}. Best is trial 1 with value: 0.9397357028935976.\u001b[0m\n",
            "\u001b[32m[I 2021-11-10 18:38:33,929]\u001b[0m Trial 2 finished with value: 0.9171223513328776 and parameters: {'rf_n_estimators': 754, 'rf_criterion': 'gini', 'rf_max_depth': 3, 'rf_min_samples_split': 0.49188205221237097}. Best is trial 1 with value: 0.9397357028935976.\u001b[0m\n",
            "\u001b[32m[I 2021-11-10 18:38:35,909]\u001b[0m Trial 3 finished with value: 0.6256360598465861 and parameters: {'rf_n_estimators': 476, 'rf_criterion': 'gini', 'rf_max_depth': 3, 'rf_min_samples_split': 0.7427605069679029}. Best is trial 1 with value: 0.9397357028935976.\u001b[0m\n",
            "\u001b[32m[I 2021-11-10 18:38:38,238]\u001b[0m Trial 4 finished with value: 0.6256360598465861 and parameters: {'rf_n_estimators': 556, 'rf_criterion': 'gini', 'rf_max_depth': 2, 'rf_min_samples_split': 0.6492630361832499}. Best is trial 1 with value: 0.9397357028935976.\u001b[0m\n"
          ]
        }
      ]
    },
    {
      "cell_type": "code",
      "metadata": {
        "colab": {
          "base_uri": "https://localhost:8080/"
        },
        "id": "nRb7mJSnJpjq",
        "outputId": "5b894d02-d661-40bb-d4ba-2991b462b2e8"
      },
      "source": [
        "study.best_params"
      ],
      "execution_count": 13,
      "outputs": [
        {
          "output_type": "execute_result",
          "data": {
            "text/plain": [
              "{'rf_criterion': 'gini',\n",
              " 'rf_max_depth': 3,\n",
              " 'rf_min_samples_split': 0.12283458070851351,\n",
              " 'rf_n_estimators': 988}"
            ]
          },
          "metadata": {},
          "execution_count": 13
        }
      ]
    },
    {
      "cell_type": "code",
      "metadata": {
        "colab": {
          "base_uri": "https://localhost:8080/"
        },
        "id": "DWFjAQqHE_Cz",
        "outputId": "07e6f6cb-df21-40a3-d206-3e0176bb7af9"
      },
      "source": [
        "study.best_value"
      ],
      "execution_count": 14,
      "outputs": [
        {
          "output_type": "execute_result",
          "data": {
            "text/plain": [
              "0.9397357028935976"
            ]
          },
          "metadata": {},
          "execution_count": 14
        }
      ]
    },
    {
      "cell_type": "code",
      "metadata": {
        "colab": {
          "base_uri": "https://localhost:8080/",
          "height": 309
        },
        "id": "MaQQ2nIVJyNP",
        "outputId": "91e24e48-8e24-4c4f-a134-217ba3d31230"
      },
      "source": [
        "study.trials_dataframe()"
      ],
      "execution_count": 16,
      "outputs": [
        {
          "output_type": "execute_result",
          "data": {
            "text/html": [
              "<div>\n",
              "<style scoped>\n",
              "    .dataframe tbody tr th:only-of-type {\n",
              "        vertical-align: middle;\n",
              "    }\n",
              "\n",
              "    .dataframe tbody tr th {\n",
              "        vertical-align: top;\n",
              "    }\n",
              "\n",
              "    .dataframe thead th {\n",
              "        text-align: right;\n",
              "    }\n",
              "</style>\n",
              "<table border=\"1\" class=\"dataframe\">\n",
              "  <thead>\n",
              "    <tr style=\"text-align: right;\">\n",
              "      <th></th>\n",
              "      <th>number</th>\n",
              "      <th>value</th>\n",
              "      <th>datetime_start</th>\n",
              "      <th>datetime_complete</th>\n",
              "      <th>duration</th>\n",
              "      <th>params_rf_criterion</th>\n",
              "      <th>params_rf_max_depth</th>\n",
              "      <th>params_rf_min_samples_split</th>\n",
              "      <th>params_rf_n_estimators</th>\n",
              "      <th>state</th>\n",
              "    </tr>\n",
              "  </thead>\n",
              "  <tbody>\n",
              "    <tr>\n",
              "      <th>0</th>\n",
              "      <td>0</td>\n",
              "      <td>0.922154</td>\n",
              "      <td>2021-11-10 18:38:22.281093</td>\n",
              "      <td>2021-11-10 18:38:25.741189</td>\n",
              "      <td>0 days 00:00:03.460096</td>\n",
              "      <td>entropy</td>\n",
              "      <td>1</td>\n",
              "      <td>0.423182</td>\n",
              "      <td>724</td>\n",
              "      <td>COMPLETE</td>\n",
              "    </tr>\n",
              "    <tr>\n",
              "      <th>1</th>\n",
              "      <td>1</td>\n",
              "      <td>0.939736</td>\n",
              "      <td>2021-11-10 18:38:25.743109</td>\n",
              "      <td>2021-11-10 18:38:30.582887</td>\n",
              "      <td>0 days 00:00:04.839778</td>\n",
              "      <td>gini</td>\n",
              "      <td>3</td>\n",
              "      <td>0.122835</td>\n",
              "      <td>988</td>\n",
              "      <td>COMPLETE</td>\n",
              "    </tr>\n",
              "    <tr>\n",
              "      <th>2</th>\n",
              "      <td>2</td>\n",
              "      <td>0.917122</td>\n",
              "      <td>2021-11-10 18:38:30.590528</td>\n",
              "      <td>2021-11-10 18:38:33.928795</td>\n",
              "      <td>0 days 00:00:03.338267</td>\n",
              "      <td>gini</td>\n",
              "      <td>3</td>\n",
              "      <td>0.491882</td>\n",
              "      <td>754</td>\n",
              "      <td>COMPLETE</td>\n",
              "    </tr>\n",
              "    <tr>\n",
              "      <th>3</th>\n",
              "      <td>3</td>\n",
              "      <td>0.625636</td>\n",
              "      <td>2021-11-10 18:38:33.931218</td>\n",
              "      <td>2021-11-10 18:38:35.908808</td>\n",
              "      <td>0 days 00:00:01.977590</td>\n",
              "      <td>gini</td>\n",
              "      <td>3</td>\n",
              "      <td>0.742761</td>\n",
              "      <td>476</td>\n",
              "      <td>COMPLETE</td>\n",
              "    </tr>\n",
              "    <tr>\n",
              "      <th>4</th>\n",
              "      <td>4</td>\n",
              "      <td>0.625636</td>\n",
              "      <td>2021-11-10 18:38:35.912133</td>\n",
              "      <td>2021-11-10 18:38:38.237779</td>\n",
              "      <td>0 days 00:00:02.325646</td>\n",
              "      <td>gini</td>\n",
              "      <td>2</td>\n",
              "      <td>0.649263</td>\n",
              "      <td>556</td>\n",
              "      <td>COMPLETE</td>\n",
              "    </tr>\n",
              "  </tbody>\n",
              "</table>\n",
              "</div>"
            ],
            "text/plain": [
              "   number     value  ... params_rf_n_estimators     state\n",
              "0       0  0.922154  ...                    724  COMPLETE\n",
              "1       1  0.939736  ...                    988  COMPLETE\n",
              "2       2  0.917122  ...                    754  COMPLETE\n",
              "3       3  0.625636  ...                    476  COMPLETE\n",
              "4       4  0.625636  ...                    556  COMPLETE\n",
              "\n",
              "[5 rows x 10 columns]"
            ]
          },
          "metadata": {},
          "execution_count": 16
        }
      ]
    },
    {
      "cell_type": "code",
      "metadata": {
        "colab": {
          "base_uri": "https://localhost:8080/"
        },
        "id": "xEoE2Ew-J7uj",
        "outputId": "e4b8ba78-4b4b-4866-d699-9bc16b89e3d0"
      },
      "source": [
        "#TPE sampler\n",
        "\n",
        "study = optuna.create_study(\n",
        "    direction=\"maximize\",\n",
        "    sampler=optuna.samplers.TPESampler()\n",
        ")\n",
        "\n",
        "study.optimize(objective, n_trials=10)"
      ],
      "execution_count": 17,
      "outputs": [
        {
          "output_type": "stream",
          "name": "stderr",
          "text": [
            "\u001b[32m[I 2021-11-10 18:43:38,568]\u001b[0m A new study created in memory with name: no-name-7eecfe99-8b1f-406c-895c-f4e960ccd13e\u001b[0m\n",
            "\u001b[32m[I 2021-11-10 18:43:42,365]\u001b[0m Trial 0 finished with value: 0.9171223513328776 and parameters: {'rf_n_estimators': 841, 'rf_criterion': 'gini', 'rf_max_depth': 2, 'rf_min_samples_split': 0.5486477781715494}. Best is trial 0 with value: 0.9171223513328776.\u001b[0m\n",
            "\u001b[32m[I 2021-11-10 18:43:43,404]\u001b[0m Trial 1 finished with value: 0.9121098200045568 and parameters: {'rf_n_estimators': 229, 'rf_criterion': 'gini', 'rf_max_depth': 1, 'rf_min_samples_split': 0.505327162989641}. Best is trial 0 with value: 0.9171223513328776.\u001b[0m\n",
            "\u001b[32m[I 2021-11-10 18:43:47,978]\u001b[0m Trial 2 finished with value: 0.9321409584567478 and parameters: {'rf_n_estimators': 869, 'rf_criterion': 'entropy', 'rf_max_depth': 3, 'rf_min_samples_split': 0.3216802347515902}. Best is trial 2 with value: 0.9321409584567478.\u001b[0m\n",
            "\u001b[32m[I 2021-11-10 18:43:49,590]\u001b[0m Trial 3 finished with value: 0.9221728563833826 and parameters: {'rf_n_estimators': 337, 'rf_criterion': 'entropy', 'rf_max_depth': 1, 'rf_min_samples_split': 0.19173446826122334}. Best is trial 2 with value: 0.9321409584567478.\u001b[0m\n",
            "\u001b[32m[I 2021-11-10 18:43:52,036]\u001b[0m Trial 4 finished with value: 0.9321409584567478 and parameters: {'rf_n_estimators': 510, 'rf_criterion': 'gini', 'rf_max_depth': 3, 'rf_min_samples_split': 0.2820515300591436}. Best is trial 2 with value: 0.9321409584567478.\u001b[0m\n",
            "\u001b[32m[I 2021-11-10 18:43:52,720]\u001b[0m Trial 5 finished with value: 0.9447292473608263 and parameters: {'rf_n_estimators': 126, 'rf_criterion': 'entropy', 'rf_max_depth': 3, 'rf_min_samples_split': 0.23844726104926994}. Best is trial 5 with value: 0.9447292473608263.\u001b[0m\n",
            "\u001b[32m[I 2021-11-10 18:43:54,166]\u001b[0m Trial 6 finished with value: 0.9397357028935976 and parameters: {'rf_n_estimators': 289, 'rf_criterion': 'gini', 'rf_max_depth': 4, 'rf_min_samples_split': 0.18321680725294595}. Best is trial 5 with value: 0.9447292473608263.\u001b[0m\n",
            "\u001b[32m[I 2021-11-10 18:43:57,475]\u001b[0m Trial 7 finished with value: 0.6256360598465861 and parameters: {'rf_n_estimators': 798, 'rf_criterion': 'entropy', 'rf_max_depth': 4, 'rf_min_samples_split': 0.7888966635603432}. Best is trial 5 with value: 0.9447292473608263.\u001b[0m\n",
            "\u001b[32m[I 2021-11-10 18:44:00,676]\u001b[0m Trial 8 finished with value: 0.9371724766461608 and parameters: {'rf_n_estimators': 670, 'rf_criterion': 'gini', 'rf_max_depth': 3, 'rf_min_samples_split': 0.24487786582377905}. Best is trial 5 with value: 0.9447292473608263.\u001b[0m\n",
            "\u001b[32m[I 2021-11-10 18:44:03,454]\u001b[0m Trial 9 finished with value: 0.9171223513328776 and parameters: {'rf_n_estimators': 591, 'rf_criterion': 'entropy', 'rf_max_depth': 1, 'rf_min_samples_split': 0.24884963958953552}. Best is trial 5 with value: 0.9447292473608263.\u001b[0m\n"
          ]
        }
      ]
    },
    {
      "cell_type": "code",
      "metadata": {
        "colab": {
          "base_uri": "https://localhost:8080/"
        },
        "id": "j8U1IK1XKaym",
        "outputId": "45e41b19-ebb6-4153-f30d-229a6d265696"
      },
      "source": [
        "study.best_params"
      ],
      "execution_count": 18,
      "outputs": [
        {
          "output_type": "execute_result",
          "data": {
            "text/plain": [
              "{'rf_criterion': 'entropy',\n",
              " 'rf_max_depth': 3,\n",
              " 'rf_min_samples_split': 0.23844726104926994,\n",
              " 'rf_n_estimators': 126}"
            ]
          },
          "metadata": {},
          "execution_count": 18
        }
      ]
    },
    {
      "cell_type": "code",
      "metadata": {
        "colab": {
          "base_uri": "https://localhost:8080/"
        },
        "id": "Gi-2Sg2PKnGQ",
        "outputId": "64c077a0-e68e-453d-9f8f-a8806465c378"
      },
      "source": [
        "study.best_value"
      ],
      "execution_count": 19,
      "outputs": [
        {
          "output_type": "execute_result",
          "data": {
            "text/plain": [
              "0.9447292473608263"
            ]
          },
          "metadata": {},
          "execution_count": 19
        }
      ]
    },
    {
      "cell_type": "code",
      "metadata": {
        "id": "bIuf-czOKrD6"
      },
      "source": [
        ""
      ],
      "execution_count": null,
      "outputs": []
    }
  ]
}