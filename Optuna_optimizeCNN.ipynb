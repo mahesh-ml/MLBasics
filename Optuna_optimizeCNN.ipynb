{
  "nbformat": 4,
  "nbformat_minor": 0,
  "metadata": {
    "colab": {
      "name": "Optuna-optimizeCNN.ipynb",
      "provenance": [],
      "mount_file_id": "https://github.com/mahesh-ml/MLBasics/blob/main/Optuna_optimizeCNN.ipynb",
      "authorship_tag": "ABX9TyNFVdz7LBUsCZOYxhcF9M8+",
      "include_colab_link": true
    },
    "kernelspec": {
      "name": "python3",
      "display_name": "Python 3"
    },
    "language_info": {
      "name": "python"
    },
    "accelerator": "GPU"
  },
  "cells": [
    {
      "cell_type": "markdown",
      "metadata": {
        "id": "view-in-github",
        "colab_type": "text"
      },
      "source": [
        "<a href=\"https://colab.research.google.com/github/mahesh-ml/MLBasics/blob/main/Optuna_optimizeCNN.ipynb\" target=\"_parent\"><img src=\"https://colab.research.google.com/assets/colab-badge.svg\" alt=\"Open In Colab\"/></a>"
      ]
    },
    {
      "cell_type": "code",
      "metadata": {
        "id": "e8WnVvOtc_cm"
      },
      "source": [
        "import os\n",
        "os.environ['PYTHONHASHSEED'] = '0'\n",
        "import numpy as np\n",
        "import tensorflow as tf\n",
        "import random as python_random\n",
        "\n",
        "np.random.seed(123)\n",
        "python_random.seed(123)\n",
        "\n",
        "tf.random.set_seed(1234)"
      ],
      "execution_count": 25,
      "outputs": []
    },
    {
      "cell_type": "code",
      "metadata": {
        "colab": {
          "base_uri": "https://localhost:8080/"
        },
        "id": "EocOLKu8fQz9",
        "outputId": "3176e0b0-8c07-4a70-cf18-5c43ad650650"
      },
      "source": [
        "!pip install optuna\n",
        "import optuna"
      ],
      "execution_count": 26,
      "outputs": [
        {
          "output_type": "stream",
          "name": "stdout",
          "text": [
            "Requirement already satisfied: optuna in /usr/local/lib/python3.7/dist-packages (2.10.0)\n",
            "Requirement already satisfied: cliff in /usr/local/lib/python3.7/dist-packages (from optuna) (3.9.0)\n",
            "Requirement already satisfied: numpy in /usr/local/lib/python3.7/dist-packages (from optuna) (1.19.5)\n",
            "Requirement already satisfied: colorlog in /usr/local/lib/python3.7/dist-packages (from optuna) (6.6.0)\n",
            "Requirement already satisfied: tqdm in /usr/local/lib/python3.7/dist-packages (from optuna) (4.62.3)\n",
            "Requirement already satisfied: PyYAML in /usr/local/lib/python3.7/dist-packages (from optuna) (3.13)\n",
            "Requirement already satisfied: alembic in /usr/local/lib/python3.7/dist-packages (from optuna) (1.7.4)\n",
            "Requirement already satisfied: packaging>=20.0 in /usr/local/lib/python3.7/dist-packages (from optuna) (21.2)\n",
            "Requirement already satisfied: cmaes>=0.8.2 in /usr/local/lib/python3.7/dist-packages (from optuna) (0.8.2)\n",
            "Requirement already satisfied: sqlalchemy>=1.1.0 in /usr/local/lib/python3.7/dist-packages (from optuna) (1.4.26)\n",
            "Requirement already satisfied: scipy!=1.4.0 in /usr/local/lib/python3.7/dist-packages (from optuna) (1.4.1)\n",
            "Requirement already satisfied: pyparsing<3,>=2.0.2 in /usr/local/lib/python3.7/dist-packages (from packaging>=20.0->optuna) (2.4.7)\n",
            "Requirement already satisfied: greenlet!=0.4.17 in /usr/local/lib/python3.7/dist-packages (from sqlalchemy>=1.1.0->optuna) (1.1.2)\n",
            "Requirement already satisfied: importlib-metadata in /usr/local/lib/python3.7/dist-packages (from sqlalchemy>=1.1.0->optuna) (4.8.1)\n",
            "Requirement already satisfied: importlib-resources in /usr/local/lib/python3.7/dist-packages (from alembic->optuna) (5.4.0)\n",
            "Requirement already satisfied: Mako in /usr/local/lib/python3.7/dist-packages (from alembic->optuna) (1.1.5)\n",
            "Requirement already satisfied: cmd2>=1.0.0 in /usr/local/lib/python3.7/dist-packages (from cliff->optuna) (2.2.0)\n",
            "Requirement already satisfied: pbr!=2.1.0,>=2.0.0 in /usr/local/lib/python3.7/dist-packages (from cliff->optuna) (5.7.0)\n",
            "Requirement already satisfied: stevedore>=2.0.1 in /usr/local/lib/python3.7/dist-packages (from cliff->optuna) (3.5.0)\n",
            "Requirement already satisfied: PrettyTable>=0.7.2 in /usr/local/lib/python3.7/dist-packages (from cliff->optuna) (2.4.0)\n",
            "Requirement already satisfied: autopage>=0.4.0 in /usr/local/lib/python3.7/dist-packages (from cliff->optuna) (0.4.0)\n",
            "Requirement already satisfied: typing-extensions in /usr/local/lib/python3.7/dist-packages (from cmd2>=1.0.0->cliff->optuna) (3.10.0.2)\n",
            "Requirement already satisfied: wcwidth>=0.1.7 in /usr/local/lib/python3.7/dist-packages (from cmd2>=1.0.0->cliff->optuna) (0.2.5)\n",
            "Requirement already satisfied: pyperclip>=1.6 in /usr/local/lib/python3.7/dist-packages (from cmd2>=1.0.0->cliff->optuna) (1.8.2)\n",
            "Requirement already satisfied: attrs>=16.3.0 in /usr/local/lib/python3.7/dist-packages (from cmd2>=1.0.0->cliff->optuna) (21.2.0)\n",
            "Requirement already satisfied: colorama>=0.3.7 in /usr/local/lib/python3.7/dist-packages (from cmd2>=1.0.0->cliff->optuna) (0.4.4)\n",
            "Requirement already satisfied: zipp>=0.5 in /usr/local/lib/python3.7/dist-packages (from importlib-metadata->sqlalchemy>=1.1.0->optuna) (3.6.0)\n",
            "Requirement already satisfied: MarkupSafe>=0.9.2 in /usr/local/lib/python3.7/dist-packages (from Mako->alembic->optuna) (2.0.1)\n"
          ]
        }
      ]
    },
    {
      "cell_type": "code",
      "metadata": {
        "id": "mXpmcCZAdsRO"
      },
      "source": [
        "import itertools\n",
        "from functools import partial\n",
        "import pandas as pd\n",
        "import matplotlib.pyplot as plt\n",
        "import seaborn as sns\n",
        "\n",
        "from sklearn.model_selection import train_test_split\n",
        "from sklearn.metrics import confusion_matrix\n",
        "\n",
        "from keras.utils.np_utils import to_categorical\n",
        "from keras.models import Sequential, load_model\n",
        "from keras.layers import Dense,Flatten,Conv2D , MaxPool2D\n",
        "from tensorflow.keras.optimizers import Adam,RMSprop\n",
        "\n"
      ],
      "execution_count": 27,
      "outputs": []
    },
    {
      "cell_type": "code",
      "metadata": {
        "id": "snClXSttfYNV"
      },
      "source": [
        "data = pd.read_csv(\"/content/mnist.csv\")"
      ],
      "execution_count": 28,
      "outputs": []
    },
    {
      "cell_type": "code",
      "metadata": {
        "colab": {
          "base_uri": "https://localhost:8080/",
          "height": 254
        },
        "id": "1fmbR5mQfnaA",
        "outputId": "d2476202-8dcd-439f-8467-039579ada9d1"
      },
      "source": [
        "data.head()"
      ],
      "execution_count": 29,
      "outputs": [
        {
          "output_type": "execute_result",
          "data": {
            "text/html": [
              "<div>\n",
              "<style scoped>\n",
              "    .dataframe tbody tr th:only-of-type {\n",
              "        vertical-align: middle;\n",
              "    }\n",
              "\n",
              "    .dataframe tbody tr th {\n",
              "        vertical-align: top;\n",
              "    }\n",
              "\n",
              "    .dataframe thead th {\n",
              "        text-align: right;\n",
              "    }\n",
              "</style>\n",
              "<table border=\"1\" class=\"dataframe\">\n",
              "  <thead>\n",
              "    <tr style=\"text-align: right;\">\n",
              "      <th></th>\n",
              "      <th>label</th>\n",
              "      <th>pixel0</th>\n",
              "      <th>pixel1</th>\n",
              "      <th>pixel2</th>\n",
              "      <th>pixel3</th>\n",
              "      <th>pixel4</th>\n",
              "      <th>pixel5</th>\n",
              "      <th>pixel6</th>\n",
              "      <th>pixel7</th>\n",
              "      <th>pixel8</th>\n",
              "      <th>pixel9</th>\n",
              "      <th>pixel10</th>\n",
              "      <th>pixel11</th>\n",
              "      <th>pixel12</th>\n",
              "      <th>pixel13</th>\n",
              "      <th>pixel14</th>\n",
              "      <th>pixel15</th>\n",
              "      <th>pixel16</th>\n",
              "      <th>pixel17</th>\n",
              "      <th>pixel18</th>\n",
              "      <th>pixel19</th>\n",
              "      <th>pixel20</th>\n",
              "      <th>pixel21</th>\n",
              "      <th>pixel22</th>\n",
              "      <th>pixel23</th>\n",
              "      <th>pixel24</th>\n",
              "      <th>pixel25</th>\n",
              "      <th>pixel26</th>\n",
              "      <th>pixel27</th>\n",
              "      <th>pixel28</th>\n",
              "      <th>pixel29</th>\n",
              "      <th>pixel30</th>\n",
              "      <th>pixel31</th>\n",
              "      <th>pixel32</th>\n",
              "      <th>pixel33</th>\n",
              "      <th>pixel34</th>\n",
              "      <th>pixel35</th>\n",
              "      <th>pixel36</th>\n",
              "      <th>pixel37</th>\n",
              "      <th>pixel38</th>\n",
              "      <th>...</th>\n",
              "      <th>pixel744</th>\n",
              "      <th>pixel745</th>\n",
              "      <th>pixel746</th>\n",
              "      <th>pixel747</th>\n",
              "      <th>pixel748</th>\n",
              "      <th>pixel749</th>\n",
              "      <th>pixel750</th>\n",
              "      <th>pixel751</th>\n",
              "      <th>pixel752</th>\n",
              "      <th>pixel753</th>\n",
              "      <th>pixel754</th>\n",
              "      <th>pixel755</th>\n",
              "      <th>pixel756</th>\n",
              "      <th>pixel757</th>\n",
              "      <th>pixel758</th>\n",
              "      <th>pixel759</th>\n",
              "      <th>pixel760</th>\n",
              "      <th>pixel761</th>\n",
              "      <th>pixel762</th>\n",
              "      <th>pixel763</th>\n",
              "      <th>pixel764</th>\n",
              "      <th>pixel765</th>\n",
              "      <th>pixel766</th>\n",
              "      <th>pixel767</th>\n",
              "      <th>pixel768</th>\n",
              "      <th>pixel769</th>\n",
              "      <th>pixel770</th>\n",
              "      <th>pixel771</th>\n",
              "      <th>pixel772</th>\n",
              "      <th>pixel773</th>\n",
              "      <th>pixel774</th>\n",
              "      <th>pixel775</th>\n",
              "      <th>pixel776</th>\n",
              "      <th>pixel777</th>\n",
              "      <th>pixel778</th>\n",
              "      <th>pixel779</th>\n",
              "      <th>pixel780</th>\n",
              "      <th>pixel781</th>\n",
              "      <th>pixel782</th>\n",
              "      <th>pixel783</th>\n",
              "    </tr>\n",
              "  </thead>\n",
              "  <tbody>\n",
              "    <tr>\n",
              "      <th>0</th>\n",
              "      <td>1</td>\n",
              "      <td>0</td>\n",
              "      <td>0</td>\n",
              "      <td>0</td>\n",
              "      <td>0</td>\n",
              "      <td>0</td>\n",
              "      <td>0</td>\n",
              "      <td>0</td>\n",
              "      <td>0</td>\n",
              "      <td>0</td>\n",
              "      <td>0</td>\n",
              "      <td>0</td>\n",
              "      <td>0</td>\n",
              "      <td>0</td>\n",
              "      <td>0</td>\n",
              "      <td>0</td>\n",
              "      <td>0</td>\n",
              "      <td>0</td>\n",
              "      <td>0</td>\n",
              "      <td>0</td>\n",
              "      <td>0</td>\n",
              "      <td>0</td>\n",
              "      <td>0</td>\n",
              "      <td>0</td>\n",
              "      <td>0</td>\n",
              "      <td>0</td>\n",
              "      <td>0</td>\n",
              "      <td>0</td>\n",
              "      <td>0</td>\n",
              "      <td>0</td>\n",
              "      <td>0</td>\n",
              "      <td>0</td>\n",
              "      <td>0</td>\n",
              "      <td>0</td>\n",
              "      <td>0</td>\n",
              "      <td>0</td>\n",
              "      <td>0</td>\n",
              "      <td>0</td>\n",
              "      <td>0</td>\n",
              "      <td>0</td>\n",
              "      <td>...</td>\n",
              "      <td>0</td>\n",
              "      <td>0</td>\n",
              "      <td>0</td>\n",
              "      <td>0</td>\n",
              "      <td>0</td>\n",
              "      <td>0</td>\n",
              "      <td>0</td>\n",
              "      <td>0</td>\n",
              "      <td>0</td>\n",
              "      <td>0</td>\n",
              "      <td>0</td>\n",
              "      <td>0</td>\n",
              "      <td>0</td>\n",
              "      <td>0</td>\n",
              "      <td>0</td>\n",
              "      <td>0</td>\n",
              "      <td>0</td>\n",
              "      <td>0</td>\n",
              "      <td>0</td>\n",
              "      <td>0</td>\n",
              "      <td>0</td>\n",
              "      <td>0</td>\n",
              "      <td>0</td>\n",
              "      <td>0</td>\n",
              "      <td>0</td>\n",
              "      <td>0</td>\n",
              "      <td>0</td>\n",
              "      <td>0</td>\n",
              "      <td>0</td>\n",
              "      <td>0</td>\n",
              "      <td>0</td>\n",
              "      <td>0</td>\n",
              "      <td>0</td>\n",
              "      <td>0</td>\n",
              "      <td>0</td>\n",
              "      <td>0</td>\n",
              "      <td>0</td>\n",
              "      <td>0</td>\n",
              "      <td>0</td>\n",
              "      <td>0</td>\n",
              "    </tr>\n",
              "    <tr>\n",
              "      <th>1</th>\n",
              "      <td>0</td>\n",
              "      <td>0</td>\n",
              "      <td>0</td>\n",
              "      <td>0</td>\n",
              "      <td>0</td>\n",
              "      <td>0</td>\n",
              "      <td>0</td>\n",
              "      <td>0</td>\n",
              "      <td>0</td>\n",
              "      <td>0</td>\n",
              "      <td>0</td>\n",
              "      <td>0</td>\n",
              "      <td>0</td>\n",
              "      <td>0</td>\n",
              "      <td>0</td>\n",
              "      <td>0</td>\n",
              "      <td>0</td>\n",
              "      <td>0</td>\n",
              "      <td>0</td>\n",
              "      <td>0</td>\n",
              "      <td>0</td>\n",
              "      <td>0</td>\n",
              "      <td>0</td>\n",
              "      <td>0</td>\n",
              "      <td>0</td>\n",
              "      <td>0</td>\n",
              "      <td>0</td>\n",
              "      <td>0</td>\n",
              "      <td>0</td>\n",
              "      <td>0</td>\n",
              "      <td>0</td>\n",
              "      <td>0</td>\n",
              "      <td>0</td>\n",
              "      <td>0</td>\n",
              "      <td>0</td>\n",
              "      <td>0</td>\n",
              "      <td>0</td>\n",
              "      <td>0</td>\n",
              "      <td>0</td>\n",
              "      <td>0</td>\n",
              "      <td>...</td>\n",
              "      <td>0</td>\n",
              "      <td>0</td>\n",
              "      <td>0</td>\n",
              "      <td>0</td>\n",
              "      <td>0</td>\n",
              "      <td>0</td>\n",
              "      <td>0</td>\n",
              "      <td>0</td>\n",
              "      <td>0</td>\n",
              "      <td>0</td>\n",
              "      <td>0</td>\n",
              "      <td>0</td>\n",
              "      <td>0</td>\n",
              "      <td>0</td>\n",
              "      <td>0</td>\n",
              "      <td>0</td>\n",
              "      <td>0</td>\n",
              "      <td>0</td>\n",
              "      <td>0</td>\n",
              "      <td>0</td>\n",
              "      <td>0</td>\n",
              "      <td>0</td>\n",
              "      <td>0</td>\n",
              "      <td>0</td>\n",
              "      <td>0</td>\n",
              "      <td>0</td>\n",
              "      <td>0</td>\n",
              "      <td>0</td>\n",
              "      <td>0</td>\n",
              "      <td>0</td>\n",
              "      <td>0</td>\n",
              "      <td>0</td>\n",
              "      <td>0</td>\n",
              "      <td>0</td>\n",
              "      <td>0</td>\n",
              "      <td>0</td>\n",
              "      <td>0</td>\n",
              "      <td>0</td>\n",
              "      <td>0</td>\n",
              "      <td>0</td>\n",
              "    </tr>\n",
              "    <tr>\n",
              "      <th>2</th>\n",
              "      <td>1</td>\n",
              "      <td>0</td>\n",
              "      <td>0</td>\n",
              "      <td>0</td>\n",
              "      <td>0</td>\n",
              "      <td>0</td>\n",
              "      <td>0</td>\n",
              "      <td>0</td>\n",
              "      <td>0</td>\n",
              "      <td>0</td>\n",
              "      <td>0</td>\n",
              "      <td>0</td>\n",
              "      <td>0</td>\n",
              "      <td>0</td>\n",
              "      <td>0</td>\n",
              "      <td>0</td>\n",
              "      <td>0</td>\n",
              "      <td>0</td>\n",
              "      <td>0</td>\n",
              "      <td>0</td>\n",
              "      <td>0</td>\n",
              "      <td>0</td>\n",
              "      <td>0</td>\n",
              "      <td>0</td>\n",
              "      <td>0</td>\n",
              "      <td>0</td>\n",
              "      <td>0</td>\n",
              "      <td>0</td>\n",
              "      <td>0</td>\n",
              "      <td>0</td>\n",
              "      <td>0</td>\n",
              "      <td>0</td>\n",
              "      <td>0</td>\n",
              "      <td>0</td>\n",
              "      <td>0</td>\n",
              "      <td>0</td>\n",
              "      <td>0</td>\n",
              "      <td>0</td>\n",
              "      <td>0</td>\n",
              "      <td>0</td>\n",
              "      <td>...</td>\n",
              "      <td>0</td>\n",
              "      <td>0</td>\n",
              "      <td>0</td>\n",
              "      <td>0</td>\n",
              "      <td>0</td>\n",
              "      <td>0</td>\n",
              "      <td>0</td>\n",
              "      <td>0</td>\n",
              "      <td>0</td>\n",
              "      <td>0</td>\n",
              "      <td>0</td>\n",
              "      <td>0</td>\n",
              "      <td>0</td>\n",
              "      <td>0</td>\n",
              "      <td>0</td>\n",
              "      <td>0</td>\n",
              "      <td>0</td>\n",
              "      <td>0</td>\n",
              "      <td>0</td>\n",
              "      <td>0</td>\n",
              "      <td>0</td>\n",
              "      <td>0</td>\n",
              "      <td>0</td>\n",
              "      <td>0</td>\n",
              "      <td>0</td>\n",
              "      <td>0</td>\n",
              "      <td>0</td>\n",
              "      <td>0</td>\n",
              "      <td>0</td>\n",
              "      <td>0</td>\n",
              "      <td>0</td>\n",
              "      <td>0</td>\n",
              "      <td>0</td>\n",
              "      <td>0</td>\n",
              "      <td>0</td>\n",
              "      <td>0</td>\n",
              "      <td>0</td>\n",
              "      <td>0</td>\n",
              "      <td>0</td>\n",
              "      <td>0</td>\n",
              "    </tr>\n",
              "    <tr>\n",
              "      <th>3</th>\n",
              "      <td>4</td>\n",
              "      <td>0</td>\n",
              "      <td>0</td>\n",
              "      <td>0</td>\n",
              "      <td>0</td>\n",
              "      <td>0</td>\n",
              "      <td>0</td>\n",
              "      <td>0</td>\n",
              "      <td>0</td>\n",
              "      <td>0</td>\n",
              "      <td>0</td>\n",
              "      <td>0</td>\n",
              "      <td>0</td>\n",
              "      <td>0</td>\n",
              "      <td>0</td>\n",
              "      <td>0</td>\n",
              "      <td>0</td>\n",
              "      <td>0</td>\n",
              "      <td>0</td>\n",
              "      <td>0</td>\n",
              "      <td>0</td>\n",
              "      <td>0</td>\n",
              "      <td>0</td>\n",
              "      <td>0</td>\n",
              "      <td>0</td>\n",
              "      <td>0</td>\n",
              "      <td>0</td>\n",
              "      <td>0</td>\n",
              "      <td>0</td>\n",
              "      <td>0</td>\n",
              "      <td>0</td>\n",
              "      <td>0</td>\n",
              "      <td>0</td>\n",
              "      <td>0</td>\n",
              "      <td>0</td>\n",
              "      <td>0</td>\n",
              "      <td>0</td>\n",
              "      <td>0</td>\n",
              "      <td>0</td>\n",
              "      <td>0</td>\n",
              "      <td>...</td>\n",
              "      <td>0</td>\n",
              "      <td>0</td>\n",
              "      <td>0</td>\n",
              "      <td>0</td>\n",
              "      <td>0</td>\n",
              "      <td>0</td>\n",
              "      <td>0</td>\n",
              "      <td>0</td>\n",
              "      <td>0</td>\n",
              "      <td>0</td>\n",
              "      <td>0</td>\n",
              "      <td>0</td>\n",
              "      <td>0</td>\n",
              "      <td>0</td>\n",
              "      <td>0</td>\n",
              "      <td>0</td>\n",
              "      <td>0</td>\n",
              "      <td>0</td>\n",
              "      <td>0</td>\n",
              "      <td>0</td>\n",
              "      <td>0</td>\n",
              "      <td>0</td>\n",
              "      <td>0</td>\n",
              "      <td>0</td>\n",
              "      <td>0</td>\n",
              "      <td>0</td>\n",
              "      <td>0</td>\n",
              "      <td>0</td>\n",
              "      <td>0</td>\n",
              "      <td>0</td>\n",
              "      <td>0</td>\n",
              "      <td>0</td>\n",
              "      <td>0</td>\n",
              "      <td>0</td>\n",
              "      <td>0</td>\n",
              "      <td>0</td>\n",
              "      <td>0</td>\n",
              "      <td>0</td>\n",
              "      <td>0</td>\n",
              "      <td>0</td>\n",
              "    </tr>\n",
              "    <tr>\n",
              "      <th>4</th>\n",
              "      <td>0</td>\n",
              "      <td>0</td>\n",
              "      <td>0</td>\n",
              "      <td>0</td>\n",
              "      <td>0</td>\n",
              "      <td>0</td>\n",
              "      <td>0</td>\n",
              "      <td>0</td>\n",
              "      <td>0</td>\n",
              "      <td>0</td>\n",
              "      <td>0</td>\n",
              "      <td>0</td>\n",
              "      <td>0</td>\n",
              "      <td>0</td>\n",
              "      <td>0</td>\n",
              "      <td>0</td>\n",
              "      <td>0</td>\n",
              "      <td>0</td>\n",
              "      <td>0</td>\n",
              "      <td>0</td>\n",
              "      <td>0</td>\n",
              "      <td>0</td>\n",
              "      <td>0</td>\n",
              "      <td>0</td>\n",
              "      <td>0</td>\n",
              "      <td>0</td>\n",
              "      <td>0</td>\n",
              "      <td>0</td>\n",
              "      <td>0</td>\n",
              "      <td>0</td>\n",
              "      <td>0</td>\n",
              "      <td>0</td>\n",
              "      <td>0</td>\n",
              "      <td>0</td>\n",
              "      <td>0</td>\n",
              "      <td>0</td>\n",
              "      <td>0</td>\n",
              "      <td>0</td>\n",
              "      <td>0</td>\n",
              "      <td>0</td>\n",
              "      <td>...</td>\n",
              "      <td>0</td>\n",
              "      <td>0</td>\n",
              "      <td>0</td>\n",
              "      <td>0</td>\n",
              "      <td>0</td>\n",
              "      <td>0</td>\n",
              "      <td>0</td>\n",
              "      <td>0</td>\n",
              "      <td>0</td>\n",
              "      <td>0</td>\n",
              "      <td>0</td>\n",
              "      <td>0</td>\n",
              "      <td>0</td>\n",
              "      <td>0</td>\n",
              "      <td>0</td>\n",
              "      <td>0</td>\n",
              "      <td>0</td>\n",
              "      <td>0</td>\n",
              "      <td>0</td>\n",
              "      <td>0</td>\n",
              "      <td>0</td>\n",
              "      <td>0</td>\n",
              "      <td>0</td>\n",
              "      <td>0</td>\n",
              "      <td>0</td>\n",
              "      <td>0</td>\n",
              "      <td>0</td>\n",
              "      <td>0</td>\n",
              "      <td>0</td>\n",
              "      <td>0</td>\n",
              "      <td>0</td>\n",
              "      <td>0</td>\n",
              "      <td>0</td>\n",
              "      <td>0</td>\n",
              "      <td>0</td>\n",
              "      <td>0</td>\n",
              "      <td>0</td>\n",
              "      <td>0</td>\n",
              "      <td>0</td>\n",
              "      <td>0</td>\n",
              "    </tr>\n",
              "  </tbody>\n",
              "</table>\n",
              "<p>5 rows × 785 columns</p>\n",
              "</div>"
            ],
            "text/plain": [
              "   label  pixel0  pixel1  pixel2  ...  pixel780  pixel781  pixel782  pixel783\n",
              "0      1       0       0       0  ...         0         0         0         0\n",
              "1      0       0       0       0  ...         0         0         0         0\n",
              "2      1       0       0       0  ...         0         0         0         0\n",
              "3      4       0       0       0  ...         0         0         0         0\n",
              "4      0       0       0       0  ...         0         0         0         0\n",
              "\n",
              "[5 rows x 785 columns]"
            ]
          },
          "metadata": {},
          "execution_count": 29
        }
      ]
    },
    {
      "cell_type": "code",
      "metadata": {
        "colab": {
          "base_uri": "https://localhost:8080/"
        },
        "id": "YQjDiJLThBqM",
        "outputId": "18e5e379-7dc6-4abf-d48b-cb55c03b4292"
      },
      "source": [
        "X_train, X_test, y_train, y_test = train_test_split(data.drop(['label'],axis=1),data['label'],test_size=0.1, random_state=0)\n",
        "X_train.shape, X_test.shape"
      ],
      "execution_count": 30,
      "outputs": [
        {
          "output_type": "execute_result",
          "data": {
            "text/plain": [
              "((37800, 784), (4200, 784))"
            ]
          },
          "metadata": {},
          "execution_count": 30
        }
      ]
    },
    {
      "cell_type": "code",
      "metadata": {
        "id": "C3uASx2Wz6Md",
        "outputId": "05a39d77-e4ba-429a-b94f-ce3334550868",
        "colab": {
          "base_uri": "https://localhost:8080/",
          "height": 296
        }
      },
      "source": [
        "g = sns.countplot(x=y_train)\n",
        "plt.xlabel(\"digits\")\n",
        "plt.ylabel('number of images')"
      ],
      "execution_count": 31,
      "outputs": [
        {
          "output_type": "execute_result",
          "data": {
            "text/plain": [
              "Text(0, 0.5, 'number of images')"
            ]
          },
          "metadata": {},
          "execution_count": 31
        },
        {
          "output_type": "display_data",
          "data": {
            "image/png": "[encoded data removed]",
            "text/plain": [
              "<Figure size 432x288 with 1 Axes>"
            ]
          },
          "metadata": {
            "needs_background": "light"
          }
        }
      ]
    },
    {
      "cell_type": "code",
      "metadata": {
        "id": "WLx5ORLC0NIP"
      },
      "source": [
        "#rescale and reshape\n",
        "X_train= X_train / 255\n",
        "X_test = X_test /255\n",
        "\n",
        "#reshape\n",
        "X_train=X_train.values.reshape(-1,28,28,1)\n",
        "X_test=X_test.values.reshape(-1,28,28,1)\n"
      ],
      "execution_count": 32,
      "outputs": []
    },
    {
      "cell_type": "code",
      "metadata": {
        "colab": {
          "base_uri": "https://localhost:8080/"
        },
        "id": "fUa3rMnylfh8",
        "outputId": "54766561-2b1c-4d10-85d3-da084f9a86b0"
      },
      "source": [
        "y_train = to_categorical(y_train, num_classes=10)\n",
        "y_test = to_categorical(y_test, num_classes=10)\n",
        "\n",
        "\n",
        "y_train"
      ],
      "execution_count": 33,
      "outputs": [
        {
          "output_type": "execute_result",
          "data": {
            "text/plain": [
              "array([[0., 0., 1., ..., 0., 0., 0.],\n",
              "       [0., 0., 1., ..., 0., 0., 0.],\n",
              "       [1., 0., 0., ..., 0., 0., 0.],\n",
              "       ...,\n",
              "       [0., 0., 0., ..., 0., 0., 1.],\n",
              "       [1., 0., 0., ..., 0., 0., 0.],\n",
              "       [0., 0., 0., ..., 0., 0., 1.]], dtype=float32)"
            ]
          },
          "metadata": {},
          "execution_count": 33
        }
      ]
    },
    {
      "cell_type": "code",
      "metadata": {
        "id": "xk7AX6tBlWQR"
      },
      "source": [
        "path_best_model='cnn_model.h5'\n",
        "best_accuracy=0"
      ],
      "execution_count": 34,
      "outputs": []
    },
    {
      "cell_type": "code",
      "metadata": {
        "id": "nQ6lkbHYmliv"
      },
      "source": [
        "#objective function\n",
        "def objective(trial):\n",
        "  model= Sequential()\n",
        "  num_conv_layers= trial.suggest_int('num_conv_layers',1,3)\n",
        "\n",
        "  for i in range(num_conv_layers):\n",
        "    model.add(Conv2D(\n",
        "                     filters=trial.suggest_categorical('filters',[16,32,64]),\n",
        "                     kernel_size=trial.suggest_categorical('kernel_size',[3,5]),\n",
        "                     strides=trial.suggest_categorical('strides',[1,2]),\n",
        "                     activation= trial.suggest_categorical('activation',['relu','tanh']), padding='same'\n",
        "              \n",
        "              ))\n",
        "    model.add(MaxPool2D(pool_size=2, strides=2))\n",
        "\n",
        "    model.add(Flatten())\n",
        "\n",
        "    num_dense_layers = trial.suggest_int('num_dense_layers', 1, 3)\n",
        "\n",
        "    for i in range(num_dense_layers):\n",
        "        model.add(Dense(\n",
        "             units = trial.suggest_int('units', 5,512),\n",
        "             activation = trial.suggest_categorical('activation',['relu','tanh'])\n",
        "        ))\n",
        "    model.add(Dense(10,activation='softmax'))\n",
        "\n",
        "    optimizer_name = trial.suggest_categorical('optimizer_name',['Adam','RMRProp'])\n",
        "\n",
        "    if optimizer_name == 'Adam':\n",
        "       optimizer = Adam(lr=trial.suggest_float('learning_rate',1e-6, 1e-2))\n",
        "    else:\n",
        "       optimizer = RMSprop(lr=trial.suggest_float('learning_rate',1e-6, 1e-2), \n",
        "                           momentum = trial.suggest_float('momentum',0.1,0.9))\n",
        "       \n",
        "    #compile model\n",
        "  \n",
        "    model.compile(optimizer=optimizer,\n",
        "                  loss='categorical_crossentropy',\n",
        "                  metrics=['accuracy'])\n",
        "\n",
        "    #train model\n",
        "    history = model.fit(x=X_train, \n",
        "                        y = y_train, \n",
        "                        epochs=3, \n",
        "                        batch_size=128,\n",
        "                        validation_split=0.1)\n",
        "\n",
        "    #accuracy\n",
        "    accuracy= history.history['val_accuracy'][-1]\n",
        "\n",
        "    global best_accuracy\n",
        "\n",
        "    if accuracy > best_accuracy:\n",
        "        model.save(path_best_model)\n",
        "        best_accuracy = accuracy\n",
        "\n",
        "    del model\n",
        "\n",
        "    return accuracy"
      ],
      "execution_count": 35,
      "outputs": []
    },
    {
      "cell_type": "code",
      "metadata": {
        "id": "YFi0eA83sN6c"
      },
      "source": [
        "study_name='cnn_study'\n",
        "storage_name=\"sqlite:///{}.db\".format(study_name)"
      ],
      "execution_count": 36,
      "outputs": []
    },
    {
      "cell_type": "code",
      "metadata": {
        "colab": {
          "base_uri": "https://localhost:8080/"
        },
        "id": "9KxtnLG1sc7i",
        "outputId": "a85083d5-bbe8-4251-a4f3-ce674c88aeaa"
      },
      "source": [
        "study = optuna.create_study(\n",
        "    direction='maximize',\n",
        "    study_name=study_name,\n",
        "    storage= storage_name,\n",
        "    load_if_exists=True\n",
        "\n",
        ")\n",
        "\n",
        "study.optimize(objective, n_trials=30)"
      ],
      "execution_count": 37,
      "outputs": [
        {
          "output_type": "stream",
          "name": "stderr",
          "text": [
            "\u001b[32m[I 2021-11-10 22:06:18,127]\u001b[0m Using an existing study with name 'cnn_study' instead of creating a new one.\u001b[0m\n",
            "/usr/local/lib/python3.7/dist-packages/keras/optimizer_v2/rmsprop.py:130: UserWarning:\n",
            "\n",
            "The `lr` argument is deprecated, use `learning_rate` instead.\n",
            "\n"
          ]
        },
        {
          "output_type": "stream",
          "name": "stdout",
          "text": [
            "Epoch 1/3\n",
            "266/266 [==============================] - 4s 13ms/step - loss: 1.1996 - accuracy: 0.6572 - val_loss: 0.2282 - val_accuracy: 0.9304\n",
            "Epoch 2/3\n",
            "266/266 [==============================] - 3s 11ms/step - loss: 0.1776 - accuracy: 0.9491 - val_loss: 0.2085 - val_accuracy: 0.9426\n",
            "Epoch 3/3\n",
            "266/266 [==============================] - 3s 11ms/step - loss: 0.1245 - accuracy: 0.9647 - val_loss: 0.2172 - val_accuracy: 0.9481\n"
          ]
        },
        {
          "output_type": "stream",
          "name": "stderr",
          "text": [
            "\u001b[32m[I 2021-11-10 22:06:31,124]\u001b[0m Trial 30 finished with value: 0.9481481313705444 and parameters: {'num_conv_layers': 1, 'filters': 32, 'kernel_size': 5, 'strides': 1, 'activation': 'tanh', 'num_dense_layers': 2, 'units': 506, 'optimizer_name': 'RMRProp', 'learning_rate': 0.002769725063768323, 'momentum': 0.5524715000083009}. Best is trial 30 with value: 0.9481481313705444.\u001b[0m\n",
            "/usr/local/lib/python3.7/dist-packages/keras/optimizer_v2/rmsprop.py:130: UserWarning:\n",
            "\n",
            "The `lr` argument is deprecated, use `learning_rate` instead.\n",
            "\n"
          ]
        },
        {
          "output_type": "stream",
          "name": "stdout",
          "text": [
            "Epoch 1/3\n",
            "266/266 [==============================] - 2s 7ms/step - loss: 0.7160 - accuracy: 0.8164 - val_loss: 0.3389 - val_accuracy: 0.9053\n",
            "Epoch 2/3\n",
            "266/266 [==============================] - 2s 6ms/step - loss: 0.2633 - accuracy: 0.9303 - val_loss: 0.2405 - val_accuracy: 0.9347\n",
            "Epoch 3/3\n",
            "266/266 [==============================] - 2s 6ms/step - loss: 0.2070 - accuracy: 0.9438 - val_loss: 0.2198 - val_accuracy: 0.9405\n"
          ]
        },
        {
          "output_type": "stream",
          "name": "stderr",
          "text": [
            "\u001b[32m[I 2021-11-10 22:06:37,205]\u001b[0m Trial 31 finished with value: 0.9404761791229248 and parameters: {'num_conv_layers': 1, 'filters': 32, 'kernel_size': 3, 'strides': 2, 'activation': 'tanh', 'num_dense_layers': 2, 'units': 6, 'optimizer_name': 'RMRProp', 'learning_rate': 0.0029109256056534367, 'momentum': 0.5694703261605986}. Best is trial 30 with value: 0.9481481313705444.\u001b[0m\n",
            "/usr/local/lib/python3.7/dist-packages/keras/optimizer_v2/rmsprop.py:130: UserWarning:\n",
            "\n",
            "The `lr` argument is deprecated, use `learning_rate` instead.\n",
            "\n"
          ]
        },
        {
          "output_type": "stream",
          "name": "stdout",
          "text": [
            "Epoch 1/3\n",
            "266/266 [==============================] - 3s 8ms/step - loss: 0.3542 - accuracy: 0.8992 - val_loss: 0.2388 - val_accuracy: 0.9312\n",
            "Epoch 2/3\n",
            "266/266 [==============================] - 2s 7ms/step - loss: 0.1473 - accuracy: 0.9563 - val_loss: 0.1541 - val_accuracy: 0.9553\n",
            "Epoch 3/3\n",
            "266/266 [==============================] - 2s 7ms/step - loss: 0.1178 - accuracy: 0.9654 - val_loss: 0.1468 - val_accuracy: 0.9624\n"
          ]
        },
        {
          "output_type": "stream",
          "name": "stderr",
          "text": [
            "\u001b[32m[I 2021-11-10 22:06:44,085]\u001b[0m Trial 32 finished with value: 0.9624338746070862 and parameters: {'num_conv_layers': 1, 'filters': 16, 'kernel_size': 3, 'strides': 2, 'activation': 'tanh', 'num_dense_layers': 2, 'units': 483, 'optimizer_name': 'RMRProp', 'learning_rate': 0.002831168767480192, 'momentum': 0.517012269177247}. Best is trial 32 with value: 0.9624338746070862.\u001b[0m\n",
            "/usr/local/lib/python3.7/dist-packages/keras/optimizer_v2/rmsprop.py:130: UserWarning:\n",
            "\n",
            "The `lr` argument is deprecated, use `learning_rate` instead.\n",
            "\n"
          ]
        },
        {
          "output_type": "stream",
          "name": "stdout",
          "text": [
            "Epoch 1/3\n",
            "266/266 [==============================] - 2s 7ms/step - loss: 0.2570 - accuracy: 0.9203 - val_loss: 0.1390 - val_accuracy: 0.9556\n",
            "Epoch 2/3\n",
            "266/266 [==============================] - 2s 6ms/step - loss: 0.1235 - accuracy: 0.9630 - val_loss: 0.1496 - val_accuracy: 0.9598\n",
            "Epoch 3/3\n",
            "266/266 [==============================] - 2s 6ms/step - loss: 0.0924 - accuracy: 0.9721 - val_loss: 0.1342 - val_accuracy: 0.9643\n"
          ]
        },
        {
          "output_type": "stream",
          "name": "stderr",
          "text": [
            "\u001b[32m[I 2021-11-10 22:06:50,256]\u001b[0m Trial 33 finished with value: 0.9642857313156128 and parameters: {'num_conv_layers': 1, 'filters': 16, 'kernel_size': 3, 'strides': 2, 'activation': 'tanh', 'num_dense_layers': 2, 'units': 267, 'optimizer_name': 'RMRProp', 'learning_rate': 0.0026660584335518617, 'momentum': 0.5620485699269737}. Best is trial 33 with value: 0.9642857313156128.\u001b[0m\n",
            "/usr/local/lib/python3.7/dist-packages/keras/optimizer_v2/rmsprop.py:130: UserWarning:\n",
            "\n",
            "The `lr` argument is deprecated, use `learning_rate` instead.\n",
            "\n"
          ]
        },
        {
          "output_type": "stream",
          "name": "stdout",
          "text": [
            "Epoch 1/3\n",
            "266/266 [==============================] - 2s 7ms/step - loss: 0.2701 - accuracy: 0.9194 - val_loss: 0.1364 - val_accuracy: 0.9614\n",
            "Epoch 2/3\n",
            "266/266 [==============================] - 2s 6ms/step - loss: 0.1034 - accuracy: 0.9684 - val_loss: 0.1144 - val_accuracy: 0.9659\n",
            "Epoch 3/3\n",
            "266/266 [==============================] - 2s 6ms/step - loss: 0.0742 - accuracy: 0.9765 - val_loss: 0.1128 - val_accuracy: 0.9696\n"
          ]
        },
        {
          "output_type": "stream",
          "name": "stderr",
          "text": [
            "\u001b[32m[I 2021-11-10 22:06:56,421]\u001b[0m Trial 34 finished with value: 0.9695767164230347 and parameters: {'num_conv_layers': 1, 'filters': 16, 'kernel_size': 3, 'strides': 2, 'activation': 'tanh', 'num_dense_layers': 2, 'units': 33, 'optimizer_name': 'RMRProp', 'learning_rate': 0.002790374237886413, 'momentum': 0.5534952567846437}. Best is trial 34 with value: 0.9695767164230347.\u001b[0m\n",
            "/usr/local/lib/python3.7/dist-packages/keras/optimizer_v2/rmsprop.py:130: UserWarning:\n",
            "\n",
            "The `lr` argument is deprecated, use `learning_rate` instead.\n",
            "\n"
          ]
        },
        {
          "output_type": "stream",
          "name": "stdout",
          "text": [
            "Epoch 1/3\n",
            "266/266 [==============================] - 2s 6ms/step - loss: 0.2503 - accuracy: 0.9215 - val_loss: 0.1536 - val_accuracy: 0.9529\n",
            "Epoch 2/3\n",
            "266/266 [==============================] - 2s 6ms/step - loss: 0.1101 - accuracy: 0.9665 - val_loss: 0.1197 - val_accuracy: 0.9669\n",
            "Epoch 3/3\n",
            "266/266 [==============================] - 2s 6ms/step - loss: 0.0775 - accuracy: 0.9752 - val_loss: 0.1234 - val_accuracy: 0.9643\n"
          ]
        },
        {
          "output_type": "stream",
          "name": "stderr",
          "text": [
            "\u001b[32m[I 2021-11-10 22:07:02,508]\u001b[0m Trial 35 finished with value: 0.9642857313156128 and parameters: {'num_conv_layers': 1, 'filters': 16, 'kernel_size': 3, 'strides': 2, 'activation': 'tanh', 'num_dense_layers': 2, 'units': 107, 'optimizer_name': 'RMRProp', 'learning_rate': 0.0028475382572120105, 'momentum': 0.5042083370338958}. Best is trial 34 with value: 0.9695767164230347.\u001b[0m\n",
            "/usr/local/lib/python3.7/dist-packages/keras/optimizer_v2/rmsprop.py:130: UserWarning:\n",
            "\n",
            "The `lr` argument is deprecated, use `learning_rate` instead.\n",
            "\n"
          ]
        },
        {
          "output_type": "stream",
          "name": "stdout",
          "text": [
            "Epoch 1/3\n",
            "266/266 [==============================] - 2s 6ms/step - loss: 0.2713 - accuracy: 0.9166 - val_loss: 0.1415 - val_accuracy: 0.9574\n",
            "Epoch 2/3\n",
            "266/266 [==============================] - 2s 6ms/step - loss: 0.1041 - accuracy: 0.9681 - val_loss: 0.1215 - val_accuracy: 0.9664\n",
            "Epoch 3/3\n",
            "266/266 [==============================] - 2s 6ms/step - loss: 0.0740 - accuracy: 0.9772 - val_loss: 0.0891 - val_accuracy: 0.9741\n"
          ]
        },
        {
          "output_type": "stream",
          "name": "stderr",
          "text": [
            "\u001b[32m[I 2021-11-10 22:07:08,402]\u001b[0m Trial 36 finished with value: 0.9740740656852722 and parameters: {'num_conv_layers': 1, 'filters': 16, 'kernel_size': 3, 'strides': 2, 'activation': 'tanh', 'num_dense_layers': 2, 'units': 42, 'optimizer_name': 'RMRProp', 'learning_rate': 0.002878983904416791, 'momentum': 0.4781051050947992}. Best is trial 36 with value: 0.9740740656852722.\u001b[0m\n",
            "/usr/local/lib/python3.7/dist-packages/keras/optimizer_v2/rmsprop.py:130: UserWarning:\n",
            "\n",
            "The `lr` argument is deprecated, use `learning_rate` instead.\n",
            "\n"
          ]
        },
        {
          "output_type": "stream",
          "name": "stdout",
          "text": [
            "Epoch 1/3\n",
            "266/266 [==============================] - 2s 7ms/step - loss: 0.2779 - accuracy: 0.9143 - val_loss: 0.1372 - val_accuracy: 0.9595\n",
            "Epoch 2/3\n",
            "266/266 [==============================] - 2s 6ms/step - loss: 0.1093 - accuracy: 0.9670 - val_loss: 0.1414 - val_accuracy: 0.9587\n",
            "Epoch 3/3\n",
            "266/266 [==============================] - 2s 6ms/step - loss: 0.0782 - accuracy: 0.9749 - val_loss: 0.1106 - val_accuracy: 0.9693\n"
          ]
        },
        {
          "output_type": "stream",
          "name": "stderr",
          "text": [
            "\u001b[32m[I 2021-11-10 22:07:14,336]\u001b[0m Trial 37 finished with value: 0.9693121910095215 and parameters: {'num_conv_layers': 1, 'filters': 16, 'kernel_size': 3, 'strides': 2, 'activation': 'tanh', 'num_dense_layers': 2, 'units': 48, 'optimizer_name': 'RMRProp', 'learning_rate': 0.0037509134972159995, 'momentum': 0.4353231045088961}. Best is trial 36 with value: 0.9740740656852722.\u001b[0m\n",
            "/usr/local/lib/python3.7/dist-packages/keras/optimizer_v2/rmsprop.py:130: UserWarning:\n",
            "\n",
            "The `lr` argument is deprecated, use `learning_rate` instead.\n",
            "\n"
          ]
        },
        {
          "output_type": "stream",
          "name": "stdout",
          "text": [
            "Epoch 1/3\n",
            "266/266 [==============================] - 2s 6ms/step - loss: 0.2617 - accuracy: 0.9202 - val_loss: 0.1620 - val_accuracy: 0.9495\n",
            "Epoch 2/3\n",
            "266/266 [==============================] - 2s 6ms/step - loss: 0.1054 - accuracy: 0.9677 - val_loss: 0.1181 - val_accuracy: 0.9661\n",
            "Epoch 3/3\n",
            "266/266 [==============================] - 2s 6ms/step - loss: 0.0775 - accuracy: 0.9768 - val_loss: 0.1040 - val_accuracy: 0.9701\n"
          ]
        },
        {
          "output_type": "stream",
          "name": "stderr",
          "text": [
            "\u001b[32m[I 2021-11-10 22:07:20,176]\u001b[0m Trial 38 finished with value: 0.9701058268547058 and parameters: {'num_conv_layers': 1, 'filters': 16, 'kernel_size': 3, 'strides': 2, 'activation': 'tanh', 'num_dense_layers': 2, 'units': 40, 'optimizer_name': 'RMRProp', 'learning_rate': 0.0049101823182365004, 'momentum': 0.42197637730897386}. Best is trial 36 with value: 0.9740740656852722.\u001b[0m\n",
            "/usr/local/lib/python3.7/dist-packages/keras/optimizer_v2/rmsprop.py:130: UserWarning:\n",
            "\n",
            "The `lr` argument is deprecated, use `learning_rate` instead.\n",
            "\n"
          ]
        },
        {
          "output_type": "stream",
          "name": "stdout",
          "text": [
            "Epoch 1/3\n",
            "266/266 [==============================] - 2s 7ms/step - loss: 0.2552 - accuracy: 0.9200 - val_loss: 0.1352 - val_accuracy: 0.9569\n",
            "Epoch 2/3\n",
            "266/266 [==============================] - 2s 6ms/step - loss: 0.1021 - accuracy: 0.9685 - val_loss: 0.1099 - val_accuracy: 0.9680\n",
            "Epoch 3/3\n",
            "266/266 [==============================] - 2s 6ms/step - loss: 0.0753 - accuracy: 0.9767 - val_loss: 0.1055 - val_accuracy: 0.9717\n"
          ]
        },
        {
          "output_type": "stream",
          "name": "stderr",
          "text": [
            "\u001b[32m[I 2021-11-10 22:07:26,283]\u001b[0m Trial 39 finished with value: 0.9716930985450745 and parameters: {'num_conv_layers': 1, 'filters': 16, 'kernel_size': 3, 'strides': 2, 'activation': 'tanh', 'num_dense_layers': 2, 'units': 42, 'optimizer_name': 'RMRProp', 'learning_rate': 0.004974008184944838, 'momentum': 0.42347625966505686}. Best is trial 36 with value: 0.9740740656852722.\u001b[0m\n",
            "/usr/local/lib/python3.7/dist-packages/keras/optimizer_v2/rmsprop.py:130: UserWarning:\n",
            "\n",
            "The `lr` argument is deprecated, use `learning_rate` instead.\n",
            "\n"
          ]
        },
        {
          "output_type": "stream",
          "name": "stdout",
          "text": [
            "Epoch 1/3\n",
            "266/266 [==============================] - 2s 7ms/step - loss: 0.2678 - accuracy: 0.9178 - val_loss: 0.1461 - val_accuracy: 0.9579\n",
            "Epoch 2/3\n",
            "266/266 [==============================] - 2s 6ms/step - loss: 0.1065 - accuracy: 0.9665 - val_loss: 0.1211 - val_accuracy: 0.9664\n",
            "Epoch 3/3\n",
            "266/266 [==============================] - 2s 6ms/step - loss: 0.0746 - accuracy: 0.9765 - val_loss: 0.1264 - val_accuracy: 0.9638\n"
          ]
        },
        {
          "output_type": "stream",
          "name": "stderr",
          "text": [
            "\u001b[32m[I 2021-11-10 22:07:32,119]\u001b[0m Trial 40 finished with value: 0.9637566208839417 and parameters: {'num_conv_layers': 1, 'filters': 16, 'kernel_size': 3, 'strides': 2, 'activation': 'tanh', 'num_dense_layers': 2, 'units': 41, 'optimizer_name': 'RMRProp', 'learning_rate': 0.005171111982228654, 'momentum': 0.2996668220390358}. Best is trial 36 with value: 0.9740740656852722.\u001b[0m\n",
            "/usr/local/lib/python3.7/dist-packages/keras/optimizer_v2/rmsprop.py:130: UserWarning:\n",
            "\n",
            "The `lr` argument is deprecated, use `learning_rate` instead.\n",
            "\n"
          ]
        },
        {
          "output_type": "stream",
          "name": "stdout",
          "text": [
            "Epoch 1/3\n",
            "266/266 [==============================] - 2s 6ms/step - loss: 0.2543 - accuracy: 0.9207 - val_loss: 0.1549 - val_accuracy: 0.9532\n",
            "Epoch 2/3\n",
            "266/266 [==============================] - 2s 6ms/step - loss: 0.1039 - accuracy: 0.9693 - val_loss: 0.1028 - val_accuracy: 0.9709\n",
            "Epoch 3/3\n",
            "266/266 [==============================] - 1s 6ms/step - loss: 0.0759 - accuracy: 0.9762 - val_loss: 0.1034 - val_accuracy: 0.9704\n"
          ]
        },
        {
          "output_type": "stream",
          "name": "stderr",
          "text": [
            "\u001b[32m[I 2021-11-10 22:07:37,910]\u001b[0m Trial 41 finished with value: 0.970370352268219 and parameters: {'num_conv_layers': 1, 'filters': 16, 'kernel_size': 3, 'strides': 2, 'activation': 'tanh', 'num_dense_layers': 2, 'units': 49, 'optimizer_name': 'RMRProp', 'learning_rate': 0.0058720343046826514, 'momentum': 0.43495111214055926}. Best is trial 36 with value: 0.9740740656852722.\u001b[0m\n",
            "/usr/local/lib/python3.7/dist-packages/keras/optimizer_v2/rmsprop.py:130: UserWarning:\n",
            "\n",
            "The `lr` argument is deprecated, use `learning_rate` instead.\n",
            "\n"
          ]
        },
        {
          "output_type": "stream",
          "name": "stdout",
          "text": [
            "Epoch 1/3\n",
            "266/266 [==============================] - 2s 6ms/step - loss: 0.2401 - accuracy: 0.9249 - val_loss: 0.1444 - val_accuracy: 0.9590\n",
            "Epoch 2/3\n",
            "266/266 [==============================] - 2s 6ms/step - loss: 0.1092 - accuracy: 0.9670 - val_loss: 0.1011 - val_accuracy: 0.9735\n",
            "Epoch 3/3\n",
            "266/266 [==============================] - 2s 6ms/step - loss: 0.0764 - accuracy: 0.9764 - val_loss: 0.1235 - val_accuracy: 0.9683\n"
          ]
        },
        {
          "output_type": "stream",
          "name": "stderr",
          "text": [
            "\u001b[32m[I 2021-11-10 22:07:43,996]\u001b[0m Trial 42 finished with value: 0.9682539701461792 and parameters: {'num_conv_layers': 1, 'filters': 16, 'kernel_size': 3, 'strides': 2, 'activation': 'tanh', 'num_dense_layers': 2, 'units': 60, 'optimizer_name': 'RMRProp', 'learning_rate': 0.005708231958534165, 'momentum': 0.4399360290142979}. Best is trial 36 with value: 0.9740740656852722.\u001b[0m\n",
            "/usr/local/lib/python3.7/dist-packages/keras/optimizer_v2/rmsprop.py:130: UserWarning:\n",
            "\n",
            "The `lr` argument is deprecated, use `learning_rate` instead.\n",
            "\n"
          ]
        },
        {
          "output_type": "stream",
          "name": "stdout",
          "text": [
            "Epoch 1/3\n",
            "266/266 [==============================] - 3s 7ms/step - loss: 0.2640 - accuracy: 0.9160 - val_loss: 0.1988 - val_accuracy: 0.9376\n",
            "Epoch 2/3\n",
            "266/266 [==============================] - 2s 6ms/step - loss: 0.1087 - accuracy: 0.9668 - val_loss: 0.1255 - val_accuracy: 0.9648\n",
            "Epoch 3/3\n",
            "266/266 [==============================] - 2s 6ms/step - loss: 0.0744 - accuracy: 0.9769 - val_loss: 0.1168 - val_accuracy: 0.9672\n"
          ]
        },
        {
          "output_type": "stream",
          "name": "stderr",
          "text": [
            "\u001b[32m[I 2021-11-10 22:07:50,580]\u001b[0m Trial 43 finished with value: 0.9671957492828369 and parameters: {'num_conv_layers': 1, 'filters': 16, 'kernel_size': 3, 'strides': 2, 'activation': 'tanh', 'num_dense_layers': 2, 'units': 83, 'optimizer_name': 'RMRProp', 'learning_rate': 0.005890516914829362, 'momentum': 0.3586779119712424}. Best is trial 36 with value: 0.9740740656852722.\u001b[0m\n",
            "/usr/local/lib/python3.7/dist-packages/keras/optimizer_v2/rmsprop.py:130: UserWarning:\n",
            "\n",
            "The `lr` argument is deprecated, use `learning_rate` instead.\n",
            "\n"
          ]
        },
        {
          "output_type": "stream",
          "name": "stdout",
          "text": [
            "Epoch 1/3\n",
            "266/266 [==============================] - 2s 7ms/step - loss: 0.3769 - accuracy: 0.8882 - val_loss: 0.1795 - val_accuracy: 0.9444\n",
            "Epoch 2/3\n",
            "266/266 [==============================] - 2s 6ms/step - loss: 0.1326 - accuracy: 0.9605 - val_loss: 0.1295 - val_accuracy: 0.9646\n",
            "Epoch 3/3\n",
            "266/266 [==============================] - 2s 6ms/step - loss: 0.0915 - accuracy: 0.9728 - val_loss: 0.1399 - val_accuracy: 0.9635\n"
          ]
        },
        {
          "output_type": "stream",
          "name": "stderr",
          "text": [
            "\u001b[32m[I 2021-11-10 22:07:56,671]\u001b[0m Trial 44 finished with value: 0.9634920358657837 and parameters: {'num_conv_layers': 1, 'filters': 16, 'kernel_size': 3, 'strides': 2, 'activation': 'tanh', 'num_dense_layers': 2, 'units': 158, 'optimizer_name': 'RMRProp', 'learning_rate': 0.006193931539722546, 'momentum': 0.2698066688892512}. Best is trial 36 with value: 0.9740740656852722.\u001b[0m\n",
            "/usr/local/lib/python3.7/dist-packages/keras/optimizer_v2/rmsprop.py:130: UserWarning:\n",
            "\n",
            "The `lr` argument is deprecated, use `learning_rate` instead.\n",
            "\n"
          ]
        },
        {
          "output_type": "stream",
          "name": "stdout",
          "text": [
            "Epoch 1/3\n",
            "266/266 [==============================] - 2s 7ms/step - loss: 0.2586 - accuracy: 0.9202 - val_loss: 0.1581 - val_accuracy: 0.9516\n",
            "Epoch 2/3\n",
            "266/266 [==============================] - 2s 6ms/step - loss: 0.1069 - accuracy: 0.9675 - val_loss: 0.1312 - val_accuracy: 0.9614\n",
            "Epoch 3/3\n",
            "266/266 [==============================] - 2s 6ms/step - loss: 0.0821 - accuracy: 0.9745 - val_loss: 0.1351 - val_accuracy: 0.9651\n"
          ]
        },
        {
          "output_type": "stream",
          "name": "stderr",
          "text": [
            "\u001b[32m[I 2021-11-10 22:08:02,760]\u001b[0m Trial 45 finished with value: 0.9650793671607971 and parameters: {'num_conv_layers': 1, 'filters': 16, 'kernel_size': 3, 'strides': 2, 'activation': 'tanh', 'num_dense_layers': 2, 'units': 30, 'optimizer_name': 'RMRProp', 'learning_rate': 0.005018113405321988, 'momentum': 0.4651331316771104}. Best is trial 36 with value: 0.9740740656852722.\u001b[0m\n",
            "/usr/local/lib/python3.7/dist-packages/keras/optimizer_v2/rmsprop.py:130: UserWarning:\n",
            "\n",
            "The `lr` argument is deprecated, use `learning_rate` instead.\n",
            "\n"
          ]
        },
        {
          "output_type": "stream",
          "name": "stdout",
          "text": [
            "Epoch 1/3\n",
            "266/266 [==============================] - 2s 7ms/step - loss: 0.3405 - accuracy: 0.8955 - val_loss: 0.1874 - val_accuracy: 0.9455\n",
            "Epoch 2/3\n",
            "266/266 [==============================] - 1s 6ms/step - loss: 0.1207 - accuracy: 0.9633 - val_loss: 0.1235 - val_accuracy: 0.9640\n",
            "Epoch 3/3\n",
            "266/266 [==============================] - 2s 6ms/step - loss: 0.0889 - accuracy: 0.9725 - val_loss: 0.1267 - val_accuracy: 0.9677\n"
          ]
        },
        {
          "output_type": "stream",
          "name": "stderr",
          "text": [
            "\u001b[32m[I 2021-11-10 22:08:08,623]\u001b[0m Trial 46 finished with value: 0.9677248597145081 and parameters: {'num_conv_layers': 1, 'filters': 16, 'kernel_size': 3, 'strides': 2, 'activation': 'tanh', 'num_dense_layers': 2, 'units': 83, 'optimizer_name': 'RMRProp', 'learning_rate': 0.0077631221122942155, 'momentum': 0.4113637037258866}. Best is trial 36 with value: 0.9740740656852722.\u001b[0m\n",
            "/usr/local/lib/python3.7/dist-packages/keras/optimizer_v2/rmsprop.py:130: UserWarning:\n",
            "\n",
            "The `lr` argument is deprecated, use `learning_rate` instead.\n",
            "\n"
          ]
        },
        {
          "output_type": "stream",
          "name": "stdout",
          "text": [
            "Epoch 1/3\n",
            "266/266 [==============================] - 2s 7ms/step - loss: 0.4218 - accuracy: 0.8747 - val_loss: 0.1700 - val_accuracy: 0.9503\n",
            "Epoch 2/3\n",
            "266/266 [==============================] - 2s 6ms/step - loss: 0.1497 - accuracy: 0.9577 - val_loss: 0.1647 - val_accuracy: 0.9579\n",
            "Epoch 3/3\n",
            "266/266 [==============================] - 2s 6ms/step - loss: 0.1173 - accuracy: 0.9678 - val_loss: 0.1365 - val_accuracy: 0.9616\n"
          ]
        },
        {
          "output_type": "stream",
          "name": "stderr",
          "text": [
            "\u001b[32m[I 2021-11-10 22:08:14,872]\u001b[0m Trial 47 finished with value: 0.9616402387619019 and parameters: {'num_conv_layers': 1, 'filters': 16, 'kernel_size': 3, 'strides': 2, 'activation': 'tanh', 'num_dense_layers': 3, 'units': 132, 'optimizer_name': 'RMRProp', 'learning_rate': 0.004765927413522573, 'momentum': 0.6149413285262699}. Best is trial 36 with value: 0.9740740656852722.\u001b[0m\n",
            "/usr/local/lib/python3.7/dist-packages/keras/optimizer_v2/rmsprop.py:130: UserWarning:\n",
            "\n",
            "The `lr` argument is deprecated, use `learning_rate` instead.\n",
            "\n"
          ]
        },
        {
          "output_type": "stream",
          "name": "stdout",
          "text": [
            "Epoch 1/3\n",
            "266/266 [==============================] - 2s 6ms/step - loss: 0.3852 - accuracy: 0.8853 - val_loss: 0.2081 - val_accuracy: 0.9415\n",
            "Epoch 2/3\n",
            "266/266 [==============================] - 2s 6ms/step - loss: 0.1672 - accuracy: 0.9502 - val_loss: 0.1663 - val_accuracy: 0.9534\n",
            "Epoch 3/3\n",
            "266/266 [==============================] - 2s 6ms/step - loss: 0.1387 - accuracy: 0.9591 - val_loss: 0.1729 - val_accuracy: 0.9519\n"
          ]
        },
        {
          "output_type": "stream",
          "name": "stderr",
          "text": [
            "\u001b[32m[I 2021-11-10 22:08:20,980]\u001b[0m Trial 48 finished with value: 0.9518518447875977 and parameters: {'num_conv_layers': 1, 'filters': 16, 'kernel_size': 3, 'strides': 2, 'activation': 'tanh', 'num_dense_layers': 2, 'units': 11, 'optimizer_name': 'RMRProp', 'learning_rate': 0.009712275940567994, 'momentum': 0.3874316701859814}. Best is trial 36 with value: 0.9740740656852722.\u001b[0m\n",
            "/usr/local/lib/python3.7/dist-packages/keras/optimizer_v2/rmsprop.py:130: UserWarning:\n",
            "\n",
            "The `lr` argument is deprecated, use `learning_rate` instead.\n",
            "\n"
          ]
        },
        {
          "output_type": "stream",
          "name": "stdout",
          "text": [
            "Epoch 1/3\n",
            "266/266 [==============================] - 2s 6ms/step - loss: 0.2832 - accuracy: 0.9122 - val_loss: 0.1520 - val_accuracy: 0.9569\n",
            "Epoch 2/3\n",
            "266/266 [==============================] - 2s 6ms/step - loss: 0.1122 - accuracy: 0.9656 - val_loss: 0.1352 - val_accuracy: 0.9598\n",
            "Epoch 3/3\n",
            "266/266 [==============================] - 2s 6ms/step - loss: 0.0818 - accuracy: 0.9744 - val_loss: 0.1209 - val_accuracy: 0.9664\n"
          ]
        },
        {
          "output_type": "stream",
          "name": "stderr",
          "text": [
            "\u001b[32m[I 2021-11-10 22:08:26,811]\u001b[0m Trial 49 finished with value: 0.9664021134376526 and parameters: {'num_conv_layers': 1, 'filters': 16, 'kernel_size': 3, 'strides': 2, 'activation': 'tanh', 'num_dense_layers': 2, 'units': 67, 'optimizer_name': 'RMRProp', 'learning_rate': 0.003804346824717854, 'momentum': 0.21264315137419484}. Best is trial 36 with value: 0.9740740656852722.\u001b[0m\n",
            "/usr/local/lib/python3.7/dist-packages/keras/optimizer_v2/rmsprop.py:130: UserWarning:\n",
            "\n",
            "The `lr` argument is deprecated, use `learning_rate` instead.\n",
            "\n"
          ]
        },
        {
          "output_type": "stream",
          "name": "stdout",
          "text": [
            "Epoch 1/3\n",
            "266/266 [==============================] - 2s 7ms/step - loss: 0.3492 - accuracy: 0.8885 - val_loss: 0.1482 - val_accuracy: 0.9561\n",
            "Epoch 2/3\n",
            "266/266 [==============================] - 2s 6ms/step - loss: 0.1404 - accuracy: 0.9604 - val_loss: 0.1632 - val_accuracy: 0.9571\n",
            "Epoch 3/3\n",
            "266/266 [==============================] - 2s 6ms/step - loss: 0.1169 - accuracy: 0.9684 - val_loss: 0.1964 - val_accuracy: 0.9556\n"
          ]
        },
        {
          "output_type": "stream",
          "name": "stderr",
          "text": [
            "\u001b[32m[I 2021-11-10 22:08:33,025]\u001b[0m Trial 50 finished with value: 0.9555555582046509 and parameters: {'num_conv_layers': 1, 'filters': 16, 'kernel_size': 3, 'strides': 2, 'activation': 'relu', 'num_dense_layers': 3, 'units': 127, 'optimizer_name': 'RMRProp', 'learning_rate': 0.007107781301421246, 'momentum': 0.5323898651047789}. Best is trial 36 with value: 0.9740740656852722.\u001b[0m\n",
            "/usr/local/lib/python3.7/dist-packages/keras/optimizer_v2/rmsprop.py:130: UserWarning:\n",
            "\n",
            "The `lr` argument is deprecated, use `learning_rate` instead.\n",
            "\n"
          ]
        },
        {
          "output_type": "stream",
          "name": "stdout",
          "text": [
            "Epoch 1/3\n",
            "266/266 [==============================] - 2s 7ms/step - loss: 0.2434 - accuracy: 0.9265 - val_loss: 0.1305 - val_accuracy: 0.9648\n",
            "Epoch 2/3\n",
            "266/266 [==============================] - 2s 6ms/step - loss: 0.1029 - accuracy: 0.9693 - val_loss: 0.1107 - val_accuracy: 0.9675\n",
            "Epoch 3/3\n",
            "266/266 [==============================] - 2s 6ms/step - loss: 0.0738 - accuracy: 0.9767 - val_loss: 0.1333 - val_accuracy: 0.9577\n"
          ]
        },
        {
          "output_type": "stream",
          "name": "stderr",
          "text": [
            "\u001b[32m[I 2021-11-10 22:08:38,964]\u001b[0m Trial 51 finished with value: 0.9576719403266907 and parameters: {'num_conv_layers': 1, 'filters': 16, 'kernel_size': 3, 'strides': 2, 'activation': 'tanh', 'num_dense_layers': 2, 'units': 49, 'optimizer_name': 'RMRProp', 'learning_rate': 0.0034689971688921456, 'momentum': 0.4376904485760799}. Best is trial 36 with value: 0.9740740656852722.\u001b[0m\n",
            "/usr/local/lib/python3.7/dist-packages/keras/optimizer_v2/rmsprop.py:130: UserWarning:\n",
            "\n",
            "The `lr` argument is deprecated, use `learning_rate` instead.\n",
            "\n"
          ]
        },
        {
          "output_type": "stream",
          "name": "stdout",
          "text": [
            "Epoch 1/3\n",
            "266/266 [==============================] - 2s 7ms/step - loss: 0.2636 - accuracy: 0.9232 - val_loss: 0.1501 - val_accuracy: 0.9556\n",
            "Epoch 2/3\n",
            "266/266 [==============================] - 2s 6ms/step - loss: 0.1106 - accuracy: 0.9660 - val_loss: 0.1281 - val_accuracy: 0.9659\n",
            "Epoch 3/3\n",
            "266/266 [==============================] - 2s 6ms/step - loss: 0.0827 - accuracy: 0.9745 - val_loss: 0.1296 - val_accuracy: 0.9624\n"
          ]
        },
        {
          "output_type": "stream",
          "name": "stderr",
          "text": [
            "\u001b[32m[I 2021-11-10 22:08:45,106]\u001b[0m Trial 52 finished with value: 0.9624338746070862 and parameters: {'num_conv_layers': 1, 'filters': 16, 'kernel_size': 3, 'strides': 2, 'activation': 'tanh', 'num_dense_layers': 2, 'units': 27, 'optimizer_name': 'RMRProp', 'learning_rate': 0.0038725692690113377, 'momentum': 0.47263399105266113}. Best is trial 36 with value: 0.9740740656852722.\u001b[0m\n",
            "/usr/local/lib/python3.7/dist-packages/keras/optimizer_v2/rmsprop.py:130: UserWarning:\n",
            "\n",
            "The `lr` argument is deprecated, use `learning_rate` instead.\n",
            "\n"
          ]
        },
        {
          "output_type": "stream",
          "name": "stdout",
          "text": [
            "Epoch 1/3\n",
            "266/266 [==============================] - 2s 7ms/step - loss: 0.2522 - accuracy: 0.9218 - val_loss: 0.1572 - val_accuracy: 0.9574\n",
            "Epoch 2/3\n",
            "266/266 [==============================] - 2s 6ms/step - loss: 0.1044 - accuracy: 0.9680 - val_loss: 0.1230 - val_accuracy: 0.9653\n",
            "Epoch 3/3\n",
            "266/266 [==============================] - 1s 6ms/step - loss: 0.0744 - accuracy: 0.9773 - val_loss: 0.1088 - val_accuracy: 0.9701\n"
          ]
        },
        {
          "output_type": "stream",
          "name": "stderr",
          "text": [
            "\u001b[32m[I 2021-11-10 22:08:51,198]\u001b[0m Trial 53 finished with value: 0.9701058268547058 and parameters: {'num_conv_layers': 1, 'filters': 16, 'kernel_size': 3, 'strides': 2, 'activation': 'tanh', 'num_dense_layers': 2, 'units': 79, 'optimizer_name': 'RMRProp', 'learning_rate': 0.004749540602979373, 'momentum': 0.3403936890815702}. Best is trial 36 with value: 0.9740740656852722.\u001b[0m\n",
            "/usr/local/lib/python3.7/dist-packages/keras/optimizer_v2/rmsprop.py:130: UserWarning:\n",
            "\n",
            "The `lr` argument is deprecated, use `learning_rate` instead.\n",
            "\n"
          ]
        },
        {
          "output_type": "stream",
          "name": "stdout",
          "text": [
            "Epoch 1/3\n",
            "266/266 [==============================] - 2s 7ms/step - loss: 0.4099 - accuracy: 0.8889 - val_loss: 0.2269 - val_accuracy: 0.9341\n",
            "Epoch 2/3\n",
            "266/266 [==============================] - 2s 6ms/step - loss: 0.1314 - accuracy: 0.9609 - val_loss: 0.1175 - val_accuracy: 0.9669\n",
            "Epoch 3/3\n",
            "266/266 [==============================] - 2s 6ms/step - loss: 0.0943 - accuracy: 0.9723 - val_loss: 0.1214 - val_accuracy: 0.9690\n"
          ]
        },
        {
          "output_type": "stream",
          "name": "stderr",
          "text": [
            "\u001b[32m[I 2021-11-10 22:08:57,195]\u001b[0m Trial 54 finished with value: 0.9690476059913635 and parameters: {'num_conv_layers': 1, 'filters': 16, 'kernel_size': 3, 'strides': 2, 'activation': 'tanh', 'num_dense_layers': 2, 'units': 193, 'optimizer_name': 'RMRProp', 'learning_rate': 0.005608223840162485, 'momentum': 0.3495341122191895}. Best is trial 36 with value: 0.9740740656852722.\u001b[0m\n",
            "/usr/local/lib/python3.7/dist-packages/keras/optimizer_v2/adam.py:105: UserWarning:\n",
            "\n",
            "The `lr` argument is deprecated, use `learning_rate` instead.\n",
            "\n"
          ]
        },
        {
          "output_type": "stream",
          "name": "stdout",
          "text": [
            "Epoch 1/3\n",
            "266/266 [==============================] - 2s 6ms/step - loss: 0.2780 - accuracy: 0.9139 - val_loss: 0.1527 - val_accuracy: 0.9553\n",
            "Epoch 2/3\n",
            "266/266 [==============================] - 2s 6ms/step - loss: 0.1058 - accuracy: 0.9664 - val_loss: 0.1202 - val_accuracy: 0.9638\n",
            "Epoch 3/3\n",
            "266/266 [==============================] - 2s 6ms/step - loss: 0.0693 - accuracy: 0.9775 - val_loss: 0.1047 - val_accuracy: 0.9685\n"
          ]
        },
        {
          "output_type": "stream",
          "name": "stderr",
          "text": [
            "\u001b[32m[I 2021-11-10 22:09:02,974]\u001b[0m Trial 55 finished with value: 0.9685184955596924 and parameters: {'num_conv_layers': 1, 'filters': 16, 'kernel_size': 3, 'strides': 2, 'activation': 'tanh', 'num_dense_layers': 2, 'units': 80, 'optimizer_name': 'Adam', 'learning_rate': 0.004771527560163602}. Best is trial 36 with value: 0.9740740656852722.\u001b[0m\n",
            "/usr/local/lib/python3.7/dist-packages/keras/optimizer_v2/rmsprop.py:130: UserWarning:\n",
            "\n",
            "The `lr` argument is deprecated, use `learning_rate` instead.\n",
            "\n"
          ]
        },
        {
          "output_type": "stream",
          "name": "stdout",
          "text": [
            "Epoch 1/3\n",
            "266/266 [==============================] - 3s 7ms/step - loss: 0.3083 - accuracy: 0.9059 - val_loss: 0.1582 - val_accuracy: 0.9526\n",
            "Epoch 2/3\n",
            "266/266 [==============================] - 2s 6ms/step - loss: 0.1197 - accuracy: 0.9643 - val_loss: 0.1301 - val_accuracy: 0.9643\n",
            "Epoch 3/3\n",
            "266/266 [==============================] - 2s 6ms/step - loss: 0.0810 - accuracy: 0.9750 - val_loss: 0.1090 - val_accuracy: 0.9680\n"
          ]
        },
        {
          "output_type": "stream",
          "name": "stderr",
          "text": [
            "\u001b[32m[I 2021-11-10 22:09:09,433]\u001b[0m Trial 56 finished with value: 0.967989444732666 and parameters: {'num_conv_layers': 1, 'filters': 16, 'kernel_size': 3, 'strides': 2, 'activation': 'tanh', 'num_dense_layers': 2, 'units': 111, 'optimizer_name': 'RMRProp', 'learning_rate': 0.005989273640465403, 'momentum': 0.2692769141150309}. Best is trial 36 with value: 0.9740740656852722.\u001b[0m\n",
            "/usr/local/lib/python3.7/dist-packages/keras/optimizer_v2/rmsprop.py:130: UserWarning:\n",
            "\n",
            "The `lr` argument is deprecated, use `learning_rate` instead.\n",
            "\n"
          ]
        },
        {
          "output_type": "stream",
          "name": "stdout",
          "text": [
            "Epoch 1/3\n",
            "266/266 [==============================] - 2s 7ms/step - loss: 0.4081 - accuracy: 0.8672 - val_loss: 0.1607 - val_accuracy: 0.9513\n",
            "Epoch 2/3\n",
            "266/266 [==============================] - 2s 6ms/step - loss: 0.1306 - accuracy: 0.9594 - val_loss: 0.1356 - val_accuracy: 0.9614\n",
            "Epoch 3/3\n",
            "266/266 [==============================] - 2s 6ms/step - loss: 0.0933 - accuracy: 0.9709 - val_loss: 0.1083 - val_accuracy: 0.9677\n"
          ]
        },
        {
          "output_type": "stream",
          "name": "stderr",
          "text": [
            "\u001b[32m[I 2021-11-10 22:09:15,509]\u001b[0m Trial 57 finished with value: 0.9677248597145081 and parameters: {'num_conv_layers': 1, 'filters': 16, 'kernel_size': 3, 'strides': 2, 'activation': 'relu', 'num_dense_layers': 2, 'units': 29, 'optimizer_name': 'RMRProp', 'learning_rate': 0.0047135187730374135, 'momentum': 0.12104569287186734}. Best is trial 36 with value: 0.9740740656852722.\u001b[0m\n",
            "/usr/local/lib/python3.7/dist-packages/keras/optimizer_v2/rmsprop.py:130: UserWarning:\n",
            "\n",
            "The `lr` argument is deprecated, use `learning_rate` instead.\n",
            "\n"
          ]
        },
        {
          "output_type": "stream",
          "name": "stdout",
          "text": [
            "Epoch 1/3\n",
            "266/266 [==============================] - 2s 7ms/step - loss: 0.2506 - accuracy: 0.9214 - val_loss: 0.1884 - val_accuracy: 0.9413\n",
            "Epoch 2/3\n",
            "266/266 [==============================] - 2s 6ms/step - loss: 0.1075 - accuracy: 0.9670 - val_loss: 0.1132 - val_accuracy: 0.9661\n",
            "Epoch 3/3\n",
            "266/266 [==============================] - 2s 6ms/step - loss: 0.0749 - accuracy: 0.9774 - val_loss: 0.1087 - val_accuracy: 0.9717\n"
          ]
        },
        {
          "output_type": "stream",
          "name": "stderr",
          "text": [
            "\u001b[32m[I 2021-11-10 22:09:21,606]\u001b[0m Trial 58 finished with value: 0.9716930985450745 and parameters: {'num_conv_layers': 1, 'filters': 16, 'kernel_size': 3, 'strides': 2, 'activation': 'tanh', 'num_dense_layers': 2, 'units': 65, 'optimizer_name': 'RMRProp', 'learning_rate': 0.005325738799483061, 'momentum': 0.48539559949670874}. Best is trial 36 with value: 0.9740740656852722.\u001b[0m\n",
            "/usr/local/lib/python3.7/dist-packages/keras/optimizer_v2/adam.py:105: UserWarning:\n",
            "\n",
            "The `lr` argument is deprecated, use `learning_rate` instead.\n",
            "\n"
          ]
        },
        {
          "output_type": "stream",
          "name": "stdout",
          "text": [
            "Epoch 1/3\n",
            "266/266 [==============================] - 2s 6ms/step - loss: 0.2770 - accuracy: 0.9158 - val_loss: 0.1417 - val_accuracy: 0.9595\n",
            "Epoch 2/3\n",
            "266/266 [==============================] - 2s 6ms/step - loss: 0.0980 - accuracy: 0.9697 - val_loss: 0.1103 - val_accuracy: 0.9669\n",
            "Epoch 3/3\n",
            "266/266 [==============================] - 2s 6ms/step - loss: 0.0660 - accuracy: 0.9792 - val_loss: 0.0902 - val_accuracy: 0.9738\n"
          ]
        },
        {
          "output_type": "stream",
          "name": "stderr",
          "text": [
            "\u001b[32m[I 2021-11-10 22:09:27,724]\u001b[0m Trial 59 finished with value: 0.973809540271759 and parameters: {'num_conv_layers': 2, 'filters': 16, 'kernel_size': 3, 'strides': 2, 'activation': 'tanh', 'num_dense_layers': 2, 'units': 61, 'optimizer_name': 'Adam', 'learning_rate': 0.005330910713807278}. Best is trial 36 with value: 0.9740740656852722.\u001b[0m\n"
          ]
        }
      ]
    },
    {
      "cell_type": "code",
      "metadata": {
        "id": "Wq4Qbncm4fTl",
        "outputId": "85c2e2cf-0957-4859-da24-42a73fa0a51e",
        "colab": {
          "base_uri": "https://localhost:8080/"
        }
      },
      "source": [
        "study.best_params\n"
      ],
      "execution_count": 38,
      "outputs": [
        {
          "output_type": "execute_result",
          "data": {
            "text/plain": [
              "{'activation': 'tanh',\n",
              " 'filters': 16,\n",
              " 'kernel_size': 3,\n",
              " 'learning_rate': 0.002878983904416791,\n",
              " 'momentum': 0.4781051050947992,\n",
              " 'num_conv_layers': 1,\n",
              " 'num_dense_layers': 2,\n",
              " 'optimizer_name': 'RMRProp',\n",
              " 'strides': 2,\n",
              " 'units': 42}"
            ]
          },
          "metadata": {},
          "execution_count": 38
        }
      ]
    },
    {
      "cell_type": "code",
      "metadata": {
        "id": "A9h_pZQw4i-L",
        "outputId": "f925f5d1-357d-42de-9bf4-7cc3d55c0d43",
        "colab": {
          "base_uri": "https://localhost:8080/"
        }
      },
      "source": [
        "study.best_value"
      ],
      "execution_count": 39,
      "outputs": [
        {
          "output_type": "execute_result",
          "data": {
            "text/plain": [
              "0.9740740656852722"
            ]
          },
          "metadata": {},
          "execution_count": 39
        }
      ]
    },
    {
      "cell_type": "code",
      "metadata": {
        "id": "pAAsLEVm1DZz",
        "outputId": "7295f2c6-4d84-4dbd-febc-b83d9bb46348",
        "colab": {
          "base_uri": "https://localhost:8080/",
          "height": 312
        }
      },
      "source": [
        "#analyze result\n",
        "\n",
        "\n",
        "results = study.trials_dataframe()\n",
        "\n",
        "results['value'].sort_values().reset_index(drop=True).plot()\n",
        "plt.title('convergence plot')\n",
        "plt.xlabel('Iteration')\n",
        "plt.ylabel('Accuracy')"
      ],
      "execution_count": 40,
      "outputs": [
        {
          "output_type": "execute_result",
          "data": {
            "text/plain": [
              "Text(0, 0.5, 'Accuracy')"
            ]
          },
          "metadata": {},
          "execution_count": 40
        },
        {
          "output_type": "display_data",
          "data": {
            "image/png": "[encoded data removed]",
            "text/plain": [
              "<Figure size 432x288 with 1 Axes>"
            ]
          },
          "metadata": {
            "needs_background": "light"
          }
        }
      ]
    },
    {
      "cell_type": "code",
      "metadata": {
        "id": "Esa4KhCV1mPP",
        "outputId": "bf4c4ae1-1edc-499e-9361-fd10342f8aa0",
        "colab": {
          "base_uri": "https://localhost:8080/"
        }
      },
      "source": [
        "#Evaluate\n",
        "model = load_model(path_best_model)\n",
        "\n",
        "model.summary()"
      ],
      "execution_count": 41,
      "outputs": [
        {
          "output_type": "stream",
          "name": "stdout",
          "text": [
            "Model: \"sequential_36\"\n",
            "_________________________________________________________________\n",
            " Layer (type)                Output Shape              Param #   \n",
            "=================================================================\n",
            " conv2d_36 (Conv2D)          (None, 14, 14, 16)        160       \n",
            "                                                                 \n",
            " max_pooling2d_36 (MaxPoolin  (None, 7, 7, 16)         0         \n",
            " g2D)                                                            \n",
            "                                                                 \n",
            " flatten_36 (Flatten)        (None, 784)               0         \n",
            "                                                                 \n",
            " dense_95 (Dense)            (None, 42)                32970     \n",
            "                                                                 \n",
            " dense_96 (Dense)            (None, 42)                1806      \n",
            "                                                                 \n",
            " dense_97 (Dense)            (None, 10)                430       \n",
            "                                                                 \n",
            "=================================================================\n",
            "Total params: 35,366\n",
            "Trainable params: 35,366\n",
            "Non-trainable params: 0\n",
            "_________________________________________________________________\n"
          ]
        }
      ]
    },
    {
      "cell_type": "code",
      "metadata": {
        "id": "Dyiu3UD85wOq",
        "outputId": "6b6197c9-5005-4f8a-c83f-fbe14dd714df",
        "colab": {
          "base_uri": "https://localhost:8080/"
        }
      },
      "source": [
        "results = model.evaluate(x=X_test, y = y_test)"
      ],
      "execution_count": 42,
      "outputs": [
        {
          "output_type": "stream",
          "name": "stdout",
          "text": [
            "132/132 [==============================] - 1s 4ms/step - loss: 0.0870 - accuracy: 0.9745\n"
          ]
        }
      ]
    },
    {
      "cell_type": "code",
      "metadata": {
        "id": "RrbeTIaN57OF",
        "outputId": "62e137c2-e18a-48c9-a4b8-f128a16e177e",
        "colab": {
          "base_uri": "https://localhost:8080/"
        }
      },
      "source": [
        "for name , value in zip(model.metrics_names,results):\n",
        "  print(name, value)"
      ],
      "execution_count": 45,
      "outputs": [
        {
          "output_type": "stream",
          "name": "stdout",
          "text": [
            "loss 0.08697552233934402\n",
            "accuracy 0.9745237827301025\n"
          ]
        }
      ]
    },
    {
      "cell_type": "code",
      "metadata": {
        "id": "IzhKN-x75_vZ",
        "outputId": "b57fd35f-b6f7-48f2-e109-2671870460a6",
        "colab": {
          "base_uri": "https://localhost:8080/"
        }
      },
      "source": [
        "#confuison matrix\n",
        "y_pred = model.predict(X_test)\n",
        "y_pred_classes= np.argmax(y_pred, axis=1)\n",
        "y_true= np.argmax(y_test, axis=1)\n",
        "\n",
        "cm = confusion_matrix(y_true, y_pred_classes)\n",
        "\n",
        "cm\n"
      ],
      "execution_count": 46,
      "outputs": [
        {
          "output_type": "execute_result",
          "data": {
            "text/plain": [
              "array([[413,   0,   1,   1,   0,   0,   4,   0,   2,   1],\n",
              "       [  0, 470,   3,   0,   0,   0,   0,   0,   0,   0],\n",
              "       [  1,   2, 401,   1,   0,   1,   1,   2,   0,   0],\n",
              "       [  0,   0,   3, 408,   0,   4,   1,   5,   3,   2],\n",
              "       [  1,   2,   1,   0, 422,   0,   2,   0,   0,   1],\n",
              "       [  0,   0,   0,   3,   0, 371,   3,   0,   3,   2],\n",
              "       [  0,   1,   2,   0,   1,   2, 406,   0,   0,   0],\n",
              "       [  0,   3,   5,   2,   1,   0,   0, 458,   0,   0],\n",
              "       [  0,   1,   3,   2,   0,   3,   3,   1, 370,   1],\n",
              "       [  2,   1,   0,   3,  10,   1,   0,   3,   0, 374]])"
            ]
          },
          "metadata": {},
          "execution_count": 46
        }
      ]
    },
    {
      "cell_type": "code",
      "metadata": {
        "id": "MrjeZpnh6nF2",
        "outputId": "0f200ed5-c32f-4126-9a23-c5dcf7594c38",
        "colab": {
          "base_uri": "https://localhost:8080/",
          "height": 328
        }
      },
      "source": [
        "# let's make it more colourful\n",
        "classes = 10\n",
        "\n",
        "plt.imshow(cm, interpolation='nearest', cmap=plt.cm.Blues)\n",
        "plt.title('Confusion matrix')\n",
        "plt.colorbar()\n",
        "tick_marks = np.arange(classes)\n",
        "plt.xticks(tick_marks, range(classes), rotation=45)\n",
        "plt.yticks(tick_marks, range(classes))\n",
        "\n",
        "for i, j in itertools.product(range(cm.shape[0]), range(cm.shape[1])):\n",
        "    plt.text(j, i, cm[i, j],\n",
        "             horizontalalignment=\"center\",\n",
        "             color=\"white\" if cm[i, j] > 100 else \"black\",\n",
        "            )\n",
        "\n",
        "plt.tight_layout()\n",
        "plt.ylabel('True label')\n",
        "plt.xlabel('Predicted label')"
      ],
      "execution_count": 47,
      "outputs": [
        {
          "output_type": "execute_result",
          "data": {
            "text/plain": [
              "Text(0.5, 13.421126458070283, 'Predicted label')"
            ]
          },
          "metadata": {},
          "execution_count": 47
        },
        {
          "output_type": "display_data",
          "data": {
            "image/png": "[encoded data removed]",
            "text/plain": [
              "<Figure size 432x288 with 2 Axes>"
            ]
          },
          "metadata": {
            "needs_background": "light"
          }
        }
      ]
    }
  ]
}