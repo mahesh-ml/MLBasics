{
  "nbformat": 4,
  "nbformat_minor": 0,
  "metadata": {
    "colab": {
      "name": "Optuna-optimizeCNN.ipynb",
      "provenance": [],
      "mount_file_id": "https://github.com/mahesh-ml/MLBasics/blob/main/Optuna_optimizeCNN.ipynb",
      "authorship_tag": "ABX9TyO6jj10nWItesWVcBZeamkR",
      "include_colab_link": true
    },
    "kernelspec": {
      "name": "python3",
      "display_name": "Python 3"
    },
    "language_info": {
      "name": "python"
    },
    "accelerator": "GPU"
  },
  "cells": [
    {
      "cell_type": "markdown",
      "metadata": {
        "id": "view-in-github",
        "colab_type": "text"
      },
      "source": [
        "<a href=\"https://colab.research.google.com/github/mahesh-ml/MLBasics/blob/main/Optuna_optimizeCNN.ipynb\" target=\"_parent\"><img src=\"https://colab.research.google.com/assets/colab-badge.svg\" alt=\"Open In Colab\"/></a>"
      ]
    },
    {
      "cell_type": "code",
      "metadata": {
        "id": "e8WnVvOtc_cm"
      },
      "source": [
        "import os\n",
        "os.environ['PYTHONHASHSEED'] = '0'\n",
        "import numpy as np\n",
        "import tensorflow as tf\n",
        "import random as python_random\n",
        "\n",
        "np.random.seed(123)\n",
        "python_random.seed(123)\n",
        "\n",
        "tf.random.set_seed(1234)"
      ],
      "execution_count": 48,
      "outputs": []
    },
    {
      "cell_type": "code",
      "metadata": {
        "colab": {
          "base_uri": "https://localhost:8080/"
        },
        "id": "EocOLKu8fQz9",
        "outputId": "81a984b4-e5fa-43b6-aa58-1953830ece9f"
      },
      "source": [
        "!pip install optuna\n",
        "import optuna"
      ],
      "execution_count": 49,
      "outputs": [
        {
          "output_type": "stream",
          "name": "stdout",
          "text": [
            "Requirement already satisfied: optuna in /usr/local/lib/python3.7/dist-packages (2.10.0)\n",
            "Requirement already satisfied: cliff in /usr/local/lib/python3.7/dist-packages (from optuna) (3.9.0)\n",
            "Requirement already satisfied: numpy in /usr/local/lib/python3.7/dist-packages (from optuna) (1.19.5)\n",
            "Requirement already satisfied: colorlog in /usr/local/lib/python3.7/dist-packages (from optuna) (6.6.0)\n",
            "Requirement already satisfied: tqdm in /usr/local/lib/python3.7/dist-packages (from optuna) (4.62.3)\n",
            "Requirement already satisfied: PyYAML in /usr/local/lib/python3.7/dist-packages (from optuna) (3.13)\n",
            "Requirement already satisfied: alembic in /usr/local/lib/python3.7/dist-packages (from optuna) (1.7.4)\n",
            "Requirement already satisfied: packaging>=20.0 in /usr/local/lib/python3.7/dist-packages (from optuna) (21.2)\n",
            "Requirement already satisfied: cmaes>=0.8.2 in /usr/local/lib/python3.7/dist-packages (from optuna) (0.8.2)\n",
            "Requirement already satisfied: sqlalchemy>=1.1.0 in /usr/local/lib/python3.7/dist-packages (from optuna) (1.4.26)\n",
            "Requirement already satisfied: scipy!=1.4.0 in /usr/local/lib/python3.7/dist-packages (from optuna) (1.4.1)\n",
            "Requirement already satisfied: pyparsing<3,>=2.0.2 in /usr/local/lib/python3.7/dist-packages (from packaging>=20.0->optuna) (2.4.7)\n",
            "Requirement already satisfied: greenlet!=0.4.17 in /usr/local/lib/python3.7/dist-packages (from sqlalchemy>=1.1.0->optuna) (1.1.2)\n",
            "Requirement already satisfied: importlib-metadata in /usr/local/lib/python3.7/dist-packages (from sqlalchemy>=1.1.0->optuna) (4.8.1)\n",
            "Requirement already satisfied: importlib-resources in /usr/local/lib/python3.7/dist-packages (from alembic->optuna) (5.4.0)\n",
            "Requirement already satisfied: Mako in /usr/local/lib/python3.7/dist-packages (from alembic->optuna) (1.1.5)\n",
            "Requirement already satisfied: cmd2>=1.0.0 in /usr/local/lib/python3.7/dist-packages (from cliff->optuna) (2.2.0)\n",
            "Requirement already satisfied: pbr!=2.1.0,>=2.0.0 in /usr/local/lib/python3.7/dist-packages (from cliff->optuna) (5.7.0)\n",
            "Requirement already satisfied: stevedore>=2.0.1 in /usr/local/lib/python3.7/dist-packages (from cliff->optuna) (3.5.0)\n",
            "Requirement already satisfied: PrettyTable>=0.7.2 in /usr/local/lib/python3.7/dist-packages (from cliff->optuna) (2.4.0)\n",
            "Requirement already satisfied: autopage>=0.4.0 in /usr/local/lib/python3.7/dist-packages (from cliff->optuna) (0.4.0)\n",
            "Requirement already satisfied: typing-extensions in /usr/local/lib/python3.7/dist-packages (from cmd2>=1.0.0->cliff->optuna) (3.10.0.2)\n",
            "Requirement already satisfied: wcwidth>=0.1.7 in /usr/local/lib/python3.7/dist-packages (from cmd2>=1.0.0->cliff->optuna) (0.2.5)\n",
            "Requirement already satisfied: pyperclip>=1.6 in /usr/local/lib/python3.7/dist-packages (from cmd2>=1.0.0->cliff->optuna) (1.8.2)\n",
            "Requirement already satisfied: attrs>=16.3.0 in /usr/local/lib/python3.7/dist-packages (from cmd2>=1.0.0->cliff->optuna) (21.2.0)\n",
            "Requirement already satisfied: colorama>=0.3.7 in /usr/local/lib/python3.7/dist-packages (from cmd2>=1.0.0->cliff->optuna) (0.4.4)\n",
            "Requirement already satisfied: zipp>=0.5 in /usr/local/lib/python3.7/dist-packages (from importlib-metadata->sqlalchemy>=1.1.0->optuna) (3.6.0)\n",
            "Requirement already satisfied: MarkupSafe>=0.9.2 in /usr/local/lib/python3.7/dist-packages (from Mako->alembic->optuna) (2.0.1)\n"
          ]
        }
      ]
    },
    {
      "cell_type": "code",
      "metadata": {
        "id": "mXpmcCZAdsRO"
      },
      "source": [
        "import itertools\n",
        "from functools import partial\n",
        "import pandas as pd\n",
        "import matplotlib.pyplot as plt\n",
        "import seaborn as sns\n",
        "\n",
        "from sklearn.model_selection import train_test_split\n",
        "from sklearn.metrics import confusion_matrix\n",
        "\n",
        "from keras.utils.np_utils import to_categorical\n",
        "from keras.models import Sequential, load_model\n",
        "from keras.layers import Dense,Flatten,Conv2D , MaxPool2D\n",
        "from tensorflow.keras.optimizers import Adam,RMSprop\n",
        "\n"
      ],
      "execution_count": 50,
      "outputs": []
    },
    {
      "cell_type": "code",
      "metadata": {
        "id": "snClXSttfYNV"
      },
      "source": [
        "data = pd.read_csv(\"/content/mnist.csv\")"
      ],
      "execution_count": 51,
      "outputs": []
    },
    {
      "cell_type": "code",
      "metadata": {
        "colab": {
          "base_uri": "https://localhost:8080/",
          "height": 254
        },
        "id": "1fmbR5mQfnaA",
        "outputId": "9521a590-e7ca-4055-d506-d47b8387b494"
      },
      "source": [
        "data.head()"
      ],
      "execution_count": 52,
      "outputs": [
        {
          "output_type": "execute_result",
          "data": {
            "text/html": [
              "<div>\n",
              "<style scoped>\n",
              "    .dataframe tbody tr th:only-of-type {\n",
              "        vertical-align: middle;\n",
              "    }\n",
              "\n",
              "    .dataframe tbody tr th {\n",
              "        vertical-align: top;\n",
              "    }\n",
              "\n",
              "    .dataframe thead th {\n",
              "        text-align: right;\n",
              "    }\n",
              "</style>\n",
              "<table border=\"1\" class=\"dataframe\">\n",
              "  <thead>\n",
              "    <tr style=\"text-align: right;\">\n",
              "      <th></th>\n",
              "      <th>label</th>\n",
              "      <th>pixel0</th>\n",
              "      <th>pixel1</th>\n",
              "      <th>pixel2</th>\n",
              "      <th>pixel3</th>\n",
              "      <th>pixel4</th>\n",
              "      <th>pixel5</th>\n",
              "      <th>pixel6</th>\n",
              "      <th>pixel7</th>\n",
              "      <th>pixel8</th>\n",
              "      <th>pixel9</th>\n",
              "      <th>pixel10</th>\n",
              "      <th>pixel11</th>\n",
              "      <th>pixel12</th>\n",
              "      <th>pixel13</th>\n",
              "      <th>pixel14</th>\n",
              "      <th>pixel15</th>\n",
              "      <th>pixel16</th>\n",
              "      <th>pixel17</th>\n",
              "      <th>pixel18</th>\n",
              "      <th>pixel19</th>\n",
              "      <th>pixel20</th>\n",
              "      <th>pixel21</th>\n",
              "      <th>pixel22</th>\n",
              "      <th>pixel23</th>\n",
              "      <th>pixel24</th>\n",
              "      <th>pixel25</th>\n",
              "      <th>pixel26</th>\n",
              "      <th>pixel27</th>\n",
              "      <th>pixel28</th>\n",
              "      <th>pixel29</th>\n",
              "      <th>pixel30</th>\n",
              "      <th>pixel31</th>\n",
              "      <th>pixel32</th>\n",
              "      <th>pixel33</th>\n",
              "      <th>pixel34</th>\n",
              "      <th>pixel35</th>\n",
              "      <th>pixel36</th>\n",
              "      <th>pixel37</th>\n",
              "      <th>pixel38</th>\n",
              "      <th>...</th>\n",
              "      <th>pixel744</th>\n",
              "      <th>pixel745</th>\n",
              "      <th>pixel746</th>\n",
              "      <th>pixel747</th>\n",
              "      <th>pixel748</th>\n",
              "      <th>pixel749</th>\n",
              "      <th>pixel750</th>\n",
              "      <th>pixel751</th>\n",
              "      <th>pixel752</th>\n",
              "      <th>pixel753</th>\n",
              "      <th>pixel754</th>\n",
              "      <th>pixel755</th>\n",
              "      <th>pixel756</th>\n",
              "      <th>pixel757</th>\n",
              "      <th>pixel758</th>\n",
              "      <th>pixel759</th>\n",
              "      <th>pixel760</th>\n",
              "      <th>pixel761</th>\n",
              "      <th>pixel762</th>\n",
              "      <th>pixel763</th>\n",
              "      <th>pixel764</th>\n",
              "      <th>pixel765</th>\n",
              "      <th>pixel766</th>\n",
              "      <th>pixel767</th>\n",
              "      <th>pixel768</th>\n",
              "      <th>pixel769</th>\n",
              "      <th>pixel770</th>\n",
              "      <th>pixel771</th>\n",
              "      <th>pixel772</th>\n",
              "      <th>pixel773</th>\n",
              "      <th>pixel774</th>\n",
              "      <th>pixel775</th>\n",
              "      <th>pixel776</th>\n",
              "      <th>pixel777</th>\n",
              "      <th>pixel778</th>\n",
              "      <th>pixel779</th>\n",
              "      <th>pixel780</th>\n",
              "      <th>pixel781</th>\n",
              "      <th>pixel782</th>\n",
              "      <th>pixel783</th>\n",
              "    </tr>\n",
              "  </thead>\n",
              "  <tbody>\n",
              "    <tr>\n",
              "      <th>0</th>\n",
              "      <td>1</td>\n",
              "      <td>0</td>\n",
              "      <td>0</td>\n",
              "      <td>0</td>\n",
              "      <td>0</td>\n",
              "      <td>0</td>\n",
              "      <td>0</td>\n",
              "      <td>0</td>\n",
              "      <td>0</td>\n",
              "      <td>0</td>\n",
              "      <td>0</td>\n",
              "      <td>0</td>\n",
              "      <td>0</td>\n",
              "      <td>0</td>\n",
              "      <td>0</td>\n",
              "      <td>0</td>\n",
              "      <td>0</td>\n",
              "      <td>0</td>\n",
              "      <td>0</td>\n",
              "      <td>0</td>\n",
              "      <td>0</td>\n",
              "      <td>0</td>\n",
              "      <td>0</td>\n",
              "      <td>0</td>\n",
              "      <td>0</td>\n",
              "      <td>0</td>\n",
              "      <td>0</td>\n",
              "      <td>0</td>\n",
              "      <td>0</td>\n",
              "      <td>0</td>\n",
              "      <td>0</td>\n",
              "      <td>0</td>\n",
              "      <td>0</td>\n",
              "      <td>0</td>\n",
              "      <td>0</td>\n",
              "      <td>0</td>\n",
              "      <td>0</td>\n",
              "      <td>0</td>\n",
              "      <td>0</td>\n",
              "      <td>0</td>\n",
              "      <td>...</td>\n",
              "      <td>0</td>\n",
              "      <td>0</td>\n",
              "      <td>0</td>\n",
              "      <td>0</td>\n",
              "      <td>0</td>\n",
              "      <td>0</td>\n",
              "      <td>0</td>\n",
              "      <td>0</td>\n",
              "      <td>0</td>\n",
              "      <td>0</td>\n",
              "      <td>0</td>\n",
              "      <td>0</td>\n",
              "      <td>0</td>\n",
              "      <td>0</td>\n",
              "      <td>0</td>\n",
              "      <td>0</td>\n",
              "      <td>0</td>\n",
              "      <td>0</td>\n",
              "      <td>0</td>\n",
              "      <td>0</td>\n",
              "      <td>0</td>\n",
              "      <td>0</td>\n",
              "      <td>0</td>\n",
              "      <td>0</td>\n",
              "      <td>0</td>\n",
              "      <td>0</td>\n",
              "      <td>0</td>\n",
              "      <td>0</td>\n",
              "      <td>0</td>\n",
              "      <td>0</td>\n",
              "      <td>0</td>\n",
              "      <td>0</td>\n",
              "      <td>0</td>\n",
              "      <td>0</td>\n",
              "      <td>0</td>\n",
              "      <td>0</td>\n",
              "      <td>0</td>\n",
              "      <td>0</td>\n",
              "      <td>0</td>\n",
              "      <td>0</td>\n",
              "    </tr>\n",
              "    <tr>\n",
              "      <th>1</th>\n",
              "      <td>0</td>\n",
              "      <td>0</td>\n",
              "      <td>0</td>\n",
              "      <td>0</td>\n",
              "      <td>0</td>\n",
              "      <td>0</td>\n",
              "      <td>0</td>\n",
              "      <td>0</td>\n",
              "      <td>0</td>\n",
              "      <td>0</td>\n",
              "      <td>0</td>\n",
              "      <td>0</td>\n",
              "      <td>0</td>\n",
              "      <td>0</td>\n",
              "      <td>0</td>\n",
              "      <td>0</td>\n",
              "      <td>0</td>\n",
              "      <td>0</td>\n",
              "      <td>0</td>\n",
              "      <td>0</td>\n",
              "      <td>0</td>\n",
              "      <td>0</td>\n",
              "      <td>0</td>\n",
              "      <td>0</td>\n",
              "      <td>0</td>\n",
              "      <td>0</td>\n",
              "      <td>0</td>\n",
              "      <td>0</td>\n",
              "      <td>0</td>\n",
              "      <td>0</td>\n",
              "      <td>0</td>\n",
              "      <td>0</td>\n",
              "      <td>0</td>\n",
              "      <td>0</td>\n",
              "      <td>0</td>\n",
              "      <td>0</td>\n",
              "      <td>0</td>\n",
              "      <td>0</td>\n",
              "      <td>0</td>\n",
              "      <td>0</td>\n",
              "      <td>...</td>\n",
              "      <td>0</td>\n",
              "      <td>0</td>\n",
              "      <td>0</td>\n",
              "      <td>0</td>\n",
              "      <td>0</td>\n",
              "      <td>0</td>\n",
              "      <td>0</td>\n",
              "      <td>0</td>\n",
              "      <td>0</td>\n",
              "      <td>0</td>\n",
              "      <td>0</td>\n",
              "      <td>0</td>\n",
              "      <td>0</td>\n",
              "      <td>0</td>\n",
              "      <td>0</td>\n",
              "      <td>0</td>\n",
              "      <td>0</td>\n",
              "      <td>0</td>\n",
              "      <td>0</td>\n",
              "      <td>0</td>\n",
              "      <td>0</td>\n",
              "      <td>0</td>\n",
              "      <td>0</td>\n",
              "      <td>0</td>\n",
              "      <td>0</td>\n",
              "      <td>0</td>\n",
              "      <td>0</td>\n",
              "      <td>0</td>\n",
              "      <td>0</td>\n",
              "      <td>0</td>\n",
              "      <td>0</td>\n",
              "      <td>0</td>\n",
              "      <td>0</td>\n",
              "      <td>0</td>\n",
              "      <td>0</td>\n",
              "      <td>0</td>\n",
              "      <td>0</td>\n",
              "      <td>0</td>\n",
              "      <td>0</td>\n",
              "      <td>0</td>\n",
              "    </tr>\n",
              "    <tr>\n",
              "      <th>2</th>\n",
              "      <td>1</td>\n",
              "      <td>0</td>\n",
              "      <td>0</td>\n",
              "      <td>0</td>\n",
              "      <td>0</td>\n",
              "      <td>0</td>\n",
              "      <td>0</td>\n",
              "      <td>0</td>\n",
              "      <td>0</td>\n",
              "      <td>0</td>\n",
              "      <td>0</td>\n",
              "      <td>0</td>\n",
              "      <td>0</td>\n",
              "      <td>0</td>\n",
              "      <td>0</td>\n",
              "      <td>0</td>\n",
              "      <td>0</td>\n",
              "      <td>0</td>\n",
              "      <td>0</td>\n",
              "      <td>0</td>\n",
              "      <td>0</td>\n",
              "      <td>0</td>\n",
              "      <td>0</td>\n",
              "      <td>0</td>\n",
              "      <td>0</td>\n",
              "      <td>0</td>\n",
              "      <td>0</td>\n",
              "      <td>0</td>\n",
              "      <td>0</td>\n",
              "      <td>0</td>\n",
              "      <td>0</td>\n",
              "      <td>0</td>\n",
              "      <td>0</td>\n",
              "      <td>0</td>\n",
              "      <td>0</td>\n",
              "      <td>0</td>\n",
              "      <td>0</td>\n",
              "      <td>0</td>\n",
              "      <td>0</td>\n",
              "      <td>0</td>\n",
              "      <td>...</td>\n",
              "      <td>0</td>\n",
              "      <td>0</td>\n",
              "      <td>0</td>\n",
              "      <td>0</td>\n",
              "      <td>0</td>\n",
              "      <td>0</td>\n",
              "      <td>0</td>\n",
              "      <td>0</td>\n",
              "      <td>0</td>\n",
              "      <td>0</td>\n",
              "      <td>0</td>\n",
              "      <td>0</td>\n",
              "      <td>0</td>\n",
              "      <td>0</td>\n",
              "      <td>0</td>\n",
              "      <td>0</td>\n",
              "      <td>0</td>\n",
              "      <td>0</td>\n",
              "      <td>0</td>\n",
              "      <td>0</td>\n",
              "      <td>0</td>\n",
              "      <td>0</td>\n",
              "      <td>0</td>\n",
              "      <td>0</td>\n",
              "      <td>0</td>\n",
              "      <td>0</td>\n",
              "      <td>0</td>\n",
              "      <td>0</td>\n",
              "      <td>0</td>\n",
              "      <td>0</td>\n",
              "      <td>0</td>\n",
              "      <td>0</td>\n",
              "      <td>0</td>\n",
              "      <td>0</td>\n",
              "      <td>0</td>\n",
              "      <td>0</td>\n",
              "      <td>0</td>\n",
              "      <td>0</td>\n",
              "      <td>0</td>\n",
              "      <td>0</td>\n",
              "    </tr>\n",
              "    <tr>\n",
              "      <th>3</th>\n",
              "      <td>4</td>\n",
              "      <td>0</td>\n",
              "      <td>0</td>\n",
              "      <td>0</td>\n",
              "      <td>0</td>\n",
              "      <td>0</td>\n",
              "      <td>0</td>\n",
              "      <td>0</td>\n",
              "      <td>0</td>\n",
              "      <td>0</td>\n",
              "      <td>0</td>\n",
              "      <td>0</td>\n",
              "      <td>0</td>\n",
              "      <td>0</td>\n",
              "      <td>0</td>\n",
              "      <td>0</td>\n",
              "      <td>0</td>\n",
              "      <td>0</td>\n",
              "      <td>0</td>\n",
              "      <td>0</td>\n",
              "      <td>0</td>\n",
              "      <td>0</td>\n",
              "      <td>0</td>\n",
              "      <td>0</td>\n",
              "      <td>0</td>\n",
              "      <td>0</td>\n",
              "      <td>0</td>\n",
              "      <td>0</td>\n",
              "      <td>0</td>\n",
              "      <td>0</td>\n",
              "      <td>0</td>\n",
              "      <td>0</td>\n",
              "      <td>0</td>\n",
              "      <td>0</td>\n",
              "      <td>0</td>\n",
              "      <td>0</td>\n",
              "      <td>0</td>\n",
              "      <td>0</td>\n",
              "      <td>0</td>\n",
              "      <td>0</td>\n",
              "      <td>...</td>\n",
              "      <td>0</td>\n",
              "      <td>0</td>\n",
              "      <td>0</td>\n",
              "      <td>0</td>\n",
              "      <td>0</td>\n",
              "      <td>0</td>\n",
              "      <td>0</td>\n",
              "      <td>0</td>\n",
              "      <td>0</td>\n",
              "      <td>0</td>\n",
              "      <td>0</td>\n",
              "      <td>0</td>\n",
              "      <td>0</td>\n",
              "      <td>0</td>\n",
              "      <td>0</td>\n",
              "      <td>0</td>\n",
              "      <td>0</td>\n",
              "      <td>0</td>\n",
              "      <td>0</td>\n",
              "      <td>0</td>\n",
              "      <td>0</td>\n",
              "      <td>0</td>\n",
              "      <td>0</td>\n",
              "      <td>0</td>\n",
              "      <td>0</td>\n",
              "      <td>0</td>\n",
              "      <td>0</td>\n",
              "      <td>0</td>\n",
              "      <td>0</td>\n",
              "      <td>0</td>\n",
              "      <td>0</td>\n",
              "      <td>0</td>\n",
              "      <td>0</td>\n",
              "      <td>0</td>\n",
              "      <td>0</td>\n",
              "      <td>0</td>\n",
              "      <td>0</td>\n",
              "      <td>0</td>\n",
              "      <td>0</td>\n",
              "      <td>0</td>\n",
              "    </tr>\n",
              "    <tr>\n",
              "      <th>4</th>\n",
              "      <td>0</td>\n",
              "      <td>0</td>\n",
              "      <td>0</td>\n",
              "      <td>0</td>\n",
              "      <td>0</td>\n",
              "      <td>0</td>\n",
              "      <td>0</td>\n",
              "      <td>0</td>\n",
              "      <td>0</td>\n",
              "      <td>0</td>\n",
              "      <td>0</td>\n",
              "      <td>0</td>\n",
              "      <td>0</td>\n",
              "      <td>0</td>\n",
              "      <td>0</td>\n",
              "      <td>0</td>\n",
              "      <td>0</td>\n",
              "      <td>0</td>\n",
              "      <td>0</td>\n",
              "      <td>0</td>\n",
              "      <td>0</td>\n",
              "      <td>0</td>\n",
              "      <td>0</td>\n",
              "      <td>0</td>\n",
              "      <td>0</td>\n",
              "      <td>0</td>\n",
              "      <td>0</td>\n",
              "      <td>0</td>\n",
              "      <td>0</td>\n",
              "      <td>0</td>\n",
              "      <td>0</td>\n",
              "      <td>0</td>\n",
              "      <td>0</td>\n",
              "      <td>0</td>\n",
              "      <td>0</td>\n",
              "      <td>0</td>\n",
              "      <td>0</td>\n",
              "      <td>0</td>\n",
              "      <td>0</td>\n",
              "      <td>0</td>\n",
              "      <td>...</td>\n",
              "      <td>0</td>\n",
              "      <td>0</td>\n",
              "      <td>0</td>\n",
              "      <td>0</td>\n",
              "      <td>0</td>\n",
              "      <td>0</td>\n",
              "      <td>0</td>\n",
              "      <td>0</td>\n",
              "      <td>0</td>\n",
              "      <td>0</td>\n",
              "      <td>0</td>\n",
              "      <td>0</td>\n",
              "      <td>0</td>\n",
              "      <td>0</td>\n",
              "      <td>0</td>\n",
              "      <td>0</td>\n",
              "      <td>0</td>\n",
              "      <td>0</td>\n",
              "      <td>0</td>\n",
              "      <td>0</td>\n",
              "      <td>0</td>\n",
              "      <td>0</td>\n",
              "      <td>0</td>\n",
              "      <td>0</td>\n",
              "      <td>0</td>\n",
              "      <td>0</td>\n",
              "      <td>0</td>\n",
              "      <td>0</td>\n",
              "      <td>0</td>\n",
              "      <td>0</td>\n",
              "      <td>0</td>\n",
              "      <td>0</td>\n",
              "      <td>0</td>\n",
              "      <td>0</td>\n",
              "      <td>0</td>\n",
              "      <td>0</td>\n",
              "      <td>0</td>\n",
              "      <td>0</td>\n",
              "      <td>0</td>\n",
              "      <td>0</td>\n",
              "    </tr>\n",
              "  </tbody>\n",
              "</table>\n",
              "<p>5 rows × 785 columns</p>\n",
              "</div>"
            ],
            "text/plain": [
              "   label  pixel0  pixel1  pixel2  ...  pixel780  pixel781  pixel782  pixel783\n",
              "0      1       0       0       0  ...         0         0         0         0\n",
              "1      0       0       0       0  ...         0         0         0         0\n",
              "2      1       0       0       0  ...         0         0         0         0\n",
              "3      4       0       0       0  ...         0         0         0         0\n",
              "4      0       0       0       0  ...         0         0         0         0\n",
              "\n",
              "[5 rows x 785 columns]"
            ]
          },
          "metadata": {},
          "execution_count": 52
        }
      ]
    },
    {
      "cell_type": "code",
      "metadata": {
        "colab": {
          "base_uri": "https://localhost:8080/"
        },
        "id": "YQjDiJLThBqM",
        "outputId": "0086bf6c-a772-4efb-feb7-0c2a21f466ea"
      },
      "source": [
        "X_train, X_test, y_train, y_test = train_test_split(data.drop(['label'],axis=1),data['label'],test_size=0.1, random_state=0)\n",
        "X_train.shape, X_test.shape"
      ],
      "execution_count": 53,
      "outputs": [
        {
          "output_type": "execute_result",
          "data": {
            "text/plain": [
              "((37800, 784), (4200, 784))"
            ]
          },
          "metadata": {},
          "execution_count": 53
        }
      ]
    },
    {
      "cell_type": "code",
      "metadata": {
        "colab": {
          "base_uri": "https://localhost:8080/",
          "height": 296
        },
        "id": "C3uASx2Wz6Md",
        "outputId": "6408f495-4d70-46ee-9620-9fc479e96555"
      },
      "source": [
        "g = sns.countplot(x=y_train)\n",
        "plt.xlabel(\"digits\")\n",
        "plt.ylabel('number of images')"
      ],
      "execution_count": 54,
      "outputs": [
        {
          "output_type": "execute_result",
          "data": {
            "text/plain": [
              "Text(0, 0.5, 'number of images')"
            ]
          },
          "metadata": {},
          "execution_count": 54
        },
        {
          "output_type": "display_data",
          "data": {
            "image/png": "[encoded data removed]",
            "text/plain": [
              "<Figure size 432x288 with 1 Axes>"
            ]
          },
          "metadata": {
            "needs_background": "light"
          }
        }
      ]
    },
    {
      "cell_type": "code",
      "metadata": {
        "id": "WLx5ORLC0NIP"
      },
      "source": [
        "#rescale and reshape\n",
        "X_train= X_train / 255\n",
        "X_test = X_test /255\n",
        "\n",
        "#reshape\n",
        "X_train=X_train.values.reshape(-1,28,28,1)\n",
        "X_test=X_test.values.reshape(-1,28,28,1)\n"
      ],
      "execution_count": 55,
      "outputs": []
    },
    {
      "cell_type": "code",
      "metadata": {
        "colab": {
          "base_uri": "https://localhost:8080/"
        },
        "id": "fUa3rMnylfh8",
        "outputId": "95bb42d7-0c61-4fa9-920f-f3245431aa2f"
      },
      "source": [
        "y_train = to_categorical(y_train, num_classes=10)\n",
        "y_test = to_categorical(y_test, num_classes=10)\n",
        "\n",
        "\n",
        "y_train"
      ],
      "execution_count": 56,
      "outputs": [
        {
          "output_type": "execute_result",
          "data": {
            "text/plain": [
              "array([[0., 0., 1., ..., 0., 0., 0.],\n",
              "       [0., 0., 1., ..., 0., 0., 0.],\n",
              "       [1., 0., 0., ..., 0., 0., 0.],\n",
              "       ...,\n",
              "       [0., 0., 0., ..., 0., 0., 1.],\n",
              "       [1., 0., 0., ..., 0., 0., 0.],\n",
              "       [0., 0., 0., ..., 0., 0., 1.]], dtype=float32)"
            ]
          },
          "metadata": {},
          "execution_count": 56
        }
      ]
    },
    {
      "cell_type": "code",
      "metadata": {
        "id": "xk7AX6tBlWQR"
      },
      "source": [
        "path_best_model='cnn_model.h5'\n",
        "best_accuracy=0"
      ],
      "execution_count": 57,
      "outputs": []
    },
    {
      "cell_type": "code",
      "metadata": {
        "id": "nQ6lkbHYmliv"
      },
      "source": [
        "#objective function\n",
        "def objective(trial):\n",
        "  model= Sequential()\n",
        "  num_conv_layers= trial.suggest_int('num_conv_layers',1,3)\n",
        "\n",
        "  for i in range(num_conv_layers):\n",
        "    model.add(Conv2D(\n",
        "                     filters=trial.suggest_categorical('filters',[16,32,64]),\n",
        "                     kernel_size=trial.suggest_categorical('kernel_size',[3,5]),\n",
        "                     strides=trial.suggest_categorical('strides',[1,2]),\n",
        "                     activation= trial.suggest_categorical('activation',['relu','tanh']), padding='same'\n",
        "              \n",
        "              ))\n",
        "    model.add(MaxPool2D(pool_size=trial.suggest_int('pool_size',2,3), strides=2))\n",
        "\n",
        "    model.add(Flatten())\n",
        "\n",
        "    num_dense_layers = trial.suggest_int('num_dense_layers', 1, 3)\n",
        "\n",
        "    for i in range(num_dense_layers):\n",
        "        model.add(Dense(\n",
        "             units = trial.suggest_int('units', 5,512),\n",
        "             activation = trial.suggest_categorical('activation',['relu','tanh'])\n",
        "        ))\n",
        "    model.add(Dense(10,activation='softmax'))\n",
        "\n",
        "    optimizer_name = trial.suggest_categorical('optimizer_name',['Adam','RMRProp'])\n",
        "\n",
        "    if optimizer_name == 'Adam':\n",
        "       optimizer = Adam(learning_rate=trial.suggest_float('learning_rate',1e-6, 1e-2))\n",
        "    else:\n",
        "       optimizer = RMSprop(learning_rate=trial.suggest_float('learning_rate',1e-6, 1e-2), \n",
        "                           momentum = trial.suggest_float('momentum',0.1,0.9))\n",
        "       \n",
        "    #compile model\n",
        "  \n",
        "    model.compile(optimizer=optimizer,\n",
        "                  loss='categorical_crossentropy',\n",
        "                  metrics=['accuracy'])\n",
        "\n",
        "    #train model\n",
        "    history = model.fit(x=X_train, \n",
        "                        y = y_train, \n",
        "                        epochs=3, \n",
        "                        batch_size=128,\n",
        "                        validation_split=0.1)\n",
        "\n",
        "    #accuracy\n",
        "    accuracy= history.history['val_accuracy'][-1]\n",
        "\n",
        "    global best_accuracy\n",
        "\n",
        "    if accuracy > best_accuracy:\n",
        "        model.save(path_best_model)\n",
        "        best_accuracy = accuracy\n",
        "\n",
        "    del model\n",
        "\n",
        "    return accuracy"
      ],
      "execution_count": 58,
      "outputs": []
    },
    {
      "cell_type": "code",
      "metadata": {
        "id": "YFi0eA83sN6c"
      },
      "source": [
        "study_name='cnn_study'\n",
        "storage_name=\"sqlite:///{}.db\".format(study_name)"
      ],
      "execution_count": 59,
      "outputs": []
    },
    {
      "cell_type": "code",
      "metadata": {
        "colab": {
          "base_uri": "https://localhost:8080/"
        },
        "id": "9KxtnLG1sc7i",
        "outputId": "f60b0c31-92b7-41d1-eaee-5c9845a9c781"
      },
      "source": [
        "study = optuna.create_study(\n",
        "    direction='maximize',\n",
        "    study_name=study_name,\n",
        "    storage= storage_name,\n",
        "    load_if_exists=True\n",
        "\n",
        ")\n",
        "\n",
        "study.optimize(objective, n_trials=30)"
      ],
      "execution_count": 60,
      "outputs": [
        {
          "output_type": "stream",
          "name": "stderr",
          "text": [
            "\u001b[32m[I 2021-11-10 22:19:39,810]\u001b[0m Using an existing study with name 'cnn_study' instead of creating a new one.\u001b[0m\n"
          ]
        },
        {
          "output_type": "stream",
          "name": "stdout",
          "text": [
            "Epoch 1/3\n",
            "266/266 [==============================] - 2s 7ms/step - loss: 0.2613 - accuracy: 0.9157 - val_loss: 0.1191 - val_accuracy: 0.9643\n",
            "Epoch 2/3\n",
            "266/266 [==============================] - 2s 6ms/step - loss: 0.0981 - accuracy: 0.9695 - val_loss: 0.1143 - val_accuracy: 0.9661\n",
            "Epoch 3/3\n",
            "266/266 [==============================] - 1s 6ms/step - loss: 0.0703 - accuracy: 0.9780 - val_loss: 0.0954 - val_accuracy: 0.9733\n"
          ]
        },
        {
          "output_type": "stream",
          "name": "stderr",
          "text": [
            "\u001b[32m[I 2021-11-10 22:19:46,125]\u001b[0m Trial 60 finished with value: 0.9732804298400879 and parameters: {'num_conv_layers': 2, 'filters': 16, 'kernel_size': 3, 'strides': 2, 'activation': 'tanh', 'pool_size': 3, 'num_dense_layers': 2, 'units': 158, 'optimizer_name': 'Adam', 'learning_rate': 0.005280242536130916}. Best is trial 36 with value: 0.9740740656852722.\u001b[0m\n"
          ]
        },
        {
          "output_type": "stream",
          "name": "stdout",
          "text": [
            "Epoch 1/3\n",
            "266/266 [==============================] - 2s 6ms/step - loss: 0.2647 - accuracy: 0.9176 - val_loss: 0.1247 - val_accuracy: 0.9606\n",
            "Epoch 2/3\n",
            "266/266 [==============================] - 1s 5ms/step - loss: 0.0885 - accuracy: 0.9716 - val_loss: 0.1011 - val_accuracy: 0.9706\n",
            "Epoch 3/3\n",
            "266/266 [==============================] - 2s 6ms/step - loss: 0.0648 - accuracy: 0.9792 - val_loss: 0.1066 - val_accuracy: 0.9696\n"
          ]
        },
        {
          "output_type": "stream",
          "name": "stderr",
          "text": [
            "\u001b[32m[I 2021-11-10 22:19:52,289]\u001b[0m Trial 61 finished with value: 0.9695767164230347 and parameters: {'num_conv_layers': 2, 'filters': 16, 'kernel_size': 3, 'strides': 2, 'activation': 'tanh', 'pool_size': 3, 'num_dense_layers': 2, 'units': 67, 'optimizer_name': 'Adam', 'learning_rate': 0.005294920816610469}. Best is trial 36 with value: 0.9740740656852722.\u001b[0m\n"
          ]
        },
        {
          "output_type": "stream",
          "name": "stdout",
          "text": [
            "Epoch 1/3\n",
            "266/266 [==============================] - 2s 7ms/step - loss: 0.2453 - accuracy: 0.9232 - val_loss: 0.1447 - val_accuracy: 0.9566\n",
            "Epoch 2/3\n",
            "266/266 [==============================] - 2s 6ms/step - loss: 0.0964 - accuracy: 0.9696 - val_loss: 0.1295 - val_accuracy: 0.9632\n",
            "Epoch 3/3\n",
            "266/266 [==============================] - 2s 6ms/step - loss: 0.0648 - accuracy: 0.9791 - val_loss: 0.0918 - val_accuracy: 0.9735\n"
          ]
        },
        {
          "output_type": "stream",
          "name": "stderr",
          "text": [
            "\u001b[32m[I 2021-11-10 22:19:58,462]\u001b[0m Trial 62 finished with value: 0.9735449552536011 and parameters: {'num_conv_layers': 2, 'filters': 16, 'kernel_size': 3, 'strides': 2, 'activation': 'tanh', 'pool_size': 2, 'num_dense_layers': 2, 'units': 98, 'optimizer_name': 'Adam', 'learning_rate': 0.0062520644849654635}. Best is trial 36 with value: 0.9740740656852722.\u001b[0m\n"
          ]
        },
        {
          "output_type": "stream",
          "name": "stdout",
          "text": [
            "Epoch 1/3\n",
            "266/266 [==============================] - 2s 7ms/step - loss: 0.2451 - accuracy: 0.9228 - val_loss: 0.1373 - val_accuracy: 0.9627\n",
            "Epoch 2/3\n",
            "266/266 [==============================] - 2s 6ms/step - loss: 0.1027 - accuracy: 0.9676 - val_loss: 0.1268 - val_accuracy: 0.9624\n",
            "Epoch 3/3\n",
            "266/266 [==============================] - 2s 6ms/step - loss: 0.0653 - accuracy: 0.9799 - val_loss: 0.1029 - val_accuracy: 0.9725\n"
          ]
        },
        {
          "output_type": "stream",
          "name": "stderr",
          "text": [
            "\u001b[32m[I 2021-11-10 22:20:04,347]\u001b[0m Trial 63 finished with value: 0.9724867939949036 and parameters: {'num_conv_layers': 2, 'filters': 16, 'kernel_size': 3, 'strides': 2, 'activation': 'tanh', 'pool_size': 2, 'num_dense_layers': 2, 'units': 96, 'optimizer_name': 'Adam', 'learning_rate': 0.006942573667233457}. Best is trial 36 with value: 0.9740740656852722.\u001b[0m\n"
          ]
        },
        {
          "output_type": "stream",
          "name": "stdout",
          "text": [
            "Epoch 1/3\n",
            "266/266 [==============================] - 2s 7ms/step - loss: 0.2466 - accuracy: 0.9232 - val_loss: 0.1469 - val_accuracy: 0.9553\n",
            "Epoch 2/3\n",
            "266/266 [==============================] - 2s 6ms/step - loss: 0.1091 - accuracy: 0.9661 - val_loss: 0.1203 - val_accuracy: 0.9643\n",
            "Epoch 3/3\n",
            "266/266 [==============================] - 2s 6ms/step - loss: 0.0810 - accuracy: 0.9753 - val_loss: 0.1037 - val_accuracy: 0.9690\n"
          ]
        },
        {
          "output_type": "stream",
          "name": "stderr",
          "text": [
            "\u001b[32m[I 2021-11-10 22:20:10,462]\u001b[0m Trial 64 finished with value: 0.9690476059913635 and parameters: {'num_conv_layers': 2, 'filters': 16, 'kernel_size': 3, 'strides': 2, 'activation': 'tanh', 'pool_size': 2, 'num_dense_layers': 2, 'units': 171, 'optimizer_name': 'Adam', 'learning_rate': 0.006873264549503881}. Best is trial 36 with value: 0.9740740656852722.\u001b[0m\n"
          ]
        },
        {
          "output_type": "stream",
          "name": "stdout",
          "text": [
            "Epoch 1/3\n",
            "266/266 [==============================] - 2s 6ms/step - loss: 0.2502 - accuracy: 0.9208 - val_loss: 0.1629 - val_accuracy: 0.9505\n",
            "Epoch 2/3\n",
            "266/266 [==============================] - 2s 6ms/step - loss: 0.0989 - accuracy: 0.9686 - val_loss: 0.1089 - val_accuracy: 0.9661\n",
            "Epoch 3/3\n",
            "266/266 [==============================] - 1s 6ms/step - loss: 0.0677 - accuracy: 0.9783 - val_loss: 0.1073 - val_accuracy: 0.9677\n"
          ]
        },
        {
          "output_type": "stream",
          "name": "stderr",
          "text": [
            "\u001b[32m[I 2021-11-10 22:20:17,031]\u001b[0m Trial 65 finished with value: 0.9677248597145081 and parameters: {'num_conv_layers': 2, 'filters': 16, 'kernel_size': 3, 'strides': 2, 'activation': 'tanh', 'pool_size': 2, 'num_dense_layers': 2, 'units': 102, 'optimizer_name': 'Adam', 'learning_rate': 0.00672344773724067}. Best is trial 36 with value: 0.9740740656852722.\u001b[0m\n"
          ]
        },
        {
          "output_type": "stream",
          "name": "stdout",
          "text": [
            "Epoch 1/3\n",
            "266/266 [==============================] - 2s 7ms/step - loss: 0.2342 - accuracy: 0.9259 - val_loss: 0.1115 - val_accuracy: 0.9669\n",
            "Epoch 2/3\n",
            "266/266 [==============================] - 2s 6ms/step - loss: 0.0834 - accuracy: 0.9735 - val_loss: 0.1337 - val_accuracy: 0.9651\n",
            "Epoch 3/3\n",
            "266/266 [==============================] - 2s 6ms/step - loss: 0.0585 - accuracy: 0.9813 - val_loss: 0.0802 - val_accuracy: 0.9786\n"
          ]
        },
        {
          "output_type": "stream",
          "name": "stderr",
          "text": [
            "\u001b[32m[I 2021-11-10 22:20:23,194]\u001b[0m Trial 66 finished with value: 0.9785714149475098 and parameters: {'num_conv_layers': 2, 'filters': 16, 'kernel_size': 3, 'strides': 2, 'activation': 'relu', 'pool_size': 2, 'num_dense_layers': 2, 'units': 122, 'optimizer_name': 'Adam', 'learning_rate': 0.007629720010923141}. Best is trial 66 with value: 0.9785714149475098.\u001b[0m\n"
          ]
        },
        {
          "output_type": "stream",
          "name": "stdout",
          "text": [
            "Epoch 1/3\n",
            "266/266 [==============================] - 2s 7ms/step - loss: 0.2455 - accuracy: 0.9200 - val_loss: 0.1119 - val_accuracy: 0.9675\n",
            "Epoch 2/3\n",
            "266/266 [==============================] - 2s 6ms/step - loss: 0.0808 - accuracy: 0.9748 - val_loss: 0.0965 - val_accuracy: 0.9728\n",
            "Epoch 3/3\n",
            "266/266 [==============================] - 2s 6ms/step - loss: 0.0582 - accuracy: 0.9812 - val_loss: 0.1069 - val_accuracy: 0.9735\n"
          ]
        },
        {
          "output_type": "stream",
          "name": "stderr",
          "text": [
            "\u001b[32m[I 2021-11-10 22:20:29,324]\u001b[0m Trial 67 finished with value: 0.9735449552536011 and parameters: {'num_conv_layers': 2, 'filters': 16, 'kernel_size': 3, 'strides': 2, 'activation': 'relu', 'pool_size': 2, 'num_dense_layers': 2, 'units': 125, 'optimizer_name': 'Adam', 'learning_rate': 0.007881870093850146}. Best is trial 66 with value: 0.9785714149475098.\u001b[0m\n"
          ]
        },
        {
          "output_type": "stream",
          "name": "stdout",
          "text": [
            "Epoch 1/3\n",
            "266/266 [==============================] - 2s 7ms/step - loss: 0.2433 - accuracy: 0.9215 - val_loss: 0.1154 - val_accuracy: 0.9653\n",
            "Epoch 2/3\n",
            "266/266 [==============================] - 2s 6ms/step - loss: 0.0828 - accuracy: 0.9744 - val_loss: 0.0873 - val_accuracy: 0.9735\n",
            "Epoch 3/3\n",
            "266/266 [==============================] - 2s 6ms/step - loss: 0.0561 - accuracy: 0.9825 - val_loss: 0.0851 - val_accuracy: 0.9757\n"
          ]
        },
        {
          "output_type": "stream",
          "name": "stderr",
          "text": [
            "\u001b[32m[I 2021-11-10 22:20:35,426]\u001b[0m Trial 68 finished with value: 0.9756613969802856 and parameters: {'num_conv_layers': 2, 'filters': 16, 'kernel_size': 3, 'strides': 2, 'activation': 'relu', 'pool_size': 2, 'num_dense_layers': 2, 'units': 150, 'optimizer_name': 'Adam', 'learning_rate': 0.007802188186666907}. Best is trial 66 with value: 0.9785714149475098.\u001b[0m\n"
          ]
        },
        {
          "output_type": "stream",
          "name": "stdout",
          "text": [
            "Epoch 1/3\n",
            "266/266 [==============================] - 2s 7ms/step - loss: 0.2600 - accuracy: 0.9163 - val_loss: 0.1204 - val_accuracy: 0.9616\n",
            "Epoch 2/3\n",
            "266/266 [==============================] - 2s 6ms/step - loss: 0.0930 - accuracy: 0.9728 - val_loss: 0.0959 - val_accuracy: 0.9735\n",
            "Epoch 3/3\n",
            "266/266 [==============================] - 2s 6ms/step - loss: 0.0631 - accuracy: 0.9807 - val_loss: 0.0942 - val_accuracy: 0.9728\n"
          ]
        },
        {
          "output_type": "stream",
          "name": "stderr",
          "text": [
            "\u001b[32m[I 2021-11-10 22:20:46,718]\u001b[0m Trial 69 finished with value: 0.9727513194084167 and parameters: {'num_conv_layers': 2, 'filters': 16, 'kernel_size': 3, 'strides': 2, 'activation': 'relu', 'pool_size': 2, 'num_dense_layers': 3, 'units': 196, 'optimizer_name': 'Adam', 'learning_rate': 0.008464590127699791}. Best is trial 66 with value: 0.9785714149475098.\u001b[0m\n"
          ]
        },
        {
          "output_type": "stream",
          "name": "stdout",
          "text": [
            "Epoch 1/3\n",
            "266/266 [==============================] - 2s 7ms/step - loss: 0.2354 - accuracy: 0.9217 - val_loss: 0.1126 - val_accuracy: 0.9661\n",
            "Epoch 2/3\n",
            "266/266 [==============================] - 2s 6ms/step - loss: 0.0817 - accuracy: 0.9745 - val_loss: 0.0968 - val_accuracy: 0.9720\n",
            "Epoch 3/3\n",
            "266/266 [==============================] - 2s 6ms/step - loss: 0.0614 - accuracy: 0.9803 - val_loss: 0.0953 - val_accuracy: 0.9730\n"
          ]
        },
        {
          "output_type": "stream",
          "name": "stderr",
          "text": [
            "\u001b[32m[I 2021-11-10 22:20:52,858]\u001b[0m Trial 70 finished with value: 0.9730158448219299 and parameters: {'num_conv_layers': 2, 'filters': 16, 'kernel_size': 3, 'strides': 2, 'activation': 'relu', 'pool_size': 3, 'num_dense_layers': 2, 'units': 240, 'optimizer_name': 'Adam', 'learning_rate': 0.007557098194603235}. Best is trial 66 with value: 0.9785714149475098.\u001b[0m\n"
          ]
        },
        {
          "output_type": "stream",
          "name": "stdout",
          "text": [
            "Epoch 1/3\n",
            "266/266 [==============================] - 2s 6ms/step - loss: 0.2420 - accuracy: 0.9202 - val_loss: 0.1185 - val_accuracy: 0.9627\n",
            "Epoch 2/3\n",
            "266/266 [==============================] - 2s 6ms/step - loss: 0.0856 - accuracy: 0.9730 - val_loss: 0.0998 - val_accuracy: 0.9733\n",
            "Epoch 3/3\n",
            "266/266 [==============================] - 2s 6ms/step - loss: 0.0636 - accuracy: 0.9794 - val_loss: 0.0878 - val_accuracy: 0.9762\n"
          ]
        },
        {
          "output_type": "stream",
          "name": "stderr",
          "text": [
            "\u001b[32m[I 2021-11-10 22:20:58,966]\u001b[0m Trial 71 finished with value: 0.976190447807312 and parameters: {'num_conv_layers': 2, 'filters': 16, 'kernel_size': 3, 'strides': 2, 'activation': 'relu', 'pool_size': 3, 'num_dense_layers': 2, 'units': 243, 'optimizer_name': 'Adam', 'learning_rate': 0.007669498119600356}. Best is trial 66 with value: 0.9785714149475098.\u001b[0m\n"
          ]
        },
        {
          "output_type": "stream",
          "name": "stdout",
          "text": [
            "Epoch 1/3\n",
            "266/266 [==============================] - 2s 7ms/step - loss: 0.2310 - accuracy: 0.9237 - val_loss: 0.1209 - val_accuracy: 0.9614\n",
            "Epoch 2/3\n",
            "266/266 [==============================] - 2s 6ms/step - loss: 0.0824 - accuracy: 0.9739 - val_loss: 0.0972 - val_accuracy: 0.9712\n",
            "Epoch 3/3\n",
            "266/266 [==============================] - 2s 6ms/step - loss: 0.0615 - accuracy: 0.9809 - val_loss: 0.1033 - val_accuracy: 0.9690\n"
          ]
        },
        {
          "output_type": "stream",
          "name": "stderr",
          "text": [
            "\u001b[32m[I 2021-11-10 22:21:05,086]\u001b[0m Trial 72 finished with value: 0.9690476059913635 and parameters: {'num_conv_layers': 2, 'filters': 16, 'kernel_size': 3, 'strides': 2, 'activation': 'relu', 'pool_size': 3, 'num_dense_layers': 2, 'units': 146, 'optimizer_name': 'Adam', 'learning_rate': 0.008465823698048262}. Best is trial 66 with value: 0.9785714149475098.\u001b[0m\n"
          ]
        },
        {
          "output_type": "stream",
          "name": "stdout",
          "text": [
            "Epoch 1/3\n",
            "266/266 [==============================] - 2s 6ms/step - loss: 0.2444 - accuracy: 0.9217 - val_loss: 0.1119 - val_accuracy: 0.9659\n",
            "Epoch 2/3\n",
            "266/266 [==============================] - 2s 6ms/step - loss: 0.0862 - accuracy: 0.9722 - val_loss: 0.1276 - val_accuracy: 0.9640\n",
            "Epoch 3/3\n",
            "266/266 [==============================] - 2s 6ms/step - loss: 0.0567 - accuracy: 0.9812 - val_loss: 0.0800 - val_accuracy: 0.9772\n"
          ]
        },
        {
          "output_type": "stream",
          "name": "stderr",
          "text": [
            "\u001b[32m[I 2021-11-10 22:21:11,198]\u001b[0m Trial 73 finished with value: 0.9772486686706543 and parameters: {'num_conv_layers': 2, 'filters': 16, 'kernel_size': 3, 'strides': 2, 'activation': 'relu', 'pool_size': 2, 'num_dense_layers': 2, 'units': 124, 'optimizer_name': 'Adam', 'learning_rate': 0.00783816905004461}. Best is trial 66 with value: 0.9785714149475098.\u001b[0m\n"
          ]
        },
        {
          "output_type": "stream",
          "name": "stdout",
          "text": [
            "Epoch 1/3\n",
            "266/266 [==============================] - 2s 7ms/step - loss: 0.2631 - accuracy: 0.9152 - val_loss: 0.1170 - val_accuracy: 0.9646\n",
            "Epoch 2/3\n",
            "266/266 [==============================] - 2s 6ms/step - loss: 0.0844 - accuracy: 0.9728 - val_loss: 0.1323 - val_accuracy: 0.9608\n",
            "Epoch 3/3\n",
            "266/266 [==============================] - 2s 6ms/step - loss: 0.0595 - accuracy: 0.9806 - val_loss: 0.0971 - val_accuracy: 0.9720\n"
          ]
        },
        {
          "output_type": "stream",
          "name": "stderr",
          "text": [
            "\u001b[32m[I 2021-11-10 22:21:17,331]\u001b[0m Trial 74 finished with value: 0.9719576835632324 and parameters: {'num_conv_layers': 2, 'filters': 16, 'kernel_size': 3, 'strides': 2, 'activation': 'relu', 'pool_size': 2, 'num_dense_layers': 2, 'units': 115, 'optimizer_name': 'Adam', 'learning_rate': 0.007829758219434855}. Best is trial 66 with value: 0.9785714149475098.\u001b[0m\n"
          ]
        },
        {
          "output_type": "stream",
          "name": "stdout",
          "text": [
            "Epoch 1/3\n",
            "266/266 [==============================] - 2s 6ms/step - loss: 0.2191 - accuracy: 0.9299 - val_loss: 0.1088 - val_accuracy: 0.9701\n",
            "Epoch 2/3\n",
            "266/266 [==============================] - 2s 6ms/step - loss: 0.0791 - accuracy: 0.9755 - val_loss: 0.1189 - val_accuracy: 0.9669\n",
            "Epoch 3/3\n",
            "266/266 [==============================] - 2s 6ms/step - loss: 0.0534 - accuracy: 0.9826 - val_loss: 0.0987 - val_accuracy: 0.9738\n"
          ]
        },
        {
          "output_type": "stream",
          "name": "stderr",
          "text": [
            "\u001b[32m[I 2021-11-10 22:21:23,282]\u001b[0m Trial 75 finished with value: 0.973809540271759 and parameters: {'num_conv_layers': 2, 'filters': 16, 'kernel_size': 3, 'strides': 2, 'activation': 'relu', 'pool_size': 2, 'num_dense_layers': 2, 'units': 178, 'optimizer_name': 'Adam', 'learning_rate': 0.008052006510838457}. Best is trial 66 with value: 0.9785714149475098.\u001b[0m\n"
          ]
        },
        {
          "output_type": "stream",
          "name": "stdout",
          "text": [
            "Epoch 1/3\n",
            "266/266 [==============================] - 2s 7ms/step - loss: 0.2170 - accuracy: 0.9315 - val_loss: 0.1126 - val_accuracy: 0.9661\n",
            "Epoch 2/3\n",
            "266/266 [==============================] - 2s 6ms/step - loss: 0.0799 - accuracy: 0.9746 - val_loss: 0.0977 - val_accuracy: 0.9704\n",
            "Epoch 3/3\n",
            "266/266 [==============================] - 2s 6ms/step - loss: 0.0572 - accuracy: 0.9822 - val_loss: 0.0922 - val_accuracy: 0.9730\n"
          ]
        },
        {
          "output_type": "stream",
          "name": "stderr",
          "text": [
            "\u001b[32m[I 2021-11-10 22:21:29,444]\u001b[0m Trial 76 finished with value: 0.9730158448219299 and parameters: {'num_conv_layers': 2, 'filters': 16, 'kernel_size': 3, 'strides': 2, 'activation': 'relu', 'pool_size': 2, 'num_dense_layers': 2, 'units': 226, 'optimizer_name': 'Adam', 'learning_rate': 0.008739673909515864}. Best is trial 66 with value: 0.9785714149475098.\u001b[0m\n"
          ]
        },
        {
          "output_type": "stream",
          "name": "stdout",
          "text": [
            "Epoch 1/3\n",
            "266/266 [==============================] - 2s 7ms/step - loss: 0.2374 - accuracy: 0.9243 - val_loss: 0.1122 - val_accuracy: 0.9683\n",
            "Epoch 2/3\n",
            "266/266 [==============================] - 2s 6ms/step - loss: 0.0880 - accuracy: 0.9729 - val_loss: 0.1201 - val_accuracy: 0.9685\n",
            "Epoch 3/3\n",
            "266/266 [==============================] - 2s 6ms/step - loss: 0.0643 - accuracy: 0.9798 - val_loss: 0.0971 - val_accuracy: 0.9725\n"
          ]
        },
        {
          "output_type": "stream",
          "name": "stderr",
          "text": [
            "\u001b[32m[I 2021-11-10 22:21:35,588]\u001b[0m Trial 77 finished with value: 0.9724867939949036 and parameters: {'num_conv_layers': 2, 'filters': 16, 'kernel_size': 3, 'strides': 2, 'activation': 'relu', 'pool_size': 2, 'num_dense_layers': 2, 'units': 200, 'optimizer_name': 'Adam', 'learning_rate': 0.009254939522062258}. Best is trial 66 with value: 0.9785714149475098.\u001b[0m\n"
          ]
        },
        {
          "output_type": "stream",
          "name": "stdout",
          "text": [
            "Epoch 1/3\n",
            "266/266 [==============================] - 3s 7ms/step - loss: 0.2387 - accuracy: 0.9223 - val_loss: 0.1323 - val_accuracy: 0.9606\n",
            "Epoch 2/3\n",
            "266/266 [==============================] - 2s 6ms/step - loss: 0.0839 - accuracy: 0.9738 - val_loss: 0.0852 - val_accuracy: 0.9754\n",
            "Epoch 3/3\n",
            "266/266 [==============================] - 2s 6ms/step - loss: 0.0519 - accuracy: 0.9833 - val_loss: 0.0914 - val_accuracy: 0.9754\n"
          ]
        },
        {
          "output_type": "stream",
          "name": "stderr",
          "text": [
            "\u001b[32m[I 2021-11-10 22:21:42,291]\u001b[0m Trial 78 finished with value: 0.9753968119621277 and parameters: {'num_conv_layers': 3, 'filters': 16, 'kernel_size': 3, 'strides': 2, 'activation': 'relu', 'pool_size': 2, 'num_dense_layers': 2, 'units': 141, 'optimizer_name': 'Adam', 'learning_rate': 0.00808471422736561}. Best is trial 66 with value: 0.9785714149475098.\u001b[0m\n"
          ]
        },
        {
          "output_type": "stream",
          "name": "stdout",
          "text": [
            "Epoch 1/3\n",
            "266/266 [==============================] - 3s 9ms/step - loss: 0.2176 - accuracy: 0.9295 - val_loss: 0.0923 - val_accuracy: 0.9725\n",
            "Epoch 2/3\n",
            "266/266 [==============================] - 2s 8ms/step - loss: 0.0707 - accuracy: 0.9782 - val_loss: 0.1077 - val_accuracy: 0.9696\n",
            "Epoch 3/3\n",
            "266/266 [==============================] - 2s 8ms/step - loss: 0.0512 - accuracy: 0.9838 - val_loss: 0.0808 - val_accuracy: 0.9746\n"
          ]
        },
        {
          "output_type": "stream",
          "name": "stderr",
          "text": [
            "\u001b[32m[I 2021-11-10 22:21:49,749]\u001b[0m Trial 79 finished with value: 0.9746031761169434 and parameters: {'num_conv_layers': 3, 'filters': 64, 'kernel_size': 3, 'strides': 2, 'activation': 'relu', 'pool_size': 2, 'num_dense_layers': 2, 'units': 174, 'optimizer_name': 'Adam', 'learning_rate': 0.008092938842880511}. Best is trial 66 with value: 0.9785714149475098.\u001b[0m\n"
          ]
        },
        {
          "output_type": "stream",
          "name": "stdout",
          "text": [
            "Epoch 1/3\n",
            "266/266 [==============================] - 3s 9ms/step - loss: 0.2257 - accuracy: 0.9276 - val_loss: 0.1023 - val_accuracy: 0.9712\n",
            "Epoch 2/3\n",
            "266/266 [==============================] - 2s 8ms/step - loss: 0.0734 - accuracy: 0.9772 - val_loss: 0.0799 - val_accuracy: 0.9791\n",
            "Epoch 3/3\n",
            "266/266 [==============================] - 2s 8ms/step - loss: 0.0502 - accuracy: 0.9842 - val_loss: 0.0899 - val_accuracy: 0.9799\n"
          ]
        },
        {
          "output_type": "stream",
          "name": "stderr",
          "text": [
            "\u001b[32m[I 2021-11-10 22:22:01,144]\u001b[0m Trial 80 finished with value: 0.9798941612243652 and parameters: {'num_conv_layers': 3, 'filters': 64, 'kernel_size': 3, 'strides': 2, 'activation': 'relu', 'pool_size': 2, 'num_dense_layers': 2, 'units': 172, 'optimizer_name': 'Adam', 'learning_rate': 0.008013102492516319}. Best is trial 80 with value: 0.9798941612243652.\u001b[0m\n"
          ]
        },
        {
          "output_type": "stream",
          "name": "stdout",
          "text": [
            "Epoch 1/3\n",
            "266/266 [==============================] - 3s 9ms/step - loss: 0.2124 - accuracy: 0.9314 - val_loss: 0.0968 - val_accuracy: 0.9696\n",
            "Epoch 2/3\n",
            "266/266 [==============================] - 2s 8ms/step - loss: 0.0740 - accuracy: 0.9764 - val_loss: 0.0797 - val_accuracy: 0.9780\n",
            "Epoch 3/3\n",
            "266/266 [==============================] - 2s 8ms/step - loss: 0.0489 - accuracy: 0.9840 - val_loss: 0.0946 - val_accuracy: 0.9759\n"
          ]
        },
        {
          "output_type": "stream",
          "name": "stderr",
          "text": [
            "\u001b[32m[I 2021-11-10 22:22:08,752]\u001b[0m Trial 81 finished with value: 0.9759259223937988 and parameters: {'num_conv_layers': 3, 'filters': 64, 'kernel_size': 3, 'strides': 2, 'activation': 'relu', 'pool_size': 2, 'num_dense_layers': 2, 'units': 178, 'optimizer_name': 'Adam', 'learning_rate': 0.0073778435794977625}. Best is trial 80 with value: 0.9798941612243652.\u001b[0m\n"
          ]
        },
        {
          "output_type": "stream",
          "name": "stdout",
          "text": [
            "Epoch 1/3\n",
            "266/266 [==============================] - 3s 9ms/step - loss: 0.2085 - accuracy: 0.9336 - val_loss: 0.1208 - val_accuracy: 0.9638\n",
            "Epoch 2/3\n",
            "266/266 [==============================] - 2s 8ms/step - loss: 0.0692 - accuracy: 0.9791 - val_loss: 0.0976 - val_accuracy: 0.9725\n",
            "Epoch 3/3\n",
            "266/266 [==============================] - 2s 8ms/step - loss: 0.0517 - accuracy: 0.9834 - val_loss: 0.0769 - val_accuracy: 0.9778\n"
          ]
        },
        {
          "output_type": "stream",
          "name": "stderr",
          "text": [
            "\u001b[32m[I 2021-11-10 22:22:16,717]\u001b[0m Trial 82 finished with value: 0.9777777791023254 and parameters: {'num_conv_layers': 3, 'filters': 64, 'kernel_size': 3, 'strides': 2, 'activation': 'relu', 'pool_size': 2, 'num_dense_layers': 2, 'units': 275, 'optimizer_name': 'Adam', 'learning_rate': 0.0072358951716174815}. Best is trial 80 with value: 0.9798941612243652.\u001b[0m\n"
          ]
        },
        {
          "output_type": "stream",
          "name": "stdout",
          "text": [
            "Epoch 1/3\n",
            "266/266 [==============================] - 3s 9ms/step - loss: 0.1974 - accuracy: 0.9353 - val_loss: 0.0940 - val_accuracy: 0.9717\n",
            "Epoch 2/3\n",
            "266/266 [==============================] - 2s 8ms/step - loss: 0.0728 - accuracy: 0.9772 - val_loss: 0.1016 - val_accuracy: 0.9717\n",
            "Epoch 3/3\n",
            "266/266 [==============================] - 2s 8ms/step - loss: 0.0465 - accuracy: 0.9854 - val_loss: 0.0775 - val_accuracy: 0.9757\n"
          ]
        },
        {
          "output_type": "stream",
          "name": "stderr",
          "text": [
            "\u001b[32m[I 2021-11-10 22:22:24,620]\u001b[0m Trial 83 finished with value: 0.9756613969802856 and parameters: {'num_conv_layers': 3, 'filters': 64, 'kernel_size': 3, 'strides': 2, 'activation': 'relu', 'pool_size': 2, 'num_dense_layers': 2, 'units': 279, 'optimizer_name': 'Adam', 'learning_rate': 0.007324663222072133}. Best is trial 80 with value: 0.9798941612243652.\u001b[0m\n"
          ]
        },
        {
          "output_type": "stream",
          "name": "stdout",
          "text": [
            "Epoch 1/3\n",
            "266/266 [==============================] - 3s 9ms/step - loss: 0.2131 - accuracy: 0.9317 - val_loss: 0.0890 - val_accuracy: 0.9738\n",
            "Epoch 2/3\n",
            "266/266 [==============================] - 2s 8ms/step - loss: 0.0665 - accuracy: 0.9795 - val_loss: 0.0795 - val_accuracy: 0.9788\n",
            "Epoch 3/3\n",
            "266/266 [==============================] - 2s 8ms/step - loss: 0.0465 - accuracy: 0.9850 - val_loss: 0.0812 - val_accuracy: 0.9794\n"
          ]
        },
        {
          "output_type": "stream",
          "name": "stderr",
          "text": [
            "\u001b[32m[I 2021-11-10 22:22:35,873]\u001b[0m Trial 84 finished with value: 0.9793650507926941 and parameters: {'num_conv_layers': 3, 'filters': 64, 'kernel_size': 3, 'strides': 2, 'activation': 'relu', 'pool_size': 2, 'num_dense_layers': 2, 'units': 280, 'optimizer_name': 'Adam', 'learning_rate': 0.007439582187097607}. Best is trial 80 with value: 0.9798941612243652.\u001b[0m\n"
          ]
        },
        {
          "output_type": "stream",
          "name": "stdout",
          "text": [
            "Epoch 1/3\n",
            "266/266 [==============================] - 3s 9ms/step - loss: 0.2081 - accuracy: 0.9323 - val_loss: 0.0977 - val_accuracy: 0.9696\n",
            "Epoch 2/3\n",
            "266/266 [==============================] - 2s 8ms/step - loss: 0.0683 - accuracy: 0.9792 - val_loss: 0.0947 - val_accuracy: 0.9757\n",
            "Epoch 3/3\n",
            "266/266 [==============================] - 2s 8ms/step - loss: 0.0489 - accuracy: 0.9845 - val_loss: 0.0850 - val_accuracy: 0.9802\n"
          ]
        },
        {
          "output_type": "stream",
          "name": "stderr",
          "text": [
            "\u001b[32m[I 2021-11-10 22:22:44,172]\u001b[0m Trial 85 finished with value: 0.9801587462425232 and parameters: {'num_conv_layers': 3, 'filters': 64, 'kernel_size': 3, 'strides': 2, 'activation': 'relu', 'pool_size': 2, 'num_dense_layers': 2, 'units': 297, 'optimizer_name': 'Adam', 'learning_rate': 0.007368314178053586}. Best is trial 85 with value: 0.9801587462425232.\u001b[0m\n"
          ]
        },
        {
          "output_type": "stream",
          "name": "stdout",
          "text": [
            "Epoch 1/3\n",
            "266/266 [==============================] - 3s 9ms/step - loss: 0.2096 - accuracy: 0.9328 - val_loss: 0.1029 - val_accuracy: 0.9683\n",
            "Epoch 2/3\n",
            "266/266 [==============================] - 2s 8ms/step - loss: 0.0751 - accuracy: 0.9765 - val_loss: 0.0973 - val_accuracy: 0.9728\n",
            "Epoch 3/3\n",
            "266/266 [==============================] - 2s 8ms/step - loss: 0.0450 - accuracy: 0.9859 - val_loss: 0.1025 - val_accuracy: 0.9741\n"
          ]
        },
        {
          "output_type": "stream",
          "name": "stderr",
          "text": [
            "\u001b[32m[I 2021-11-10 22:22:55,402]\u001b[0m Trial 86 finished with value: 0.9740740656852722 and parameters: {'num_conv_layers': 3, 'filters': 64, 'kernel_size': 3, 'strides': 2, 'activation': 'relu', 'pool_size': 2, 'num_dense_layers': 2, 'units': 294, 'optimizer_name': 'Adam', 'learning_rate': 0.007291551996807878}. Best is trial 85 with value: 0.9801587462425232.\u001b[0m\n"
          ]
        },
        {
          "output_type": "stream",
          "name": "stdout",
          "text": [
            "Epoch 1/3\n",
            "266/266 [==============================] - 3s 9ms/step - loss: 0.2058 - accuracy: 0.9338 - val_loss: 0.0944 - val_accuracy: 0.9725\n",
            "Epoch 2/3\n",
            "266/266 [==============================] - 2s 8ms/step - loss: 0.0706 - accuracy: 0.9786 - val_loss: 0.0865 - val_accuracy: 0.9754\n",
            "Epoch 3/3\n",
            "266/266 [==============================] - 2s 8ms/step - loss: 0.0469 - accuracy: 0.9850 - val_loss: 0.0866 - val_accuracy: 0.9767\n"
          ]
        },
        {
          "output_type": "stream",
          "name": "stderr",
          "text": [
            "\u001b[32m[I 2021-11-10 22:23:06,639]\u001b[0m Trial 87 finished with value: 0.9767195582389832 and parameters: {'num_conv_layers': 3, 'filters': 64, 'kernel_size': 3, 'strides': 2, 'activation': 'relu', 'pool_size': 2, 'num_dense_layers': 2, 'units': 277, 'optimizer_name': 'Adam', 'learning_rate': 0.007482107506295036}. Best is trial 85 with value: 0.9801587462425232.\u001b[0m\n"
          ]
        },
        {
          "output_type": "stream",
          "name": "stdout",
          "text": [
            "Epoch 1/3\n",
            "266/266 [==============================] - 3s 9ms/step - loss: 0.2198 - accuracy: 0.9299 - val_loss: 0.1010 - val_accuracy: 0.9709\n",
            "Epoch 2/3\n",
            "266/266 [==============================] - 2s 8ms/step - loss: 0.0730 - accuracy: 0.9774 - val_loss: 0.0809 - val_accuracy: 0.9778\n",
            "Epoch 3/3\n",
            "266/266 [==============================] - 2s 8ms/step - loss: 0.0493 - accuracy: 0.9842 - val_loss: 0.0915 - val_accuracy: 0.9754\n"
          ]
        },
        {
          "output_type": "stream",
          "name": "stderr",
          "text": [
            "\u001b[32m[I 2021-11-10 22:23:17,896]\u001b[0m Trial 88 finished with value: 0.9753968119621277 and parameters: {'num_conv_layers': 3, 'filters': 64, 'kernel_size': 3, 'strides': 2, 'activation': 'relu', 'pool_size': 2, 'num_dense_layers': 2, 'units': 258, 'optimizer_name': 'Adam', 'learning_rate': 0.007458691564044282}. Best is trial 85 with value: 0.9801587462425232.\u001b[0m\n"
          ]
        },
        {
          "output_type": "stream",
          "name": "stdout",
          "text": [
            "Epoch 1/3\n",
            "266/266 [==============================] - 3s 9ms/step - loss: 0.1930 - accuracy: 0.9385 - val_loss: 0.1085 - val_accuracy: 0.9698\n",
            "Epoch 2/3\n",
            "266/266 [==============================] - 2s 9ms/step - loss: 0.0752 - accuracy: 0.9768 - val_loss: 0.0976 - val_accuracy: 0.9743\n",
            "Epoch 3/3\n",
            "266/266 [==============================] - 2s 9ms/step - loss: 0.0499 - accuracy: 0.9859 - val_loss: 0.0817 - val_accuracy: 0.9791\n"
          ]
        },
        {
          "output_type": "stream",
          "name": "stderr",
          "text": [
            "\u001b[32m[I 2021-11-10 22:23:29,171]\u001b[0m Trial 89 finished with value: 0.9791005253791809 and parameters: {'num_conv_layers': 3, 'filters': 64, 'kernel_size': 5, 'strides': 2, 'activation': 'relu', 'pool_size': 2, 'num_dense_layers': 2, 'units': 293, 'optimizer_name': 'Adam', 'learning_rate': 0.008892613644920576}. Best is trial 85 with value: 0.9801587462425232.\u001b[0m\n"
          ]
        }
      ]
    },
    {
      "cell_type": "code",
      "metadata": {
        "colab": {
          "base_uri": "https://localhost:8080/"
        },
        "id": "Wq4Qbncm4fTl",
        "outputId": "9d920bf3-1b74-47e7-f8f3-5d52393be5c9"
      },
      "source": [
        "study.best_params\n"
      ],
      "execution_count": 61,
      "outputs": [
        {
          "output_type": "execute_result",
          "data": {
            "text/plain": [
              "{'activation': 'relu',\n",
              " 'filters': 64,\n",
              " 'kernel_size': 3,\n",
              " 'learning_rate': 0.007368314178053586,\n",
              " 'num_conv_layers': 3,\n",
              " 'num_dense_layers': 2,\n",
              " 'optimizer_name': 'Adam',\n",
              " 'pool_size': 2,\n",
              " 'strides': 2,\n",
              " 'units': 297}"
            ]
          },
          "metadata": {},
          "execution_count": 61
        }
      ]
    },
    {
      "cell_type": "code",
      "metadata": {
        "colab": {
          "base_uri": "https://localhost:8080/"
        },
        "id": "A9h_pZQw4i-L",
        "outputId": "4c3d3f9a-37d7-4b08-c44e-9775a5e3e828"
      },
      "source": [
        "study.best_value"
      ],
      "execution_count": 62,
      "outputs": [
        {
          "output_type": "execute_result",
          "data": {
            "text/plain": [
              "0.9801587462425232"
            ]
          },
          "metadata": {},
          "execution_count": 62
        }
      ]
    },
    {
      "cell_type": "code",
      "metadata": {
        "colab": {
          "base_uri": "https://localhost:8080/",
          "height": 312
        },
        "id": "pAAsLEVm1DZz",
        "outputId": "08e35db9-b3c8-4ed5-d479-e280f934a3de"
      },
      "source": [
        "#analyze result\n",
        "\n",
        "\n",
        "results = study.trials_dataframe()\n",
        "\n",
        "results['value'].sort_values().reset_index(drop=True).plot()\n",
        "plt.title('convergence plot')\n",
        "plt.xlabel('Iteration')\n",
        "plt.ylabel('Accuracy')"
      ],
      "execution_count": 63,
      "outputs": [
        {
          "output_type": "execute_result",
          "data": {
            "text/plain": [
              "Text(0, 0.5, 'Accuracy')"
            ]
          },
          "metadata": {},
          "execution_count": 63
        },
        {
          "output_type": "display_data",
          "data": {
            "image/png": "[encoded data removed]",
            "text/plain": [
              "<Figure size 432x288 with 1 Axes>"
            ]
          },
          "metadata": {
            "needs_background": "light"
          }
        }
      ]
    },
    {
      "cell_type": "code",
      "metadata": {
        "colab": {
          "base_uri": "https://localhost:8080/"
        },
        "id": "Esa4KhCV1mPP",
        "outputId": "97b147d5-963e-41fb-efe9-c71f8cd753e1"
      },
      "source": [
        "#Evaluate\n",
        "model = load_model(path_best_model)\n",
        "\n",
        "model.summary()"
      ],
      "execution_count": 64,
      "outputs": [
        {
          "output_type": "stream",
          "name": "stdout",
          "text": [
            "Model: \"sequential_85\"\n",
            "_________________________________________________________________\n",
            " Layer (type)                Output Shape              Param #   \n",
            "=================================================================\n",
            " conv2d_85 (Conv2D)          (None, 14, 14, 64)        640       \n",
            "                                                                 \n",
            " max_pooling2d_85 (MaxPoolin  (None, 7, 7, 64)         0         \n",
            " g2D)                                                            \n",
            "                                                                 \n",
            " flatten_85 (Flatten)        (None, 3136)              0         \n",
            "                                                                 \n",
            " dense_245 (Dense)           (None, 297)               931689    \n",
            "                                                                 \n",
            " dense_246 (Dense)           (None, 297)               88506     \n",
            "                                                                 \n",
            " dense_247 (Dense)           (None, 10)                2980      \n",
            "                                                                 \n",
            "=================================================================\n",
            "Total params: 1,023,815\n",
            "Trainable params: 1,023,815\n",
            "Non-trainable params: 0\n",
            "_________________________________________________________________\n"
          ]
        }
      ]
    },
    {
      "cell_type": "code",
      "metadata": {
        "colab": {
          "base_uri": "https://localhost:8080/"
        },
        "id": "Dyiu3UD85wOq",
        "outputId": "f1b52072-39bd-4a4b-d8cd-269c422810ca"
      },
      "source": [
        "results = model.evaluate(x=X_test, y = y_test)"
      ],
      "execution_count": 65,
      "outputs": [
        {
          "output_type": "stream",
          "name": "stdout",
          "text": [
            "132/132 [==============================] - 1s 4ms/step - loss: 0.0784 - accuracy: 0.9783\n"
          ]
        }
      ]
    },
    {
      "cell_type": "code",
      "metadata": {
        "colab": {
          "base_uri": "https://localhost:8080/"
        },
        "id": "RrbeTIaN57OF",
        "outputId": "678ec0af-c110-4b75-82f0-cfa842ecd727"
      },
      "source": [
        "for name , value in zip(model.metrics_names,results):\n",
        "  print(name, value)"
      ],
      "execution_count": 66,
      "outputs": [
        {
          "output_type": "stream",
          "name": "stdout",
          "text": [
            "loss 0.07840806990861893\n",
            "accuracy 0.9783333539962769\n"
          ]
        }
      ]
    },
    {
      "cell_type": "code",
      "metadata": {
        "colab": {
          "base_uri": "https://localhost:8080/"
        },
        "id": "IzhKN-x75_vZ",
        "outputId": "336378bb-c2c1-431b-8de8-addafd4acaac"
      },
      "source": [
        "#confuison matrix\n",
        "y_pred = model.predict(X_test)\n",
        "y_pred_classes= np.argmax(y_pred, axis=1)\n",
        "y_true= np.argmax(y_test, axis=1)\n",
        "\n",
        "cm = confusion_matrix(y_true, y_pred_classes)\n",
        "\n",
        "cm\n"
      ],
      "execution_count": 67,
      "outputs": [
        {
          "output_type": "execute_result",
          "data": {
            "text/plain": [
              "array([[420,   0,   0,   0,   0,   0,   2,   0,   0,   0],\n",
              "       [  0, 466,   4,   0,   0,   0,   1,   0,   2,   0],\n",
              "       [  0,   1, 407,   0,   0,   0,   0,   0,   1,   0],\n",
              "       [  0,   1,   2, 409,   0,   5,   0,   5,   2,   2],\n",
              "       [  1,   1,   0,   0, 422,   0,   3,   0,   0,   2],\n",
              "       [  0,   0,   0,   0,   0, 373,   3,   0,   2,   4],\n",
              "       [  0,   0,   1,   0,   2,   1, 408,   0,   0,   0],\n",
              "       [  0,   1,   8,   0,   0,   1,   0, 455,   1,   3],\n",
              "       [  0,   1,   1,   2,   0,   4,   2,   0, 374,   0],\n",
              "       [  4,   0,   1,   0,   4,   1,   1,   7,   1, 375]])"
            ]
          },
          "metadata": {},
          "execution_count": 67
        }
      ]
    },
    {
      "cell_type": "code",
      "metadata": {
        "colab": {
          "base_uri": "https://localhost:8080/",
          "height": 328
        },
        "id": "MrjeZpnh6nF2",
        "outputId": "d8e40919-1ca9-4fd6-8ead-d9b7ca6e9c75"
      },
      "source": [
        "# let's make it more colourful\n",
        "classes = 10\n",
        "\n",
        "plt.imshow(cm, interpolation='nearest', cmap=plt.cm.Blues)\n",
        "plt.title('Confusion matrix')\n",
        "plt.colorbar()\n",
        "tick_marks = np.arange(classes)\n",
        "plt.xticks(tick_marks, range(classes), rotation=45)\n",
        "plt.yticks(tick_marks, range(classes))\n",
        "\n",
        "for i, j in itertools.product(range(cm.shape[0]), range(cm.shape[1])):\n",
        "    plt.text(j, i, cm[i, j],\n",
        "             horizontalalignment=\"center\",\n",
        "             color=\"white\" if cm[i, j] > 100 else \"black\",\n",
        "            )\n",
        "\n",
        "plt.tight_layout()\n",
        "plt.ylabel('True label')\n",
        "plt.xlabel('Predicted label')"
      ],
      "execution_count": 68,
      "outputs": [
        {
          "output_type": "execute_result",
          "data": {
            "text/plain": [
              "Text(0.5, 13.421126458070283, 'Predicted label')"
            ]
          },
          "metadata": {},
          "execution_count": 68
        },
        {
          "output_type": "display_data",
          "data": {
            "image/png": "[encoded data removed]",
            "text/plain": [
              "<Figure size 432x288 with 2 Axes>"
            ]
          },
          "metadata": {
            "needs_background": "light"
          }
        }
      ]
    }
  ]
}