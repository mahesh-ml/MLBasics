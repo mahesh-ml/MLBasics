{
  "nbformat": 4,
  "nbformat_minor": 0,
  "metadata": {
    "colab": {
      "name": "word-embeddings.ipynb",
      "provenance": [],
      "authorship_tag": "ABX9TyNQDSEk6bEAI2pyB4Onro22",
      "include_colab_link": true
    },
    "kernelspec": {
      "name": "python3",
      "display_name": "Python 3"
    },
    "language_info": {
      "name": "python"
    }
  },
  "cells": [
    {
      "cell_type": "markdown",
      "metadata": {
        "id": "view-in-github",
        "colab_type": "text"
      },
      "source": [
        "<a href=\"https://colab.research.google.com/github/mahesh-ml/MLBasics/blob/main/word_embeddings.ipynb\" target=\"_parent\"><img src=\"https://colab.research.google.com/assets/colab-badge.svg\" alt=\"Open In Colab\"/></a>"
      ]
    },
    {
      "cell_type": "code",
      "metadata": {
        "id": "Y9tlsNPYa3H-"
      },
      "source": [
        "import torch\n",
        "import torch.nn as nn\n",
        "import torch.nn.functional as F\n",
        "import torch.optim as optim"
      ],
      "execution_count": 1,
      "outputs": []
    },
    {
      "cell_type": "code",
      "metadata": {
        "colab": {
          "base_uri": "https://localhost:8080/"
        },
        "id": "XwJY3acHbFVh",
        "outputId": "381e338f-46a4-4e0d-bde2-41d8f7863b05"
      },
      "source": [
        "word_to_index = {'I':0, 'love':1 , 'eating':2 , 'and':3 , 'sleeping':4}\n",
        "embeddings = nn.Embedding(5,7)\n",
        "word_index = torch.tensor([word_to_index['love']])\n",
        "print(word_index)"
      ],
      "execution_count": 4,
      "outputs": [
        {
          "output_type": "stream",
          "name": "stdout",
          "text": [
            "tensor([1])\n"
          ]
        }
      ]
    },
    {
      "cell_type": "code",
      "metadata": {
        "colab": {
          "base_uri": "https://localhost:8080/"
        },
        "id": "xm6hGP70bsfp",
        "outputId": "3942242c-a671-4764-f1c4-f09e864f203e"
      },
      "source": [
        "love = embeddings(word_index)\n",
        "print(love)\n",
        "print(love.shape)"
      ],
      "execution_count": 5,
      "outputs": [
        {
          "output_type": "stream",
          "name": "stdout",
          "text": [
            "tensor([[-0.7758, -0.4335,  0.4740, -0.1518, -0.9459, -0.1036, -0.5740]],\n",
            "       grad_fn=<EmbeddingBackward0>)\n",
            "torch.Size([1, 7])\n"
          ]
        }
      ]
    },
    {
      "cell_type": "code",
      "metadata": {
        "colab": {
          "base_uri": "https://localhost:8080/"
        },
        "id": "Cz9pVwK-cBxI",
        "outputId": "b4b0084d-893b-4aa8-cc4a-a26a57a00971"
      },
      "source": [
        "all_ind = torch.tensor([w for w in range(5)], dtype=torch.long)\n",
        "all_Words = embeddings(all_ind)\n",
        "print(all_ind)\n",
        "print(all_Words)"
      ],
      "execution_count": 9,
      "outputs": [
        {
          "output_type": "stream",
          "name": "stdout",
          "text": [
            "tensor([0, 1, 2, 3, 4])\n",
            "tensor([[-4.3883e-01, -5.1261e-01,  1.2758e-01,  5.5139e-01,  2.3336e+00,\n",
            "         -5.3295e-02,  5.4954e-01],\n",
            "        [-7.7580e-01, -4.3355e-01,  4.7404e-01, -1.5181e-01, -9.4594e-01,\n",
            "         -1.0360e-01, -5.7397e-01],\n",
            "        [-6.8668e-01,  6.5765e-01,  3.5345e-01,  1.6207e+00,  1.9170e+00,\n",
            "          1.6829e+00, -1.0924e+00],\n",
            "        [ 6.5266e-01,  1.4497e-01,  9.2186e-01,  1.1011e+00, -3.3312e-01,\n",
            "         -1.2189e+00,  1.3038e-01],\n",
            "        [-2.7297e-02,  1.5296e-03, -9.4952e-01,  6.8616e-01, -2.2814e-01,\n",
            "          5.7127e-02, -1.4375e+00]], grad_fn=<EmbeddingBackward0>)\n"
          ]
        }
      ]
    },
    {
      "cell_type": "code",
      "metadata": {
        "id": "v3ptmppwckwJ"
      },
      "source": [
        ""
      ],
      "execution_count": null,
      "outputs": []
    }
  ]
}