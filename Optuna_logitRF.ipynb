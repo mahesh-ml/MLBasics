{
  "nbformat": 4,
  "nbformat_minor": 0,
  "metadata": {
    "colab": {
      "name": "Optuna-logitRF.ipynb",
      "provenance": [],
      "authorship_tag": "ABX9TyPyyKq3sFnio4Hiw2Ols4cQ",
      "include_colab_link": true
    },
    "kernelspec": {
      "name": "python3",
      "display_name": "Python 3"
    },
    "language_info": {
      "name": "python"
    }
  },
  "cells": [
    {
      "cell_type": "markdown",
      "metadata": {
        "id": "view-in-github",
        "colab_type": "text"
      },
      "source": [
        "<a href=\"https://colab.research.google.com/github/mahesh-ml/MLBasics/blob/main/Optuna_logitRF.ipynb\" target=\"_parent\"><img src=\"https://colab.research.google.com/assets/colab-badge.svg\" alt=\"Open In Colab\"/></a>"
      ]
    },
    {
      "cell_type": "code",
      "metadata": {
        "colab": {
          "base_uri": "https://localhost:8080/"
        },
        "id": "0JpwXIW8b_Vw",
        "outputId": "721febc4-de6b-4565-a492-4963e0bd7e00"
      },
      "source": [
        "!pip install optuna\n",
        "import numpy as np\n",
        "import pandas as pd\n",
        "import matplotlib.pyplot as plt\n",
        "import optuna\n",
        "\n",
        "from sklearn.datasets import load_breast_cancer\n",
        "from sklearn.metrics import accuracy_score , roc_auc_score\n",
        "from sklearn.model_selection import cross_val_score, train_test_split\n",
        "from sklearn.ensemble import RandomForestClassifier,GradientBoostingClassifier\n",
        "from sklearn.linear_model import LogisticRegression\n",
        "\n",
        "breast_cancer_X , breast_cancer_y = load_breast_cancer(return_X_y=True)\n",
        "X = pd.DataFrame(breast_cancer_X)\n",
        "y = pd.Series(breast_cancer_y).map({0:1, 1:0})\n",
        "\n",
        "X.head()\n",
        "X_train, X_test, y_train, y_test = train_test_split(X,y,test_size=0.3, random_state=0)\n",
        "\n",
        "def objective(trial):\n",
        "    classifier_name = trial.suggest_categorical(\"classifier\",[\"logit\",\"RF\"])\n",
        "    if classifier_name =='logit':\n",
        "              logit_penalty = trial.suggest_categorical('logit_penalty',['l1','l2'])\n",
        "              logit_c= trial.suggest_float('logit_c',0.001,10)\n",
        "              logit_solver='saga'\n",
        "          \n",
        "              model = LogisticRegression(penalty=logit_penalty,\n",
        "                                     C = logit_c,\n",
        "                                     solver=logit_solver\n",
        "                                     )\n",
        "    elif classifier_name =='RF':\n",
        "              rf_n_estimators = trial.suggest_int(\"rf_n_estimators\",100,1000)\n",
        "              rf_criterion = trial.suggest_categorical(\"rf_criterion\",['gini','entropy'])\n",
        "              rf_max_depth= trial.suggest_int(\"rf_max_depth\",1,4)\n",
        "              rf_min_samples_split=trial.suggest_float('rf_min_samples_split',0.01,1)\n",
        "    \n",
        "              model = RandomForestClassifier(n_estimators=rf_n_estimators,\n",
        "                                     criterion=rf_criterion,\n",
        "                                     max_depth=rf_max_depth,\n",
        "                                     min_samples_split=rf_min_samples_split\n",
        "                                     )\n",
        "\n",
        "    score = cross_val_score(model,X_train,y_train,cv=3)\n",
        "    accuracy = score.mean()\n",
        "    return accuracy\n",
        "\n",
        "#randomize search\n",
        "import optuna\n",
        "study = optuna.create_study(\n",
        "        direction=\"maximize\",\n",
        "        sampler=optuna.samplers.RandomSampler()\n",
        "        \n",
        ")\n",
        "\n",
        "study.optimize(objective, n_trials=5)\n",
        "\n",
        "\n",
        "\n",
        "\n",
        "\n",
        "\n",
        "\n"
      ],
      "execution_count": 2,
      "outputs": [
        {
          "output_type": "stream",
          "name": "stdout",
          "text": [
            "Collecting optuna\n",
            "  Downloading optuna-2.10.0-py3-none-any.whl (308 kB)\n",
            "\u001b[K     |████████████████████████████████| 308 kB 7.6 MB/s \n",
            "\u001b[?25hCollecting colorlog\n",
            "  Downloading colorlog-6.6.0-py2.py3-none-any.whl (11 kB)\n",
            "Collecting cliff\n",
            "  Downloading cliff-3.9.0-py3-none-any.whl (80 kB)\n",
            "\u001b[K     |████████████████████████████████| 80 kB 9.7 MB/s \n",
            "\u001b[?25hRequirement already satisfied: numpy in /usr/local/lib/python3.7/dist-packages (from optuna) (1.19.5)\n",
            "Requirement already satisfied: scipy!=1.4.0 in /usr/local/lib/python3.7/dist-packages (from optuna) (1.4.1)\n",
            "Requirement already satisfied: sqlalchemy>=1.1.0 in /usr/local/lib/python3.7/dist-packages (from optuna) (1.4.26)\n",
            "Requirement already satisfied: packaging>=20.0 in /usr/local/lib/python3.7/dist-packages (from optuna) (21.2)\n",
            "Collecting cmaes>=0.8.2\n",
            "  Downloading cmaes-0.8.2-py3-none-any.whl (15 kB)\n",
            "Requirement already satisfied: tqdm in /usr/local/lib/python3.7/dist-packages (from optuna) (4.62.3)\n",
            "Requirement already satisfied: PyYAML in /usr/local/lib/python3.7/dist-packages (from optuna) (3.13)\n",
            "Collecting alembic\n",
            "  Downloading alembic-1.7.4-py3-none-any.whl (209 kB)\n",
            "\u001b[K     |████████████████████████████████| 209 kB 61.8 MB/s \n",
            "\u001b[?25hRequirement already satisfied: pyparsing<3,>=2.0.2 in /usr/local/lib/python3.7/dist-packages (from packaging>=20.0->optuna) (2.4.7)\n",
            "Requirement already satisfied: greenlet!=0.4.17 in /usr/local/lib/python3.7/dist-packages (from sqlalchemy>=1.1.0->optuna) (1.1.2)\n",
            "Requirement already satisfied: importlib-metadata in /usr/local/lib/python3.7/dist-packages (from sqlalchemy>=1.1.0->optuna) (4.8.1)\n",
            "Collecting Mako\n",
            "  Downloading Mako-1.1.5-py2.py3-none-any.whl (75 kB)\n",
            "\u001b[K     |████████████████████████████████| 75 kB 4.5 MB/s \n",
            "\u001b[?25hRequirement already satisfied: importlib-resources in /usr/local/lib/python3.7/dist-packages (from alembic->optuna) (5.4.0)\n",
            "Collecting cmd2>=1.0.0\n",
            "  Downloading cmd2-2.2.0-py3-none-any.whl (144 kB)\n",
            "\u001b[K     |████████████████████████████████| 144 kB 63.3 MB/s \n",
            "\u001b[?25hRequirement already satisfied: PrettyTable>=0.7.2 in /usr/local/lib/python3.7/dist-packages (from cliff->optuna) (2.4.0)\n",
            "Collecting pbr!=2.1.0,>=2.0.0\n",
            "  Downloading pbr-5.7.0-py2.py3-none-any.whl (112 kB)\n",
            "\u001b[K     |████████████████████████████████| 112 kB 75.6 MB/s \n",
            "\u001b[?25hCollecting autopage>=0.4.0\n",
            "  Downloading autopage-0.4.0-py3-none-any.whl (20 kB)\n",
            "Collecting stevedore>=2.0.1\n",
            "  Downloading stevedore-3.5.0-py3-none-any.whl (49 kB)\n",
            "\u001b[K     |████████████████████████████████| 49 kB 5.8 MB/s \n",
            "\u001b[?25hRequirement already satisfied: attrs>=16.3.0 in /usr/local/lib/python3.7/dist-packages (from cmd2>=1.0.0->cliff->optuna) (21.2.0)\n",
            "Collecting pyperclip>=1.6\n",
            "  Downloading pyperclip-1.8.2.tar.gz (20 kB)\n",
            "Requirement already satisfied: typing-extensions in /usr/local/lib/python3.7/dist-packages (from cmd2>=1.0.0->cliff->optuna) (3.10.0.2)\n",
            "Requirement already satisfied: wcwidth>=0.1.7 in /usr/local/lib/python3.7/dist-packages (from cmd2>=1.0.0->cliff->optuna) (0.2.5)\n",
            "Collecting colorama>=0.3.7\n",
            "  Downloading colorama-0.4.4-py2.py3-none-any.whl (16 kB)\n",
            "Requirement already satisfied: zipp>=0.5 in /usr/local/lib/python3.7/dist-packages (from importlib-metadata->sqlalchemy>=1.1.0->optuna) (3.6.0)\n",
            "Requirement already satisfied: MarkupSafe>=0.9.2 in /usr/local/lib/python3.7/dist-packages (from Mako->alembic->optuna) (2.0.1)\n",
            "Building wheels for collected packages: pyperclip\n",
            "  Building wheel for pyperclip (setup.py) ... \u001b[?25l\u001b[?25hdone\n",
            "  Created wheel for pyperclip: filename=pyperclip-1.8.2-py3-none-any.whl size=11136 sha256=bf30993ae351ee56c23bc0406214a915e0d38f8ee77aeddce30a4a2da1ba4ad2\n",
            "  Stored in directory: /root/.cache/pip/wheels/9f/18/84/8f69f8b08169c7bae2dde6bd7daf0c19fca8c8e500ee620a28\n",
            "Successfully built pyperclip\n",
            "Installing collected packages: pyperclip, pbr, colorama, stevedore, Mako, cmd2, autopage, colorlog, cmaes, cliff, alembic, optuna\n",
            "Successfully installed Mako-1.1.5 alembic-1.7.4 autopage-0.4.0 cliff-3.9.0 cmaes-0.8.2 cmd2-2.2.0 colorama-0.4.4 colorlog-6.6.0 optuna-2.10.0 pbr-5.7.0 pyperclip-1.8.2 stevedore-3.5.0\n"
          ]
        },
        {
          "output_type": "stream",
          "name": "stderr",
          "text": [
            "\u001b[32m[I 2021-11-10 20:01:31,626]\u001b[0m A new study created in memory with name: no-name-e906798b-2d68-4cf8-bf82-71617befa02d\u001b[0m\n",
            "\u001b[32m[I 2021-11-10 20:01:32,095]\u001b[0m Trial 0 finished with value: 0.6256360598465861 and parameters: {'classifier': 'RF', 'rf_n_estimators': 104, 'rf_criterion': 'entropy', 'rf_max_depth': 3, 'rf_min_samples_split': 0.8967964785810173}. Best is trial 0 with value: 0.6256360598465861.\u001b[0m\n",
            "\u001b[32m[I 2021-11-10 20:01:36,314]\u001b[0m Trial 1 finished with value: 0.9171223513328776 and parameters: {'classifier': 'RF', 'rf_n_estimators': 878, 'rf_criterion': 'entropy', 'rf_max_depth': 3, 'rf_min_samples_split': 0.6001396602946567}. Best is trial 1 with value: 0.9171223513328776.\u001b[0m\n",
            "/usr/local/lib/python3.7/dist-packages/sklearn/linear_model/_sag.py:330: ConvergenceWarning:\n",
            "\n",
            "The max_iter was reached which means the coef_ did not converge\n",
            "\n",
            "/usr/local/lib/python3.7/dist-packages/sklearn/linear_model/_sag.py:330: ConvergenceWarning:\n",
            "\n",
            "The max_iter was reached which means the coef_ did not converge\n",
            "\n",
            "/usr/local/lib/python3.7/dist-packages/sklearn/linear_model/_sag.py:330: ConvergenceWarning:\n",
            "\n",
            "The max_iter was reached which means the coef_ did not converge\n",
            "\n",
            "\u001b[32m[I 2021-11-10 20:01:36,377]\u001b[0m Trial 2 finished with value: 0.9120148856990963 and parameters: {'classifier': 'logit', 'logit_penalty': 'l1', 'logit_c': 3.734976498310829}. Best is trial 1 with value: 0.9171223513328776.\u001b[0m\n",
            "/usr/local/lib/python3.7/dist-packages/sklearn/linear_model/_sag.py:330: ConvergenceWarning:\n",
            "\n",
            "The max_iter was reached which means the coef_ did not converge\n",
            "\n",
            "/usr/local/lib/python3.7/dist-packages/sklearn/linear_model/_sag.py:330: ConvergenceWarning:\n",
            "\n",
            "The max_iter was reached which means the coef_ did not converge\n",
            "\n",
            "/usr/local/lib/python3.7/dist-packages/sklearn/linear_model/_sag.py:330: ConvergenceWarning:\n",
            "\n",
            "The max_iter was reached which means the coef_ did not converge\n",
            "\n",
            "\u001b[32m[I 2021-11-10 20:01:36,441]\u001b[0m Trial 3 finished with value: 0.9120148856990963 and parameters: {'classifier': 'logit', 'logit_penalty': 'l1', 'logit_c': 7.1191694930833}. Best is trial 1 with value: 0.9171223513328776.\u001b[0m\n",
            "\u001b[32m[I 2021-11-10 20:01:38,927]\u001b[0m Trial 4 finished with value: 0.6256360598465861 and parameters: {'classifier': 'RF', 'rf_n_estimators': 587, 'rf_criterion': 'gini', 'rf_max_depth': 2, 'rf_min_samples_split': 0.6665838819609679}. Best is trial 1 with value: 0.9171223513328776.\u001b[0m\n"
          ]
        },
        {
          "output_type": "stream",
          "name": "stdout",
          "text": [
            "Best Param ---- {'classifier': 'RF', 'rf_n_estimators': 878, 'rf_criterion': 'entropy', 'rf_max_depth': 3, 'rf_min_samples_split': 0.6001396602946567}\n",
            "Best accuracy----  0.9171223513328776\n",
            "experiment table----    number     value  ... params_rf_n_estimators     state\n",
            "0       0  0.625636  ...                  104.0  COMPLETE\n",
            "1       1  0.917122  ...                  878.0  COMPLETE\n",
            "2       2  0.912015  ...                    NaN  COMPLETE\n",
            "3       3  0.912015  ...                    NaN  COMPLETE\n",
            "4       4  0.625636  ...                  587.0  COMPLETE\n",
            "\n",
            "[5 rows x 13 columns]\n"
          ]
        }
      ]
    },
    {
      "cell_type": "code",
      "metadata": {
        "colab": {
          "base_uri": "https://localhost:8080/"
        },
        "id": "yBvLYwB5cbJP",
        "outputId": "cad09241-2e5a-4286-9333-adb6d2668e0f"
      },
      "source": [
        "print('Best Param ----' ,study.best_params)\n",
        "\n",
        "\n",
        "print('Best accuracy---- ',study.best_value)\n",
        "\n",
        "\n",
        "print(study.trials_dataframe())"
      ],
      "execution_count": 3,
      "outputs": [
        {
          "output_type": "stream",
          "name": "stdout",
          "text": [
            "Best Param ---- {'classifier': 'RF', 'rf_n_estimators': 878, 'rf_criterion': 'entropy', 'rf_max_depth': 3, 'rf_min_samples_split': 0.6001396602946567}\n",
            "Best accuracy----  0.9171223513328776\n",
            "   number     value  ... params_rf_n_estimators     state\n",
            "0       0  0.625636  ...                  104.0  COMPLETE\n",
            "1       1  0.917122  ...                  878.0  COMPLETE\n",
            "2       2  0.912015  ...                    NaN  COMPLETE\n",
            "3       3  0.912015  ...                    NaN  COMPLETE\n",
            "4       4  0.625636  ...                  587.0  COMPLETE\n",
            "\n",
            "[5 rows x 13 columns]\n"
          ]
        }
      ]
    }
  ]
}