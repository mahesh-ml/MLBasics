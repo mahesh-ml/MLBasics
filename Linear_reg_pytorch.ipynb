{
  "nbformat": 4,
  "nbformat_minor": 0,
  "metadata": {
    "colab": {
      "name": "Linear-reg-pytorch.ipynb",
      "provenance": [],
      "authorship_tag": "ABX9TyMUnFHbv9fBTaKaYdAxoWL0",
      "include_colab_link": true
    },
    "kernelspec": {
      "name": "python3",
      "display_name": "Python 3"
    },
    "language_info": {
      "name": "python"
    }
  },
  "cells": [
    {
      "cell_type": "markdown",
      "metadata": {
        "id": "view-in-github",
        "colab_type": "text"
      },
      "source": [
        "<a href=\"https://colab.research.google.com/github/mahesh-ml/MLBasics/blob/main/Linear_reg_pytorch.ipynb\" target=\"_parent\"><img src=\"https://colab.research.google.com/assets/colab-badge.svg\" alt=\"Open In Colab\"/></a>"
      ]
    },
    {
      "cell_type": "code",
      "metadata": {
        "colab": {
          "base_uri": "https://localhost:8080/"
        },
        "id": "VOX1Jb1yHfcP",
        "outputId": "7e7e4893-f020-47f7-8bd0-97b85d8d0486"
      },
      "source": [
        "!pip install torch"
      ],
      "execution_count": 119,
      "outputs": [
        {
          "output_type": "stream",
          "name": "stdout",
          "text": [
            "Requirement already satisfied: torch in /usr/local/lib/python3.7/dist-packages (1.10.0+cu111)\n",
            "Requirement already satisfied: typing-extensions in /usr/local/lib/python3.7/dist-packages (from torch) (3.10.0.2)\n"
          ]
        }
      ]
    },
    {
      "cell_type": "code",
      "metadata": {
        "id": "h179le9xwbGd"
      },
      "source": [
        "import torch\n",
        "from torch.nn import Linear\n",
        "import torch.nn as nn\n"
      ],
      "execution_count": 120,
      "outputs": []
    },
    {
      "cell_type": "code",
      "metadata": {
        "id": "gAzuwcpzwoyq"
      },
      "source": [
        "\n"
      ],
      "execution_count": 120,
      "outputs": []
    },
    {
      "cell_type": "code",
      "metadata": {
        "id": "IacbD1wJxHfS"
      },
      "source": [
        ""
      ],
      "execution_count": 120,
      "outputs": []
    },
    {
      "cell_type": "code",
      "metadata": {
        "id": "RwiQS8XuxSpE"
      },
      "source": [
        "class LR(nn.Module):\n",
        "  def __init__(self,input_size, output_size):\n",
        "    super().__init__()\n",
        "    self.linear=nn.Linear(input_size,output_size)\n",
        "  def forward(self,x):\n",
        "    pred=self.linear(x)\n",
        "    return pred\n",
        "\n"
      ],
      "execution_count": 121,
      "outputs": []
    },
    {
      "cell_type": "code",
      "metadata": {
        "id": "cBz8nKRbyxF_"
      },
      "source": [
        "model=LR(1,1)"
      ],
      "execution_count": 122,
      "outputs": []
    },
    {
      "cell_type": "code",
      "metadata": {
        "id": "FdjtAJtJy5AH"
      },
      "source": [
        ""
      ],
      "execution_count": 122,
      "outputs": []
    },
    {
      "cell_type": "code",
      "metadata": {
        "id": "PZPjO6ljy9aA"
      },
      "source": [
        "criterion = nn.L1Loss()\n",
        "optimizer = torch.optim.SGD(model.parameters(),lr=0.01)\n"
      ],
      "execution_count": 123,
      "outputs": []
    },
    {
      "cell_type": "code",
      "metadata": {
        "colab": {
          "base_uri": "https://localhost:8080/",
          "height": 279
        },
        "id": "iqa27ZCz3F1Z",
        "outputId": "e6c8f154-7f41-4319-8dc7-9b3b0e8c6430"
      },
      "source": [
        "import matplotlib.pyplot as plt\n",
        "\n",
        "X = torch.randn(100,1)*10\n",
        "y = X + 5*torch.randn(100,1)\n",
        "plt.plot(X.numpy(),Y.numpy(),'o')\n",
        "plt.ylabel('y')\n",
        "plt.xlabel('x')\n",
        "plt.show()"
      ],
      "execution_count": 124,
      "outputs": [
        {
          "output_type": "display_data",
          "data": {
            "image/png": "[encoded data removed]",
            "text/plain": [
              "<Figure size 432x288 with 1 Axes>"
            ]
          },
          "metadata": {
            "needs_background": "light"
          }
        }
      ]
    },
    {
      "cell_type": "code",
      "metadata": {
        "colab": {
          "base_uri": "https://localhost:8080/"
        },
        "id": "Ews9056y0ZyT",
        "outputId": "694d7207-964e-4a07-801a-2c4e96687e03"
      },
      "source": [
        "epochs = 50\n",
        "losses =[]\n",
        "for i in range(epochs):\n",
        "  y_pred = model.forward(X)\n",
        "  loss = criterion(y_pred, y)\n",
        "  print(\"epoch:\" , i, \"loss:\" , loss.item())\n",
        "  losses.append(loss)\n",
        "  \n",
        "  optimizer.zero_grad()\n",
        "  loss.backward()\n",
        "  optimizer.step()\n"
      ],
      "execution_count": 125,
      "outputs": [
        {
          "output_type": "stream",
          "name": "stdout",
          "text": [
            "epoch: 0 loss: 11.445805549621582\n",
            "epoch: 1 loss: 11.055948257446289\n",
            "epoch: 2 loss: 10.670541763305664\n",
            "epoch: 3 loss: 10.285135269165039\n",
            "epoch: 4 loss: 9.899934768676758\n",
            "epoch: 5 loss: 9.527103424072266\n",
            "epoch: 6 loss: 9.15427017211914\n",
            "epoch: 7 loss: 8.781437873840332\n",
            "epoch: 8 loss: 8.408604621887207\n",
            "epoch: 9 loss: 8.03695297241211\n",
            "epoch: 10 loss: 7.671575546264648\n",
            "epoch: 11 loss: 7.320489406585693\n",
            "epoch: 12 loss: 7.0081095695495605\n",
            "epoch: 13 loss: 6.718075752258301\n",
            "epoch: 14 loss: 6.428041934967041\n",
            "epoch: 15 loss: 6.138007640838623\n",
            "epoch: 16 loss: 5.857685565948486\n",
            "epoch: 17 loss: 5.60035514831543\n",
            "epoch: 18 loss: 5.364132881164551\n",
            "epoch: 19 loss: 5.150134086608887\n",
            "epoch: 20 loss: 5.003296375274658\n",
            "epoch: 21 loss: 4.857786655426025\n",
            "epoch: 22 loss: 4.719646453857422\n",
            "epoch: 23 loss: 4.591009140014648\n",
            "epoch: 24 loss: 4.465426921844482\n",
            "epoch: 25 loss: 4.36154317855835\n",
            "epoch: 26 loss: 4.266643047332764\n",
            "epoch: 27 loss: 4.188077926635742\n",
            "epoch: 28 loss: 4.125607967376709\n",
            "epoch: 29 loss: 4.081959247589111\n",
            "epoch: 30 loss: 4.038310527801514\n",
            "epoch: 31 loss: 4.002967357635498\n",
            "epoch: 32 loss: 3.9823551177978516\n",
            "epoch: 33 loss: 3.9652035236358643\n",
            "epoch: 34 loss: 3.9500701427459717\n",
            "epoch: 35 loss: 3.9421417713165283\n",
            "epoch: 36 loss: 3.938885450363159\n",
            "epoch: 37 loss: 3.9382598400115967\n",
            "epoch: 38 loss: 3.9377450942993164\n",
            "epoch: 39 loss: 3.9378838539123535\n",
            "epoch: 40 loss: 3.9373950958251953\n",
            "epoch: 41 loss: 3.9368808269500732\n",
            "epoch: 42 loss: 3.936882257461548\n",
            "epoch: 43 loss: 3.936530113220215\n",
            "epoch: 44 loss: 3.9360158443450928\n",
            "epoch: 45 loss: 3.935880184173584\n",
            "epoch: 46 loss: 3.9356658458709717\n",
            "epoch: 47 loss: 3.9351513385772705\n",
            "epoch: 48 loss: 3.9348785877227783\n",
            "epoch: 49 loss: 3.9349205493927\n"
          ]
        }
      ]
    },
    {
      "cell_type": "code",
      "metadata": {
        "colab": {
          "base_uri": "https://localhost:8080/",
          "height": 297
        },
        "id": "ht4eaxja1-IB",
        "outputId": "3826d3b7-c274-449b-f998-8dba45467a98"
      },
      "source": [
        "plt.plot(range(epochs), losses)\n",
        "plt.ylabel('Loss')\n",
        "plt.xlabel('epoch')\n"
      ],
      "execution_count": 126,
      "outputs": [
        {
          "output_type": "execute_result",
          "data": {
            "text/plain": [
              "Text(0.5, 0, 'epoch')"
            ]
          },
          "metadata": {},
          "execution_count": 126
        },
        {
          "output_type": "display_data",
          "data": {
            "image/png": "[encoded data removed]",
            "text/plain": [
              "<Figure size 432x288 with 1 Axes>"
            ]
          },
          "metadata": {
            "needs_background": "light"
          }
        }
      ]
    },
    {
      "cell_type": "code",
      "metadata": {
        "id": "8QI4Ta2N6gQO"
      },
      "source": [
        ""
      ],
      "execution_count": 126,
      "outputs": []
    }
  ]
}